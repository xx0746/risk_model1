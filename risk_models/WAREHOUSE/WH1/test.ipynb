{
 "cells": [
  {
   "cell_type": "code",
   "execution_count": 2,
   "metadata": {},
   "outputs": [],
   "source": [
    "import sys\n",
    "import os\n",
    "from os import path\n",
    "\n",
    "sys.path.append('C:\\\\Users\\\\Administrator\\\\Desktop\\\\风控产品\\\\risk_project')\n",
    "from risk_models import *"
   ]
  },
  {
   "cell_type": "code",
   "execution_count": 6,
   "metadata": {},
   "outputs": [
    {
     "name": "stderr",
     "output_type": "stream",
     "text": [
      "2021-06-04 13:48:25.784 | INFO     | risk_models.config.read_config.read_func:read_oracle:82 - Read Table successfully! , Total read time spent 17.63s\n"
     ]
    }
   ],
   "source": [
    "sql = f\"\"\"\\\n",
    "SELECT ID,I_E_MARK,CUSTOMS_CODE,I_E_PORT,I_E_DATE,FIRST_DECL_TIME,TRAF_MODE,GOODS_OWNER FROM {TableList.FT_I_DTL_SEA_PRE_RECORDED.value} WHERE ISDELETED = 0 AND TRADE_CODE_SCC LIKE '91310115688774070B' AND I_E_DATE >= DATE'2019-02-01' AND I_E_DATE <= DATE'2021-02-01'\n",
    "\"\"\"\n",
    "CUS_SEA_HEAD_I = Read_Oracle().read_oracle(sql=sql, database='dbdw')"
   ]
  },
  {
   "cell_type": "code",
   "execution_count": 3,
   "metadata": {},
   "outputs": [
    {
     "ename": "KeyboardInterrupt",
     "evalue": "",
     "output_type": "error",
     "traceback": [
      "\u001b[1;31m---------------------------------------------------------------------------\u001b[0m",
      "\u001b[1;31mKeyboardInterrupt\u001b[0m                         Traceback (most recent call last)",
      "\u001b[1;32m<ipython-input-3-4fcd2827a069>\u001b[0m in \u001b[0;36m<module>\u001b[1;34m\u001b[0m\n\u001b[0;32m      2\u001b[0m \u001b[0mSELECT\u001b[0m \u001b[1;33m*\u001b[0m \u001b[0mFROM\u001b[0m \u001b[1;33m(\u001b[0m\u001b[0mselect\u001b[0m \u001b[1;33m*\u001b[0m \u001b[1;32mfrom\u001b[0m \u001b[0mODS_ZMXPQ\u001b[0m\u001b[1;33m.\u001b[0m\u001b[0mSTOCK_BILL\u001b[0m \u001b[0mwhere\u001b[0m \u001b[0morg_code\u001b[0m \u001b[0mlike\u001b[0m \u001b[1;34m'91310115688774070B'\u001b[0m \u001b[1;32mand\u001b[0m \u001b[0miscurrent\u001b[0m \u001b[1;33m=\u001b[0m \u001b[1;36m1\u001b[0m \u001b[1;32mand\u001b[0m \u001b[0mdclcus_flag\u001b[0m \u001b[1;33m=\u001b[0m \u001b[1;36m1\u001b[0m\u001b[1;33m)\u001b[0m \u001b[0mWHERE\u001b[0m \u001b[0mROWNUM\u001b[0m\u001b[1;33m<=\u001b[0m\u001b[1;36m100000\u001b[0m\u001b[1;33m\u001b[0m\u001b[1;33m\u001b[0m\u001b[0m\n\u001b[0;32m      3\u001b[0m \"\"\"\n\u001b[1;32m----> 4\u001b[1;33m \u001b[0mSTOCK_BILL\u001b[0m \u001b[1;33m=\u001b[0m \u001b[0mRead_Oracle\u001b[0m\u001b[1;33m(\u001b[0m\u001b[1;33m)\u001b[0m\u001b[1;33m.\u001b[0m\u001b[0mread_oracle\u001b[0m\u001b[1;33m(\u001b[0m\u001b[0msql\u001b[0m\u001b[1;33m=\u001b[0m\u001b[0msql\u001b[0m\u001b[1;33m,\u001b[0m \u001b[0mdatabase\u001b[0m\u001b[1;33m=\u001b[0m\u001b[1;34m'dbods'\u001b[0m\u001b[1;33m)\u001b[0m\u001b[1;33m\u001b[0m\u001b[1;33m\u001b[0m\u001b[0m\n\u001b[0m",
      "\u001b[1;32m~\\Desktop\\bychen\\Anaconda\\lib\\site-packages\\loguru\\_logger.py\u001b[0m in \u001b[0;36mcatch_wrapper\u001b[1;34m(*args, **kwargs)\u001b[0m\n\u001b[0;32m   1218\u001b[0m                     \u001b[1;32mdef\u001b[0m \u001b[0mcatch_wrapper\u001b[0m\u001b[1;33m(\u001b[0m\u001b[1;33m*\u001b[0m\u001b[0margs\u001b[0m\u001b[1;33m,\u001b[0m \u001b[1;33m**\u001b[0m\u001b[0mkwargs\u001b[0m\u001b[1;33m)\u001b[0m\u001b[1;33m:\u001b[0m\u001b[1;33m\u001b[0m\u001b[1;33m\u001b[0m\u001b[0m\n\u001b[0;32m   1219\u001b[0m                         \u001b[1;32mwith\u001b[0m \u001b[0mcatcher\u001b[0m\u001b[1;33m:\u001b[0m\u001b[1;33m\u001b[0m\u001b[1;33m\u001b[0m\u001b[0m\n\u001b[1;32m-> 1220\u001b[1;33m                             \u001b[1;32mreturn\u001b[0m \u001b[0mfunction\u001b[0m\u001b[1;33m(\u001b[0m\u001b[1;33m*\u001b[0m\u001b[0margs\u001b[0m\u001b[1;33m,\u001b[0m \u001b[1;33m**\u001b[0m\u001b[0mkwargs\u001b[0m\u001b[1;33m)\u001b[0m\u001b[1;33m\u001b[0m\u001b[1;33m\u001b[0m\u001b[0m\n\u001b[0m\u001b[0;32m   1221\u001b[0m                         \u001b[1;32mreturn\u001b[0m \u001b[0mdefault\u001b[0m\u001b[1;33m\u001b[0m\u001b[1;33m\u001b[0m\u001b[0m\n\u001b[0;32m   1222\u001b[0m \u001b[1;33m\u001b[0m\u001b[0m\n",
      "\u001b[1;32m~\\Desktop\\风控产品\\risk_project\\risk_models\\config\\read_config\\read_func.py\u001b[0m in \u001b[0;36mread_oracle\u001b[1;34m(self, sql, database)\u001b[0m\n\u001b[0;32m     69\u001b[0m         \u001b[0msql\u001b[0m \u001b[1;33m=\u001b[0m \u001b[0msql\u001b[0m\u001b[1;33m\u001b[0m\u001b[1;33m\u001b[0m\u001b[0m\n\u001b[0;32m     70\u001b[0m         \u001b[1;32mif\u001b[0m \u001b[0mdatabase\u001b[0m \u001b[1;33m==\u001b[0m \u001b[1;34m'dbods'\u001b[0m\u001b[1;33m:\u001b[0m\u001b[1;33m\u001b[0m\u001b[1;33m\u001b[0m\u001b[0m\n\u001b[1;32m---> 71\u001b[1;33m             \u001b[0mdata_df\u001b[0m \u001b[1;33m=\u001b[0m \u001b[0mself\u001b[0m\u001b[1;33m.\u001b[0m\u001b[0mread_ods\u001b[0m\u001b[1;33m(\u001b[0m\u001b[0msql\u001b[0m\u001b[1;33m)\u001b[0m\u001b[1;33m\u001b[0m\u001b[1;33m\u001b[0m\u001b[0m\n\u001b[0m\u001b[0;32m     72\u001b[0m         \u001b[1;32melif\u001b[0m \u001b[0mdatabase\u001b[0m \u001b[1;33m==\u001b[0m \u001b[1;34m'dbdw'\u001b[0m\u001b[1;33m:\u001b[0m\u001b[1;33m\u001b[0m\u001b[1;33m\u001b[0m\u001b[0m\n\u001b[0;32m     73\u001b[0m             \u001b[0mdata_df\u001b[0m \u001b[1;33m=\u001b[0m \u001b[0mself\u001b[0m\u001b[1;33m.\u001b[0m\u001b[0mread_dw\u001b[0m\u001b[1;33m(\u001b[0m\u001b[0msql\u001b[0m\u001b[1;33m)\u001b[0m\u001b[1;33m\u001b[0m\u001b[1;33m\u001b[0m\u001b[0m\n",
      "\u001b[1;32m~\\Desktop\\风控产品\\risk_project\\risk_models\\config\\read_config\\read_func.py\u001b[0m in \u001b[0;36mread_ods\u001b[1;34m(self, sql)\u001b[0m\n\u001b[0;32m     22\u001b[0m         \u001b[0mdata_gen\u001b[0m \u001b[1;33m=\u001b[0m \u001b[0mpd\u001b[0m\u001b[1;33m.\u001b[0m\u001b[0mread_sql\u001b[0m\u001b[1;33m(\u001b[0m\u001b[0mcon\u001b[0m\u001b[1;33m=\u001b[0m\u001b[0mconn\u001b[0m\u001b[1;33m,\u001b[0m \u001b[0msql\u001b[0m\u001b[1;33m=\u001b[0m\u001b[0msql\u001b[0m\u001b[1;33m,\u001b[0m\u001b[0mchunksize\u001b[0m\u001b[1;33m=\u001b[0m\u001b[1;36m100000\u001b[0m\u001b[1;33m)\u001b[0m\u001b[1;33m\u001b[0m\u001b[1;33m\u001b[0m\u001b[0m\n\u001b[0;32m     23\u001b[0m         \u001b[0mgen_list\u001b[0m \u001b[1;33m=\u001b[0m \u001b[1;33m[\u001b[0m\u001b[1;33m]\u001b[0m\u001b[1;33m\u001b[0m\u001b[1;33m\u001b[0m\u001b[0m\n\u001b[1;32m---> 24\u001b[1;33m         \u001b[1;32mfor\u001b[0m \u001b[0mgen\u001b[0m \u001b[1;32min\u001b[0m \u001b[0mdata_gen\u001b[0m\u001b[1;33m:\u001b[0m\u001b[1;33m\u001b[0m\u001b[1;33m\u001b[0m\u001b[0m\n\u001b[0m\u001b[0;32m     25\u001b[0m             \u001b[0mgen_list\u001b[0m\u001b[1;33m.\u001b[0m\u001b[0mappend\u001b[0m\u001b[1;33m(\u001b[0m\u001b[0mgen\u001b[0m\u001b[1;33m)\u001b[0m\u001b[1;33m\u001b[0m\u001b[1;33m\u001b[0m\u001b[0m\n\u001b[0;32m     26\u001b[0m         \u001b[1;32mif\u001b[0m \u001b[0mlen\u001b[0m\u001b[1;33m(\u001b[0m\u001b[0mgen_list\u001b[0m\u001b[1;33m)\u001b[0m \u001b[1;33m==\u001b[0m\u001b[1;36m0\u001b[0m\u001b[1;33m:\u001b[0m\u001b[1;33m\u001b[0m\u001b[1;33m\u001b[0m\u001b[0m\n",
      "\u001b[1;32m~\\Desktop\\bychen\\Anaconda\\lib\\site-packages\\pandas\\io\\sql.py\u001b[0m in \u001b[0;36m_query_iterator\u001b[1;34m(cursor, chunksize, columns, index_col, coerce_float, parse_dates)\u001b[0m\n\u001b[0;32m   1706\u001b[0m                 \u001b[1;32mbreak\u001b[0m\u001b[1;33m\u001b[0m\u001b[1;33m\u001b[0m\u001b[0m\n\u001b[0;32m   1707\u001b[0m             \u001b[1;32melse\u001b[0m\u001b[1;33m:\u001b[0m\u001b[1;33m\u001b[0m\u001b[1;33m\u001b[0m\u001b[0m\n\u001b[1;32m-> 1708\u001b[1;33m                 yield _wrap_result(\n\u001b[0m\u001b[0;32m   1709\u001b[0m                     \u001b[0mdata\u001b[0m\u001b[1;33m,\u001b[0m\u001b[1;33m\u001b[0m\u001b[1;33m\u001b[0m\u001b[0m\n\u001b[0;32m   1710\u001b[0m                     \u001b[0mcolumns\u001b[0m\u001b[1;33m,\u001b[0m\u001b[1;33m\u001b[0m\u001b[1;33m\u001b[0m\u001b[0m\n",
      "\u001b[1;32m~\\Desktop\\bychen\\Anaconda\\lib\\site-packages\\pandas\\io\\sql.py\u001b[0m in \u001b[0;36m_wrap_result\u001b[1;34m(data, columns, index_col, coerce_float, parse_dates)\u001b[0m\n\u001b[0;32m    122\u001b[0m \u001b[1;32mdef\u001b[0m \u001b[0m_wrap_result\u001b[0m\u001b[1;33m(\u001b[0m\u001b[0mdata\u001b[0m\u001b[1;33m,\u001b[0m \u001b[0mcolumns\u001b[0m\u001b[1;33m,\u001b[0m \u001b[0mindex_col\u001b[0m\u001b[1;33m=\u001b[0m\u001b[1;32mNone\u001b[0m\u001b[1;33m,\u001b[0m \u001b[0mcoerce_float\u001b[0m\u001b[1;33m=\u001b[0m\u001b[1;32mTrue\u001b[0m\u001b[1;33m,\u001b[0m \u001b[0mparse_dates\u001b[0m\u001b[1;33m=\u001b[0m\u001b[1;32mNone\u001b[0m\u001b[1;33m)\u001b[0m\u001b[1;33m:\u001b[0m\u001b[1;33m\u001b[0m\u001b[1;33m\u001b[0m\u001b[0m\n\u001b[0;32m    123\u001b[0m     \u001b[1;34m\"\"\"Wrap result set of query in a DataFrame.\"\"\"\u001b[0m\u001b[1;33m\u001b[0m\u001b[1;33m\u001b[0m\u001b[0m\n\u001b[1;32m--> 124\u001b[1;33m     \u001b[0mframe\u001b[0m \u001b[1;33m=\u001b[0m \u001b[0mDataFrame\u001b[0m\u001b[1;33m.\u001b[0m\u001b[0mfrom_records\u001b[0m\u001b[1;33m(\u001b[0m\u001b[0mdata\u001b[0m\u001b[1;33m,\u001b[0m \u001b[0mcolumns\u001b[0m\u001b[1;33m=\u001b[0m\u001b[0mcolumns\u001b[0m\u001b[1;33m,\u001b[0m \u001b[0mcoerce_float\u001b[0m\u001b[1;33m=\u001b[0m\u001b[0mcoerce_float\u001b[0m\u001b[1;33m)\u001b[0m\u001b[1;33m\u001b[0m\u001b[1;33m\u001b[0m\u001b[0m\n\u001b[0m\u001b[0;32m    125\u001b[0m \u001b[1;33m\u001b[0m\u001b[0m\n\u001b[0;32m    126\u001b[0m     \u001b[0mframe\u001b[0m \u001b[1;33m=\u001b[0m \u001b[0m_parse_date_columns\u001b[0m\u001b[1;33m(\u001b[0m\u001b[0mframe\u001b[0m\u001b[1;33m,\u001b[0m \u001b[0mparse_dates\u001b[0m\u001b[1;33m)\u001b[0m\u001b[1;33m\u001b[0m\u001b[1;33m\u001b[0m\u001b[0m\n",
      "\u001b[1;32m~\\Desktop\\bychen\\Anaconda\\lib\\site-packages\\pandas\\core\\frame.py\u001b[0m in \u001b[0;36mfrom_records\u001b[1;34m(cls, data, index, exclude, columns, coerce_float, nrows)\u001b[0m\n\u001b[0;32m   1829\u001b[0m             \u001b[0mcolumns\u001b[0m \u001b[1;33m=\u001b[0m \u001b[0mcolumns\u001b[0m\u001b[1;33m.\u001b[0m\u001b[0mdrop\u001b[0m\u001b[1;33m(\u001b[0m\u001b[0mexclude\u001b[0m\u001b[1;33m)\u001b[0m\u001b[1;33m\u001b[0m\u001b[1;33m\u001b[0m\u001b[0m\n\u001b[0;32m   1830\u001b[0m \u001b[1;33m\u001b[0m\u001b[0m\n\u001b[1;32m-> 1831\u001b[1;33m         \u001b[0mmgr\u001b[0m \u001b[1;33m=\u001b[0m \u001b[0marrays_to_mgr\u001b[0m\u001b[1;33m(\u001b[0m\u001b[0marrays\u001b[0m\u001b[1;33m,\u001b[0m \u001b[0marr_columns\u001b[0m\u001b[1;33m,\u001b[0m \u001b[0mresult_index\u001b[0m\u001b[1;33m,\u001b[0m \u001b[0mcolumns\u001b[0m\u001b[1;33m)\u001b[0m\u001b[1;33m\u001b[0m\u001b[1;33m\u001b[0m\u001b[0m\n\u001b[0m\u001b[0;32m   1832\u001b[0m \u001b[1;33m\u001b[0m\u001b[0m\n\u001b[0;32m   1833\u001b[0m         \u001b[1;32mreturn\u001b[0m \u001b[0mcls\u001b[0m\u001b[1;33m(\u001b[0m\u001b[0mmgr\u001b[0m\u001b[1;33m)\u001b[0m\u001b[1;33m\u001b[0m\u001b[1;33m\u001b[0m\u001b[0m\n",
      "\u001b[1;32m~\\Desktop\\bychen\\Anaconda\\lib\\site-packages\\pandas\\core\\internals\\construction.py\u001b[0m in \u001b[0;36marrays_to_mgr\u001b[1;34m(arrays, arr_names, index, columns, dtype, verify_integrity)\u001b[0m\n\u001b[0;32m     91\u001b[0m     \u001b[0maxes\u001b[0m \u001b[1;33m=\u001b[0m \u001b[1;33m[\u001b[0m\u001b[0mcolumns\u001b[0m\u001b[1;33m,\u001b[0m \u001b[0mindex\u001b[0m\u001b[1;33m]\u001b[0m\u001b[1;33m\u001b[0m\u001b[1;33m\u001b[0m\u001b[0m\n\u001b[0;32m     92\u001b[0m \u001b[1;33m\u001b[0m\u001b[0m\n\u001b[1;32m---> 93\u001b[1;33m     \u001b[1;32mreturn\u001b[0m \u001b[0mcreate_block_manager_from_arrays\u001b[0m\u001b[1;33m(\u001b[0m\u001b[0marrays\u001b[0m\u001b[1;33m,\u001b[0m \u001b[0marr_names\u001b[0m\u001b[1;33m,\u001b[0m \u001b[0maxes\u001b[0m\u001b[1;33m)\u001b[0m\u001b[1;33m\u001b[0m\u001b[1;33m\u001b[0m\u001b[0m\n\u001b[0m\u001b[0;32m     94\u001b[0m \u001b[1;33m\u001b[0m\u001b[0m\n\u001b[0;32m     95\u001b[0m \u001b[1;33m\u001b[0m\u001b[0m\n",
      "\u001b[1;32m~\\Desktop\\bychen\\Anaconda\\lib\\site-packages\\pandas\\core\\internals\\managers.py\u001b[0m in \u001b[0;36mcreate_block_manager_from_arrays\u001b[1;34m(arrays, names, axes)\u001b[0m\n\u001b[0;32m   1681\u001b[0m \u001b[1;33m\u001b[0m\u001b[0m\n\u001b[0;32m   1682\u001b[0m     \u001b[1;32mtry\u001b[0m\u001b[1;33m:\u001b[0m\u001b[1;33m\u001b[0m\u001b[1;33m\u001b[0m\u001b[0m\n\u001b[1;32m-> 1683\u001b[1;33m         \u001b[0mblocks\u001b[0m \u001b[1;33m=\u001b[0m \u001b[0mform_blocks\u001b[0m\u001b[1;33m(\u001b[0m\u001b[0marrays\u001b[0m\u001b[1;33m,\u001b[0m \u001b[0mnames\u001b[0m\u001b[1;33m,\u001b[0m \u001b[0maxes\u001b[0m\u001b[1;33m)\u001b[0m\u001b[1;33m\u001b[0m\u001b[1;33m\u001b[0m\u001b[0m\n\u001b[0m\u001b[0;32m   1684\u001b[0m         \u001b[0mmgr\u001b[0m \u001b[1;33m=\u001b[0m \u001b[0mBlockManager\u001b[0m\u001b[1;33m(\u001b[0m\u001b[0mblocks\u001b[0m\u001b[1;33m,\u001b[0m \u001b[0maxes\u001b[0m\u001b[1;33m)\u001b[0m\u001b[1;33m\u001b[0m\u001b[1;33m\u001b[0m\u001b[0m\n\u001b[0;32m   1685\u001b[0m         \u001b[0mmgr\u001b[0m\u001b[1;33m.\u001b[0m\u001b[0m_consolidate_inplace\u001b[0m\u001b[1;33m(\u001b[0m\u001b[1;33m)\u001b[0m\u001b[1;33m\u001b[0m\u001b[1;33m\u001b[0m\u001b[0m\n",
      "\u001b[1;32m~\\Desktop\\bychen\\Anaconda\\lib\\site-packages\\pandas\\core\\internals\\managers.py\u001b[0m in \u001b[0;36mform_blocks\u001b[1;34m(arrays, names, axes)\u001b[0m\n\u001b[0;32m   1770\u001b[0m \u001b[1;33m\u001b[0m\u001b[0m\n\u001b[0;32m   1771\u001b[0m     \u001b[1;32mif\u001b[0m \u001b[0mlen\u001b[0m\u001b[1;33m(\u001b[0m\u001b[0mitems_dict\u001b[0m\u001b[1;33m[\u001b[0m\u001b[1;34m\"ObjectBlock\"\u001b[0m\u001b[1;33m]\u001b[0m\u001b[1;33m)\u001b[0m \u001b[1;33m>\u001b[0m \u001b[1;36m0\u001b[0m\u001b[1;33m:\u001b[0m\u001b[1;33m\u001b[0m\u001b[1;33m\u001b[0m\u001b[0m\n\u001b[1;32m-> 1772\u001b[1;33m         \u001b[0mobject_blocks\u001b[0m \u001b[1;33m=\u001b[0m \u001b[0m_simple_blockify\u001b[0m\u001b[1;33m(\u001b[0m\u001b[0mitems_dict\u001b[0m\u001b[1;33m[\u001b[0m\u001b[1;34m\"ObjectBlock\"\u001b[0m\u001b[1;33m]\u001b[0m\u001b[1;33m,\u001b[0m \u001b[0mnp\u001b[0m\u001b[1;33m.\u001b[0m\u001b[0mobject_\u001b[0m\u001b[1;33m)\u001b[0m\u001b[1;33m\u001b[0m\u001b[1;33m\u001b[0m\u001b[0m\n\u001b[0m\u001b[0;32m   1773\u001b[0m         \u001b[0mblocks\u001b[0m\u001b[1;33m.\u001b[0m\u001b[0mextend\u001b[0m\u001b[1;33m(\u001b[0m\u001b[0mobject_blocks\u001b[0m\u001b[1;33m)\u001b[0m\u001b[1;33m\u001b[0m\u001b[1;33m\u001b[0m\u001b[0m\n\u001b[0;32m   1774\u001b[0m \u001b[1;33m\u001b[0m\u001b[0m\n",
      "\u001b[1;32m~\\Desktop\\bychen\\Anaconda\\lib\\site-packages\\pandas\\core\\internals\\managers.py\u001b[0m in \u001b[0;36m_simple_blockify\u001b[1;34m(tuples, dtype)\u001b[0m\n\u001b[0;32m   1815\u001b[0m     \u001b[1;32mnot\u001b[0m \u001b[1;32mNone\u001b[0m\u001b[1;33m,\u001b[0m \u001b[0mcoerce\u001b[0m \u001b[0mto\u001b[0m \u001b[0mthis\u001b[0m \u001b[0mdtype\u001b[0m\u001b[1;33m\u001b[0m\u001b[1;33m\u001b[0m\u001b[0m\n\u001b[0;32m   1816\u001b[0m     \"\"\"\n\u001b[1;32m-> 1817\u001b[1;33m     \u001b[0mvalues\u001b[0m\u001b[1;33m,\u001b[0m \u001b[0mplacement\u001b[0m \u001b[1;33m=\u001b[0m \u001b[0m_stack_arrays\u001b[0m\u001b[1;33m(\u001b[0m\u001b[0mtuples\u001b[0m\u001b[1;33m,\u001b[0m \u001b[0mdtype\u001b[0m\u001b[1;33m)\u001b[0m\u001b[1;33m\u001b[0m\u001b[1;33m\u001b[0m\u001b[0m\n\u001b[0m\u001b[0;32m   1818\u001b[0m \u001b[1;33m\u001b[0m\u001b[0m\n\u001b[0;32m   1819\u001b[0m     \u001b[1;31m# TODO: CHECK DTYPE?\u001b[0m\u001b[1;33m\u001b[0m\u001b[1;33m\u001b[0m\u001b[1;33m\u001b[0m\u001b[0m\n",
      "\u001b[1;32m~\\Desktop\\bychen\\Anaconda\\lib\\site-packages\\pandas\\core\\internals\\managers.py\u001b[0m in \u001b[0;36m_stack_arrays\u001b[1;34m(tuples, dtype)\u001b[0m\n\u001b[0;32m   1863\u001b[0m     \u001b[0mstacked\u001b[0m \u001b[1;33m=\u001b[0m \u001b[0mnp\u001b[0m\u001b[1;33m.\u001b[0m\u001b[0mempty\u001b[0m\u001b[1;33m(\u001b[0m\u001b[0mshape\u001b[0m\u001b[1;33m,\u001b[0m \u001b[0mdtype\u001b[0m\u001b[1;33m=\u001b[0m\u001b[0mdtype\u001b[0m\u001b[1;33m)\u001b[0m\u001b[1;33m\u001b[0m\u001b[1;33m\u001b[0m\u001b[0m\n\u001b[0;32m   1864\u001b[0m     \u001b[1;32mfor\u001b[0m \u001b[0mi\u001b[0m\u001b[1;33m,\u001b[0m \u001b[0marr\u001b[0m \u001b[1;32min\u001b[0m \u001b[0menumerate\u001b[0m\u001b[1;33m(\u001b[0m\u001b[0marrays\u001b[0m\u001b[1;33m)\u001b[0m\u001b[1;33m:\u001b[0m\u001b[1;33m\u001b[0m\u001b[1;33m\u001b[0m\u001b[0m\n\u001b[1;32m-> 1865\u001b[1;33m         \u001b[0mstacked\u001b[0m\u001b[1;33m[\u001b[0m\u001b[0mi\u001b[0m\u001b[1;33m]\u001b[0m \u001b[1;33m=\u001b[0m \u001b[0m_asarray_compat\u001b[0m\u001b[1;33m(\u001b[0m\u001b[0marr\u001b[0m\u001b[1;33m)\u001b[0m\u001b[1;33m\u001b[0m\u001b[1;33m\u001b[0m\u001b[0m\n\u001b[0m\u001b[0;32m   1866\u001b[0m \u001b[1;33m\u001b[0m\u001b[0m\n\u001b[0;32m   1867\u001b[0m     \u001b[1;32mreturn\u001b[0m \u001b[0mstacked\u001b[0m\u001b[1;33m,\u001b[0m \u001b[0mplacement\u001b[0m\u001b[1;33m\u001b[0m\u001b[1;33m\u001b[0m\u001b[0m\n",
      "\u001b[1;31mKeyboardInterrupt\u001b[0m: "
     ]
    }
   ],
   "source": [
    "sql = f\"\"\"\\\n",
    "SELECT * FROM (select * from ODS_ZMXPQ.STOCK_BILL where org_code like '91310115688774070B' and iscurrent = 1 and dclcus_flag = 1) WHERE ROWNUM<=100000\n",
    "\"\"\"\n",
    "STOCK_BILL = Read_Oracle().read_oracle(sql=sql, database='dbods')"
   ]
  },
  {
   "cell_type": "code",
   "execution_count": 28,
   "metadata": {},
   "outputs": [
    {
     "name": "stderr",
     "output_type": "stream",
     "text": [
      "<ipython-input-28-662d05e3dc00>:6: FutureWarning: Indexing with multiple keys (implicitly converted to a tuple of keys) will be deprecated, use a list instead.\n",
      "  stock_bill_sum = STOCK_BILL.groupby(['ORG_CODE','ENTRY_NO','ENTRY_GDS_SEQNO'])['QTY','QTY_1','QTY_2','TRADE_TOTAL'].sum()\n"
     ]
    }
   ],
   "source": [
    "STOCK_BILL['TRADE_TOTAL'] = STOCK_BILL['TRADE_TOTAL'].astype(float)\n",
    "STOCK_BILL['QTY'] = STOCK_BILL['QTY'].astype(float)\n",
    "STOCK_BILL['QTY_1'] = STOCK_BILL['QTY_1'].astype(float)\n",
    "STOCK_BILL['QTY_2'] = STOCK_BILL['QTY_2'].astype(float)\n",
    "\n",
    "stock_bill_sum = STOCK_BILL.groupby(['ORG_CODE','ENTRY_NO','ENTRY_GDS_SEQNO'])['QTY','QTY_1','QTY_2','TRADE_TOTAL'].sum()\n",
    "stock_bill_sum = stock_bill_sum.reset_index()\n",
    "stock_info = STOCK_BILL[['ORG_CODE','ENTRY_NO','ENTRY_GDS_SEQNO',\n",
    "                                   'STOCK_BILL_TYPE','STOCK_TYPE','BILL_TYPE',\n",
    "                                  'BUSINESS_TYPE','BILL_STATUS','CLASSIFY_TYPE',\n",
    "                                  'SUPV_MODE','TRAF_MODE','I_E_PORT','CUSTOMS_CODE',\n",
    "                                 'G_NAME','G_MODEL','ORIGIN_COUNTRY_CODE','HS_CODE','G_UNIT','UNIT_1',\n",
    "                                  'UNIT_2','UNIT_PRICE','TRADE_CURR','STARTDT']].copy()\n",
    "\n",
    "stock_info = stock_info.drop_duplicates(subset=['ORG_CODE','ENTRY_NO','ENTRY_GDS_SEQNO'])\n",
    "stock_bill_clean = pd.merge(stock_bill_sum,stock_info,how='left',left_on=['ORG_CODE','ENTRY_NO','ENTRY_GDS_SEQNO'],\n",
    "                right_on=['ORG_CODE','ENTRY_NO','ENTRY_GDS_SEQNO'])\n",
    "stock_bill_clean['TRADE_CURR'].replace(to_replace=list(DIM_CURR['CURRENCY_CODE']),value=list(DIM_CURR['CUS_CURRENCY_CODE']),inplace=True)\n",
    "stock_bill_clean['ENTRY_GDS_SEQNO'] = stock_bill_clean['ENTRY_GDS_SEQNO'].astype(int)\n"
   ]
  },
  {
   "cell_type": "code",
   "execution_count": 29,
   "metadata": {},
   "outputs": [
    {
     "name": "stdout",
     "output_type": "stream",
     "text": [
      "<class 'pandas.core.frame.DataFrame'>\n",
      "RangeIndex: 100000 entries, 0 to 99999\n",
      "Data columns (total 67 columns):\n",
      " #   Column               Non-Null Count   Dtype         \n",
      "---  ------               --------------   -----         \n",
      " 0   ORG_CODE             100000 non-null  object        \n",
      " 1   ORG_KEY              100000 non-null  int64         \n",
      " 2   ORG_NAME             100000 non-null  object        \n",
      " 3   ID                   100000 non-null  object        \n",
      " 4   STOCK_BILL_TYPE      100000 non-null  object        \n",
      " 5   STOCK_BILL_NO        100000 non-null  object        \n",
      " 6   STOCK_TYPE           100000 non-null  object        \n",
      " 7   BILL_TYPE            100000 non-null  object        \n",
      " 8   TRADE_CODE           52273 non-null   object        \n",
      " 9   TRADE_NAME           52273 non-null   object        \n",
      " 10  OWNER_NAME           0 non-null       object        \n",
      " 11  BUSINESS_TYPE        100000 non-null  object        \n",
      " 12  DECL_STOCK_DATE      55138 non-null   datetime64[ns]\n",
      " 13  ACTRUAL_STOCK_DATE   55143 non-null   datetime64[ns]\n",
      " 14  BILL_STATUS          0 non-null       object        \n",
      " 15  CLASSIFY_TYPE        100000 non-null  object        \n",
      " 16  SUPV_MODE            48162 non-null   object        \n",
      " 17  TRAF_MODE            51842 non-null   object        \n",
      " 18  I_E_PORT             51842 non-null   object        \n",
      " 19  CUSTOMS_CODE         52273 non-null   object        \n",
      " 20  DESTINATION_CODE     51842 non-null   object        \n",
      " 21  STSHIP_TRSARV_CODE   51842 non-null   object        \n",
      " 22  TRADE_COUNTRY_CODE   97022 non-null   object        \n",
      " 23  DISTRICT_CODE        51838 non-null   object        \n",
      " 24  TRANS_MODE           51842 non-null   object        \n",
      " 25  COP_G_NO             99995 non-null   object        \n",
      " 26  G_NAME               100000 non-null  object        \n",
      " 27  G_MODEL              99996 non-null   object        \n",
      " 28  ORIGIN_COUNTRY_CODE  100000 non-null  object        \n",
      " 29  HS_CODE              100000 non-null  object        \n",
      " 30  CIQ_CODE             76077 non-null   object        \n",
      " 31  QTY                  100000 non-null  float64       \n",
      " 32  G_UNIT               100000 non-null  object        \n",
      " 33  QTY_1                100000 non-null  float64       \n",
      " 34  UNIT_1               100000 non-null  object        \n",
      " 35  QTY_2                100000 non-null  float64       \n",
      " 36  UNIT_2               63946 non-null   object        \n",
      " 37  NET_WT               100000 non-null  object        \n",
      " 38  GROSS_WT             100000 non-null  object        \n",
      " 39  WH_NO                100000 non-null  object        \n",
      " 40  WH_LOC               100000 non-null  object        \n",
      " 41  ORDER_NO             68500 non-null   object        \n",
      " 42  TRADE_CURR           100000 non-null  object        \n",
      " 43  UNIT_PRICE           100000 non-null  object        \n",
      " 44  RLT_INVT_NO          97355 non-null   object        \n",
      " 45  TRANSIT_TIME         0 non-null       object        \n",
      " 46  DCLCUS_FLAG          100000 non-null  object        \n",
      " 47  ENTRY_NO             89223 non-null   object        \n",
      " 48  BILL_NO              46159 non-null   object        \n",
      " 49  PASS_TIME            0 non-null       object        \n",
      " 50  RLT_ENTRY_NO         0 non-null       object        \n",
      " 51  ENTRY_GDS_SEQNO      100000 non-null  object        \n",
      " 52  INPUTDBTIME          100000 non-null  datetime64[ns]\n",
      " 53  SNAPSHOTID           100000 non-null  object        \n",
      " 54  ISCURRENT            100000 non-null  int64         \n",
      " 55  ISDELETED            100000 non-null  int64         \n",
      " 56  SYSTEMKEY            100000 non-null  int64         \n",
      " 57  FEED                 100000 non-null  object        \n",
      " 58  FEEDKEY              100000 non-null  object        \n",
      " 59  FEEDVALUE            100000 non-null  object        \n",
      " 60  LASTUPDATEDDT        100000 non-null  datetime64[ns]\n",
      " 61  STARTDT              100000 non-null  datetime64[ns]\n",
      " 62  ENDDT                72 non-null      datetime64[ns]\n",
      " 63  CAPXACTION           100000 non-null  object        \n",
      " 64  BILL_DETAIL_SEQNO    100000 non-null  object        \n",
      " 65  TRADE_TOTAL          100000 non-null  float64       \n",
      " 66  ID_FACTTECHNICALID   100000 non-null  object        \n",
      "dtypes: datetime64[ns](6), float64(4), int64(4), object(53)\n",
      "memory usage: 51.1+ MB\n"
     ]
    }
   ],
   "source": [
    "STOCK_BILL.info()"
   ]
  },
  {
   "cell_type": "code",
   "execution_count": 32,
   "metadata": {},
   "outputs": [
    {
     "name": "stderr",
     "output_type": "stream",
     "text": [
      "<ipython-input-32-11be24a62a63>:6: FutureWarning: Indexing with multiple keys (implicitly converted to a tuple of keys) will be deprecated, use a list instead.\n",
      "  stock_bill_sum = STOCK_BILL.groupby(['ORG_CODE','ENTRY_NO','ENTRY_GDS_SEQNO'])['QTY','QTY_1','QTY_2','TRADE_TOTAL'].sum()\n"
     ]
    }
   ],
   "source": [
    "STOCK_BILL['TRADE_TOTAL'] = STOCK_BILL['TRADE_TOTAL'].astype(float)\n",
    "STOCK_BILL['QTY'] = STOCK_BILL['QTY'].astype(float)\n",
    "STOCK_BILL['QTY_1'] = STOCK_BILL['QTY_1'].astype(float)\n",
    "STOCK_BILL['QTY_2'] = STOCK_BILL['QTY_2'].astype(float)\n",
    "\n",
    "stock_bill_sum = STOCK_BILL.groupby(['ORG_CODE','ENTRY_NO','ENTRY_GDS_SEQNO'])['QTY','QTY_1','QTY_2','TRADE_TOTAL'].sum()\n",
    "stock_bill_sum = stock_bill_sum.reset_index()\n",
    "stock_info = STOCK_BILL[['ORG_CODE','ENTRY_NO','ENTRY_GDS_SEQNO',\n",
    "                                   'STOCK_BILL_TYPE','STOCK_TYPE','BILL_TYPE',\n",
    "                                  'BUSINESS_TYPE','BILL_STATUS','CLASSIFY_TYPE',\n",
    "                                  'SUPV_MODE','TRAF_MODE','I_E_PORT','CUSTOMS_CODE',\n",
    "                                 'G_NAME','G_MODEL','ORIGIN_COUNTRY_CODE','HS_CODE','G_UNIT','UNIT_1',\n",
    "                                  'UNIT_2','TRADE_CURR','STARTDT']].copy()\n",
    "\n",
    "stock_info = stock_info.drop_duplicates(subset=['ORG_CODE','ENTRY_NO','ENTRY_GDS_SEQNO'])\n",
    "stock_bill_clean = pd.merge(stock_bill_sum,stock_info,how='left',left_on=['ORG_CODE','ENTRY_NO','ENTRY_GDS_SEQNO'],\n",
    "                right_on=['ORG_CODE','ENTRY_NO','ENTRY_GDS_SEQNO'])\n",
    "stock_bill_clean['TRADE_CURR'].replace(to_replace=list(DIM_CURR['CURRENCY_CODE']),value=list(DIM_CURR['CUS_CURRENCY_CODE']),inplace=True)\n",
    "stock_bill_clean['ENTRY_GDS_SEQNO'] = stock_bill_clean['ENTRY_GDS_SEQNO'].astype(int)\n",
    "\n",
    "stock_bill_clean = stock_bill_clean.reset_index().rename(columns = {'index':'ID'})\n",
    "now = datetime.datetime.strftime(datetime.datetime.now(), format='%Y-%m-%d %H:%M:%S')\n",
    "stock_bill_clean['CHECK_TIME']=now\n",
    "stock_bill_clean['CHECK_TIME']= pd.to_datetime(stock_bill_clean['CHECK_TIME'], format='%Y-%m-%d %H:%M:%S')\n",
    "stock_bill_clean['TRADE_TOTAL'] = stock_bill_clean['TRADE_TOTAL'].astype(float)\n",
    "stock_bill_clean['QTY'] = stock_bill_clean['QTY'].astype(float)\n",
    "stock_bill_clean['QTY_1'] = stock_bill_clean['QTY_1'].astype(float)\n",
    "stock_bill_clean['QTY_2'] = stock_bill_clean['QTY_2'].astype(float)"
   ]
  },
  {
   "cell_type": "code",
   "execution_count": 31,
   "metadata": {},
   "outputs": [
    {
     "data": {
      "text/plain": [
       "Index(['ORG_CODE', 'ENTRY_NO', 'ENTRY_GDS_SEQNO', 'QTY', 'QTY_1', 'QTY_2',\n",
       "       'TRADE_TOTAL', 'STOCK_BILL_TYPE', 'STOCK_TYPE', 'BILL_TYPE',\n",
       "       'BUSINESS_TYPE', 'BILL_STATUS', 'CLASSIFY_TYPE', 'SUPV_MODE',\n",
       "       'TRAF_MODE', 'I_E_PORT', 'CUSTOMS_CODE', 'G_NAME', 'G_MODEL',\n",
       "       'ORIGIN_COUNTRY_CODE', 'HS_CODE', 'G_UNIT', 'UNIT_1', 'UNIT_2',\n",
       "       'UNIT_PRICE', 'TRADE_CURR', 'STARTDT'],\n",
       "      dtype='object')"
      ]
     },
     "execution_count": 31,
     "metadata": {},
     "output_type": "execute_result"
    }
   ],
   "source": [
    "stock_bill_clean.columns"
   ]
  },
  {
   "cell_type": "code",
   "execution_count": 33,
   "metadata": {},
   "outputs": [
    {
     "name": "stdout",
     "output_type": "stream",
     "text": [
      "<class 'pandas.core.frame.DataFrame'>\n",
      "RangeIndex: 25792 entries, 0 to 25791\n",
      "Data columns (total 28 columns):\n",
      " #   Column               Non-Null Count  Dtype         \n",
      "---  ------               --------------  -----         \n",
      " 0   ID                   25792 non-null  int64         \n",
      " 1   ORG_CODE             25792 non-null  object        \n",
      " 2   ENTRY_NO             25792 non-null  object        \n",
      " 3   ENTRY_GDS_SEQNO      25792 non-null  int32         \n",
      " 4   QTY                  25792 non-null  float64       \n",
      " 5   QTY_1                25792 non-null  float64       \n",
      " 6   QTY_2                25792 non-null  float64       \n",
      " 7   TRADE_TOTAL          25792 non-null  float64       \n",
      " 8   STOCK_BILL_TYPE      25792 non-null  object        \n",
      " 9   STOCK_TYPE           25792 non-null  object        \n",
      " 10  BILL_TYPE            25792 non-null  object        \n",
      " 11  BUSINESS_TYPE        25792 non-null  object        \n",
      " 12  BILL_STATUS          0 non-null      object        \n",
      " 13  CLASSIFY_TYPE        25792 non-null  object        \n",
      " 14  SUPV_MODE            12008 non-null  object        \n",
      " 15  TRAF_MODE            13788 non-null  object        \n",
      " 16  I_E_PORT             13788 non-null  object        \n",
      " 17  CUSTOMS_CODE         13927 non-null  object        \n",
      " 18  G_NAME               25792 non-null  object        \n",
      " 19  G_MODEL              25788 non-null  object        \n",
      " 20  ORIGIN_COUNTRY_CODE  25792 non-null  object        \n",
      " 21  HS_CODE              25792 non-null  object        \n",
      " 22  G_UNIT               25792 non-null  object        \n",
      " 23  UNIT_1               25792 non-null  object        \n",
      " 24  UNIT_2               14331 non-null  object        \n",
      " 25  TRADE_CURR           25792 non-null  object        \n",
      " 26  STARTDT              25792 non-null  datetime64[ns]\n",
      " 27  CHECK_TIME           25792 non-null  datetime64[ns]\n",
      "dtypes: datetime64[ns](2), float64(4), int32(1), int64(1), object(20)\n",
      "memory usage: 5.4+ MB\n"
     ]
    }
   ],
   "source": [
    "stock_bill_clean.info()"
   ]
  },
  {
   "cell_type": "code",
   "execution_count": 3,
   "metadata": {},
   "outputs": [
    {
     "name": "stderr",
     "output_type": "stream",
     "text": [
      "2021-06-04 09:26:30.338 | INFO     | risk_models.config.read_config.read_func:read_oracle:82 - Read Table successfully! , Total read time spent 38.08s\n",
      "2021-06-04 09:27:32.672 | INFO     | risk_models.config.read_config.read_func:read_oracle:82 - Read Table successfully! , Total read time spent 62.31s\n",
      "2021-06-04 09:30:11.865 | INFO     | risk_models.config.read_config.read_func:read_oracle:82 - Read Table successfully! , Total read time spent 159.1s\n",
      "2021-06-04 09:33:05.317 | INFO     | risk_models.config.read_config.read_func:read_oracle:82 - Read Table successfully! , Total read time spent 173.4s\n"
     ]
    }
   ],
   "source": [
    "sql = f\"\"\"\\\n",
    "SELECT ID,I_E_MARK,CUSTOMS_CODE,I_E_PORT,I_E_DATE,FIRST_DECL_TIME,TRAF_MODE,GOODS_OWNER FROM DW_I_BASIC.FT_I_DTL_SEA_PRE_RECORDED WHERE ISDELETED = 0 AND TRADE_CODE_SCC LIKE '91310115688774070B'\n",
    "\"\"\"\n",
    "CUS_SEA_HEAD_I = Read_Oracle().read_oracle(sql=sql, database='dbdw')\n",
    "\n",
    "sql = f\"\"\"\\\n",
    "SELECT HEAD_ID, ENTRY_NO, GOODS_NO, GOODS_CODE, GOODS_NAME, GOODS_MODEL, \n",
    "ORG_CODE_CY, G_QTY, G_UNIT, QTY_1, UNIT_1, QTY_2, UNIT_2, TRADE_CURR_CODE, \n",
    "DECL_TOTAL,'SEA' AS SRC FROM DW_I_BASIC.FT_I_DTL_SEA_LIST WHERE ISDELETED = 0\n",
    "AND HEAD_ID IN\n",
    "(SELECT ID FROM DW_I_BASIC.FT_I_DTL_SEA_PRE_RECORDED WHERE ISDELETED = 0 AND TRADE_CODE_SCC LIKE '91310115688774070B')\n",
    "\"\"\"\n",
    "CUS_SEA_LIST_I = Read_Oracle().read_oracle(sql=sql, database='dbdw')\n",
    "\n",
    "sql = f\"\"\"\\\n",
    "SELECT ID,I_E_MARK,CUSTOMS_CODE,I_E_PORT,I_E_DATE,FIRST_DECL_TIME,TRAF_MODE,GOODS_OWNER FROM DW_I_BASIC.FT_I_DTL_OTR_PRE_RECORDED WHERE ISDELETED = 0 AND TRADE_CODE_SCC LIKE '91310115688774070B'\n",
    "\"\"\"\n",
    "CUS_OTR_HEAD_I = Read_Oracle().read_oracle(sql=sql, database='dbdw')\n",
    "\n",
    "sql = f\"\"\"\\\n",
    "SELECT HEAD_ID, ENTRY_NO, GOODS_NO, GOODS_CODE, GOODS_NAME, GOODS_MODEL, \n",
    "ORG_CODE_CY, G_QTY, G_UNIT, QTY_1, UNIT_1, QTY_2, UNIT_2, TRADE_CURR_CODE, \n",
    "DECL_TOTAL,'OTR' AS SRC FROM DW_I_BASIC.FT_I_DTL_OTR_LIST WHERE ISDELETED = 0\n",
    "AND HEAD_ID IN\n",
    "(SELECT ID FROM DW_I_BASIC.FT_I_DTL_OTR_PRE_RECORDED WHERE ISDELETED = 0 AND TRADE_CODE_SCC LIKE '91310115688774070B')\n",
    "\"\"\"\n",
    "CUS_OTR_LIST_I = Read_Oracle().read_oracle(sql=sql, database='dbdw')"
   ]
  },
  {
   "cell_type": "code",
   "execution_count": 4,
   "metadata": {},
   "outputs": [],
   "source": [
    "CUS_SEA_IMPORT = pd.merge(CUS_SEA_HEAD_I,CUS_SEA_LIST_I,how='inner',left_on=['ID'],right_on=['HEAD_ID'])\n",
    "CUS_SEA_IMPORT = CUS_SEA_IMPORT.drop_duplicates(subset=['ENTRY_NO','GOODS_NO'])\n",
    "\n",
    "CUS_OTR_IMPORT = pd.merge(CUS_OTR_HEAD_I,CUS_OTR_LIST_I,how='inner',left_on=['ID'],right_on=['HEAD_ID'])\n",
    "CUS_OTR_IMPORT = CUS_OTR_IMPORT.drop_duplicates(subset=['ENTRY_NO','GOODS_NO'])"
   ]
  },
  {
   "cell_type": "code",
   "execution_count": 5,
   "metadata": {},
   "outputs": [],
   "source": [
    "CUS_DATA = pd.concat([CUS_SEA_IMPORT,CUS_OTR_IMPORT])"
   ]
  },
  {
   "cell_type": "code",
   "execution_count": 7,
   "metadata": {},
   "outputs": [
    {
     "data": {
      "text/html": [
       "<div>\n",
       "<style scoped>\n",
       "    .dataframe tbody tr th:only-of-type {\n",
       "        vertical-align: middle;\n",
       "    }\n",
       "\n",
       "    .dataframe tbody tr th {\n",
       "        vertical-align: top;\n",
       "    }\n",
       "\n",
       "    .dataframe thead th {\n",
       "        text-align: right;\n",
       "    }\n",
       "</style>\n",
       "<table border=\"1\" class=\"dataframe\">\n",
       "  <thead>\n",
       "    <tr style=\"text-align: right;\">\n",
       "      <th></th>\n",
       "      <th>ID</th>\n",
       "      <th>I_E_MARK</th>\n",
       "      <th>CUSTOMS_CODE</th>\n",
       "      <th>I_E_PORT</th>\n",
       "      <th>I_E_DATE</th>\n",
       "      <th>FIRST_DECL_TIME</th>\n",
       "      <th>TRAF_MODE</th>\n",
       "      <th>GOODS_OWNER</th>\n",
       "      <th>HEAD_ID</th>\n",
       "      <th>ENTRY_NO</th>\n",
       "      <th>...</th>\n",
       "      <th>ORG_CODE_CY</th>\n",
       "      <th>G_QTY</th>\n",
       "      <th>G_UNIT</th>\n",
       "      <th>QTY_1</th>\n",
       "      <th>UNIT_1</th>\n",
       "      <th>QTY_2</th>\n",
       "      <th>UNIT_2</th>\n",
       "      <th>TRADE_CURR_CODE</th>\n",
       "      <th>DECL_TOTAL</th>\n",
       "      <th>SRC</th>\n",
       "    </tr>\n",
       "  </thead>\n",
       "  <tbody>\n",
       "  </tbody>\n",
       "</table>\n",
       "<p>0 rows × 24 columns</p>\n",
       "</div>"
      ],
      "text/plain": [
       "Empty DataFrame\n",
       "Columns: [ID, I_E_MARK, CUSTOMS_CODE, I_E_PORT, I_E_DATE, FIRST_DECL_TIME, TRAF_MODE, GOODS_OWNER, HEAD_ID, ENTRY_NO, GOODS_NO, GOODS_CODE, GOODS_NAME, GOODS_MODEL, ORG_CODE_CY, G_QTY, G_UNIT, QTY_1, UNIT_1, QTY_2, UNIT_2, TRADE_CURR_CODE, DECL_TOTAL, SRC]\n",
       "Index: []\n",
       "\n",
       "[0 rows x 24 columns]"
      ]
     },
     "execution_count": 7,
     "metadata": {},
     "output_type": "execute_result"
    }
   ],
   "source": [
    "CUS_DATA[pd.isnull(CUS_DATA['SRC'])]"
   ]
  },
  {
   "cell_type": "code",
   "execution_count": 21,
   "metadata": {},
   "outputs": [
    {
     "data": {
      "text/plain": [
       "Index(['ID', 'I_E_MARK', 'CUSTOMS_CODE', 'I_E_PORT', 'I_E_DATE',\n",
       "       'FIRST_DECL_TIME', 'TRAF_MODE', 'GOODS_OWNER', 'HEAD_ID', 'ENTRY_NO',\n",
       "       'GOODS_NO', 'GOODS_CODE', 'GOODS_NAME', 'GOODS_MODEL', 'ORG_CODE_CY',\n",
       "       'G_QTY', 'G_UNIT', 'QTY_1', 'UNIT_1', 'QTY_2', 'UNIT_2',\n",
       "       'TRADE_CURR_CODE', 'DECL_TOTAL', 'SRC'],\n",
       "      dtype='object')"
      ]
     },
     "execution_count": 21,
     "metadata": {},
     "output_type": "execute_result"
    }
   ],
   "source": [
    "CUS_DATA.columns"
   ]
  },
  {
   "cell_type": "code",
   "execution_count": 20,
   "metadata": {},
   "outputs": [
    {
     "name": "stdout",
     "output_type": "stream",
     "text": [
      "<class 'pandas.core.frame.DataFrame'>\n",
      "RangeIndex: 23570 entries, 0 to 23569\n",
      "Data columns (total 24 columns):\n",
      " #   Column           Non-Null Count  Dtype         \n",
      "---  ------           --------------  -----         \n",
      " 0   ID               23570 non-null  int64         \n",
      " 1   I_E_MARK         23570 non-null  object        \n",
      " 2   CUSTOMS_CODE     23570 non-null  object        \n",
      " 3   I_E_PORT         23570 non-null  object        \n",
      " 4   I_E_DATE         23570 non-null  datetime64[ns]\n",
      " 5   FIRST_DECL_TIME  23570 non-null  datetime64[ns]\n",
      " 6   TRAF_MODE        23570 non-null  object        \n",
      " 7   GOODS_OWNER      23570 non-null  object        \n",
      " 8   HEAD_ID          23570 non-null  int64         \n",
      " 9   ENTRY_NO         23570 non-null  object        \n",
      " 10  GOODS_NO         23570 non-null  int64         \n",
      " 11  GOODS_CODE       23570 non-null  object        \n",
      " 12  GOODS_NAME       23570 non-null  object        \n",
      " 13  GOODS_MODEL      23570 non-null  object        \n",
      " 14  ORG_CODE_CY      23570 non-null  object        \n",
      " 15  G_QTY            23570 non-null  float64       \n",
      " 16  G_UNIT           23570 non-null  object        \n",
      " 17  QTY_1            23570 non-null  float64       \n",
      " 18  UNIT_1           23570 non-null  object        \n",
      " 19  QTY_2            9190 non-null   float64       \n",
      " 20  UNIT_2           9190 non-null   object        \n",
      " 21  TRADE_CURR_CODE  23570 non-null  object        \n",
      " 22  DECL_TOTAL       23570 non-null  float64       \n",
      " 23  SRC              23570 non-null  object        \n",
      "dtypes: datetime64[ns](2), float64(4), int64(3), object(15)\n",
      "memory usage: 4.3+ MB\n"
     ]
    }
   ],
   "source": [
    "CUS_DATA.info()"
   ]
  },
  {
   "cell_type": "code",
   "execution_count": 13,
   "metadata": {},
   "outputs": [
    {
     "data": {
      "text/plain": [
       "0        41169566\n",
       "1        41169566\n",
       "2        41169566\n",
       "3        41183823\n",
       "4        41183823\n",
       "          ...    \n",
       "8340    103269676\n",
       "8341    103280274\n",
       "8342    103280274\n",
       "8343    103280274\n",
       "8344    103380778\n",
       "Name: ID, Length: 23570, dtype: int64"
      ]
     },
     "execution_count": 13,
     "metadata": {},
     "output_type": "execute_result"
    }
   ],
   "source": []
  },
  {
   "cell_type": "code",
   "execution_count": 7,
   "metadata": {},
   "outputs": [
    {
     "data": {
      "text/plain": [
       "(8345, 24)"
      ]
     },
     "execution_count": 7,
     "metadata": {},
     "output_type": "execute_result"
    }
   ],
   "source": [
    "CUS_OTR_IMPORT.shape"
   ]
  },
  {
   "cell_type": "code",
   "execution_count": 5,
   "metadata": {},
   "outputs": [
    {
     "data": {
      "text/plain": [
       "(23570, 24)"
      ]
     },
     "execution_count": 5,
     "metadata": {},
     "output_type": "execute_result"
    }
   ],
   "source": [
    "CUS_DATA.shape"
   ]
  },
  {
   "cell_type": "code",
   "execution_count": 2,
   "metadata": {},
   "outputs": [
    {
     "name": "stderr",
     "output_type": "stream",
     "text": [
      "2021-06-03 09:11:03.711 | INFO     | risk_models.config.read_config.read_func:read_oracle:82 - Read Table successfully! , Total read time spent 11.05s\n"
     ]
    }
   ],
   "source": [
    "sql = f\"\"\"\\\n",
    "SELECT * FROM (select * from ODS_ZMXPQ.STOCK_BILL where org_code like '91310115688774070B' and iscurrent = 1 and dclcus_flag = 1) WHERE ROWNUM<=100000\n",
    "\"\"\"\n",
    "STOCK_BILL = Read_Oracle().read_oracle(sql=sql, database='dbods')"
   ]
  },
  {
   "cell_type": "code",
   "execution_count": 79,
   "metadata": {},
   "outputs": [
    {
     "name": "stderr",
     "output_type": "stream",
     "text": [
      "2021-06-03 10:26:02.673 | INFO     | risk_models.config.read_config.read_func:read_oracle:82 - Read Table successfully! , Total read time spent 21.19s\n"
     ]
    }
   ],
   "source": [
    "sql = f\"\"\"\\\n",
    "SELECT ID,I_E_MARK,CUSTOMS_CODE,I_E_PORT,I_E_DATE,FIRST_DECL_TIME,TRAF_MODE,GOODS_OWNER,DEPARTURE_CY FROM DW_I_BASIC.FT_I_DTL_SEA_PRE_RECORDED WHERE ISDELETED = 0 AND TRADE_CODE_SCC LIKE '91310115688774070B'\n",
    "\"\"\"\n",
    "CUS_SEA_HEAD_I = Read_Oracle().read_oracle(sql=sql, database='dbdw')"
   ]
  },
  {
   "cell_type": "code",
   "execution_count": 80,
   "metadata": {},
   "outputs": [
    {
     "name": "stderr",
     "output_type": "stream",
     "text": [
      "2021-06-03 10:26:22.024 | INFO     | risk_models.config.read_config.read_func:read_oracle:82 - Read Table successfully! , Total read time spent 19.33s\n"
     ]
    }
   ],
   "source": [
    "sql = f\"\"\"\\\n",
    "SELECT HEAD_ID, ENTRY_NO, GOODS_NO, GOODS_CODE, GOODS_NAME, GOODS_MODEL, \n",
    "ORG_CODE_CY, G_QTY, G_UNIT, QTY_1, UNIT_1, QTY_2, UNIT_2, TRADE_CURR_KEY, TRADE_CURR_CODE, \n",
    "DECL_PRICE, DECL_TOTAL, GOODS_GROSS_VALUE_RMB, DEST_CY, GOODS_GROSS_VALUE_USD FROM DW_I_BASIC.FT_I_DTL_SEA_LIST WHERE ISDELETED = 0\n",
    "AND HEAD_ID IN\n",
    "(SELECT ID FROM DW_I_BASIC.FT_I_DTL_SEA_PRE_RECORDED WHERE ISDELETED = 0 AND TRADE_CODE_SCC LIKE '91310115688774070B')\n",
    "\"\"\"\n",
    "CUS_SEA_LIST_I = Read_Oracle().read_oracle(sql=sql, database='dbdw')"
   ]
  },
  {
   "cell_type": "code",
   "execution_count": 11,
   "metadata": {},
   "outputs": [
    {
     "name": "stderr",
     "output_type": "stream",
     "text": [
      "2021-06-04 09:44:57.677 | INFO     | risk_models.config.read_config.read_func:read_oracle:82 - Read Table successfully! , Total read time spent 0.497s\n"
     ]
    }
   ],
   "source": [
    "sql = f\"\"\"\\\n",
    "SELECT CY_CODE_ALPHY3,CY_CODE_CUS_NUMBER FROM DIM.DIM_COUNTRY WHERE ISCURRENT = 1 AND REGEXP_LIKE(CY_CODE_CUS_NUMBER,'^[0-9]*$') AND CY_CODE_CUS_NUMBER NOT LIKE '299' \n",
    "\"\"\"\n",
    "DIM_COUNTRY = Read_Oracle().read_oracle(sql=sql, database='dbdw')"
   ]
  },
  {
   "cell_type": "code",
   "execution_count": 9,
   "metadata": {},
   "outputs": [
    {
     "name": "stderr",
     "output_type": "stream",
     "text": [
      "2021-06-04 09:40:45.162 | INFO     | risk_models.config.read_config.read_func:read_oracle:82 - Read Table successfully! , Total read time spent 0.126s\n"
     ]
    }
   ],
   "source": [
    "sql = f\"\"\"\\\n",
    "SELECT CUS_CURRENCY_CODE,CURRENCY_CODE FROM DIM.MAP_GJ_CURRENCY\n",
    "\"\"\"\n",
    "DIM_CURR = Read_Oracle().read_oracle(sql=sql, database='dbdw')"
   ]
  },
  {
   "cell_type": "code",
   "execution_count": null,
   "metadata": {},
   "outputs": [],
   "source": []
  },
  {
   "cell_type": "code",
   "execution_count": 82,
   "metadata": {},
   "outputs": [],
   "source": [
    "CUS_SEA_IMPORT = pd.merge(CUS_SEA_HEAD_I,CUS_SEA_LIST_I,how='inner',left_on=['ID'],right_on=['HEAD_ID'])"
   ]
  },
  {
   "cell_type": "code",
   "execution_count": 90,
   "metadata": {},
   "outputs": [],
   "source": [
    "CUS_SEA_IMPORT = CUS_SEA_IMPORT.drop_duplicates(subset=['ENTRY_NO','GOODS_NO'])"
   ]
  },
  {
   "cell_type": "code",
   "execution_count": 100,
   "metadata": {},
   "outputs": [],
   "source": [
    "entry_list = CUS_SEA_IMPORT[['ENTRY_NO','GOODS_NO']].copy()"
   ]
  },
  {
   "cell_type": "code",
   "execution_count": 110,
   "metadata": {},
   "outputs": [],
   "source": [
    "entry_list = entry_list.drop_duplicates()\n",
    "entry_list['merge_flag'] = 1"
   ]
  },
  {
   "cell_type": "code",
   "execution_count": 106,
   "metadata": {},
   "outputs": [],
   "source": [
    "test2['ENTRY_GDS_SEQNO'] = test2['ENTRY_GDS_SEQNO'].astype(int)"
   ]
  },
  {
   "cell_type": "code",
   "execution_count": 111,
   "metadata": {},
   "outputs": [],
   "source": [
    "test_merge = pd.merge(test2,entry_list,how='left',left_on=['ENTRY_NO','ENTRY_GDS_SEQNO'],right_on=['ENTRY_NO','GOODS_NO'])"
   ]
  },
  {
   "cell_type": "code",
   "execution_count": 114,
   "metadata": {},
   "outputs": [
    {
     "data": {
      "text/plain": [
       "(25792, 36)"
      ]
     },
     "execution_count": 114,
     "metadata": {},
     "output_type": "execute_result"
    }
   ],
   "source": [
    "test_merge.shape"
   ]
  },
  {
   "cell_type": "code",
   "execution_count": 115,
   "metadata": {},
   "outputs": [],
   "source": [
    "test_merge = test_merge[-pd.isnull(test_merge['merge_flag'])].copy()"
   ]
  },
  {
   "cell_type": "code",
   "execution_count": 174,
   "metadata": {},
   "outputs": [],
   "source": [
    "A = test_merge[['ENTRY_NO','ENTRY_GDS_SEQNO','TRAF_MODE']].copy()\n",
    "A.columns = ['ENTRY_NO','GOODS_NO','test_1']"
   ]
  },
  {
   "cell_type": "code",
   "execution_count": 175,
   "metadata": {},
   "outputs": [],
   "source": [
    "verify_data = pd.merge(A,CUS_SEA_IMPORT,how='inner',on=['ENTRY_NO','GOODS_NO'])"
   ]
  },
  {
   "cell_type": "code",
   "execution_count": 139,
   "metadata": {},
   "outputs": [
    {
     "data": {
      "text/plain": [
       "(1055, 32)"
      ]
     },
     "execution_count": 139,
     "metadata": {},
     "output_type": "execute_result"
    }
   ],
   "source": [
    "verify_data.shape"
   ]
  },
  {
   "cell_type": "code",
   "execution_count": 176,
   "metadata": {},
   "outputs": [],
   "source": [
    "verify_data = verify_data[verify_data['test_1'] != verify_data['TRAF_MODE']].copy()"
   ]
  },
  {
   "cell_type": "code",
   "execution_count": 177,
   "metadata": {},
   "outputs": [
    {
     "data": {
      "text/html": [
       "<div>\n",
       "<style scoped>\n",
       "    .dataframe tbody tr th:only-of-type {\n",
       "        vertical-align: middle;\n",
       "    }\n",
       "\n",
       "    .dataframe tbody tr th {\n",
       "        vertical-align: top;\n",
       "    }\n",
       "\n",
       "    .dataframe thead th {\n",
       "        text-align: right;\n",
       "    }\n",
       "</style>\n",
       "<table border=\"1\" class=\"dataframe\">\n",
       "  <thead>\n",
       "    <tr style=\"text-align: right;\">\n",
       "      <th></th>\n",
       "      <th>test_1</th>\n",
       "      <th>GOODS_MODEL</th>\n",
       "    </tr>\n",
       "  </thead>\n",
       "  <tbody>\n",
       "  </tbody>\n",
       "</table>\n",
       "</div>"
      ],
      "text/plain": [
       "Empty DataFrame\n",
       "Columns: [test_1, GOODS_MODEL]\n",
       "Index: []"
      ]
     },
     "execution_count": 177,
     "metadata": {},
     "output_type": "execute_result"
    }
   ],
   "source": [
    "verify_data[['test_1','GOODS_MODEL']]"
   ]
  },
  {
   "cell_type": "code",
   "execution_count": 170,
   "metadata": {},
   "outputs": [
    {
     "data": {
      "text/plain": [
       "'4|3|用于港口机械，堆高机、集装箱正面吊、起重机等，能量转换提供动力|235KW|VOLVO PENTA|TAD1150VE|2100RPM||'"
      ]
     },
     "execution_count": 170,
     "metadata": {},
     "output_type": "execute_result"
    }
   ],
   "source": [
    "verify_data.loc[0,'test_1']"
   ]
  },
  {
   "cell_type": "code",
   "execution_count": 171,
   "metadata": {},
   "outputs": [
    {
     "data": {
      "text/plain": [
       "'4|3|用于港口机械,堆高机、集装箱正面吊、起重机等,能量转换提供动力|235KW|VOLVO PENTA|TAD1150VE|2100RPM'"
      ]
     },
     "execution_count": 171,
     "metadata": {},
     "output_type": "execute_result"
    }
   ],
   "source": [
    "verify_data.loc[0,'GOODS_MODEL']"
   ]
  },
  {
   "cell_type": "code",
   "execution_count": 140,
   "metadata": {},
   "outputs": [],
   "source": [
    "verify_data = verify_data[verify_data['G_UNIT'] != verify_data['test_1']].copy()"
   ]
  },
  {
   "cell_type": "code",
   "execution_count": 141,
   "metadata": {},
   "outputs": [
    {
     "data": {
      "text/plain": [
       "(37, 32)"
      ]
     },
     "execution_count": 141,
     "metadata": {},
     "output_type": "execute_result"
    }
   ],
   "source": [
    "verify_data.shape"
   ]
  },
  {
   "cell_type": "code",
   "execution_count": 144,
   "metadata": {},
   "outputs": [],
   "source": [
    "verify_data = verify_data[verify_data['G_UNIT'] != verify_data['test_2']].copy()"
   ]
  },
  {
   "cell_type": "code",
   "execution_count": 145,
   "metadata": {},
   "outputs": [
    {
     "data": {
      "text/plain": [
       "(37, 32)"
      ]
     },
     "execution_count": 145,
     "metadata": {},
     "output_type": "execute_result"
    }
   ],
   "source": [
    "verify_data.shape"
   ]
  },
  {
   "cell_type": "code",
   "execution_count": 146,
   "metadata": {},
   "outputs": [],
   "source": [
    "verify_data = verify_data[verify_data['G_UNIT'] != verify_data['test_3']].copy()"
   ]
  },
  {
   "cell_type": "code",
   "execution_count": null,
   "metadata": {},
   "outputs": [],
   "source": [
    "verify_data.shape"
   ]
  },
  {
   "cell_type": "code",
   "execution_count": null,
   "metadata": {},
   "outputs": [],
   "source": []
  },
  {
   "cell_type": "code",
   "execution_count": 147,
   "metadata": {},
   "outputs": [
    {
     "data": {
      "text/plain": [
       "(37, 32)"
      ]
     },
     "execution_count": 147,
     "metadata": {},
     "output_type": "execute_result"
    }
   ],
   "source": [
    "verify_data.shape"
   ]
  },
  {
   "cell_type": "code",
   "execution_count": 149,
   "metadata": {},
   "outputs": [],
   "source": [
    "verify_data = verify_data[verify_data['UNIT_1'] != verify_data['test_1']].copy()\n",
    "verify_data = verify_data[verify_data['UNIT_1'] != verify_data['test_2']].copy()\n",
    "verify_data = verify_data[verify_data['UNIT_1'] != verify_data['test_3']].copy()"
   ]
  },
  {
   "cell_type": "code",
   "execution_count": 150,
   "metadata": {},
   "outputs": [
    {
     "data": {
      "text/plain": [
       "(4, 32)"
      ]
     },
     "execution_count": 150,
     "metadata": {},
     "output_type": "execute_result"
    }
   ],
   "source": [
    "verify_data.shape"
   ]
  },
  {
   "cell_type": "code",
   "execution_count": 151,
   "metadata": {},
   "outputs": [],
   "source": [
    "verify_data = verify_data[verify_data['UNIT_2'] != verify_data['test_1']].copy()\n",
    "verify_data = verify_data[verify_data['UNIT_2'] != verify_data['test_2']].copy()\n",
    "verify_data = verify_data[verify_data['UNIT_2'] != verify_data['test_3']].copy()"
   ]
  },
  {
   "cell_type": "code",
   "execution_count": 152,
   "metadata": {},
   "outputs": [
    {
     "data": {
      "text/plain": [
       "(0, 32)"
      ]
     },
     "execution_count": 152,
     "metadata": {},
     "output_type": "execute_result"
    }
   ],
   "source": [
    "verify_data.shape"
   ]
  },
  {
   "cell_type": "code",
   "execution_count": 194,
   "metadata": {},
   "outputs": [],
   "source": [
    "A = test_merge[['ENTRY_NO','ENTRY_GDS_SEQNO','ORIGIN_COUNTRY_CODE']].copy()\n",
    "A.columns = ['ENTRY_NO','GOODS_NO','test_1']\n",
    "verify_data = pd.merge(A,CUS_SEA_IMPORT,how='inner',on=['ENTRY_NO','GOODS_NO'])\n",
    "verify_data = verify_data[verify_data['test_1'] != verify_data['ORG_CODE_CY']].copy()"
   ]
  },
  {
   "cell_type": "code",
   "execution_count": 195,
   "metadata": {},
   "outputs": [
    {
     "data": {
      "text/html": [
       "<div>\n",
       "<style scoped>\n",
       "    .dataframe tbody tr th:only-of-type {\n",
       "        vertical-align: middle;\n",
       "    }\n",
       "\n",
       "    .dataframe tbody tr th {\n",
       "        vertical-align: top;\n",
       "    }\n",
       "\n",
       "    .dataframe thead th {\n",
       "        text-align: right;\n",
       "    }\n",
       "</style>\n",
       "<table border=\"1\" class=\"dataframe\">\n",
       "  <thead>\n",
       "    <tr style=\"text-align: right;\">\n",
       "      <th></th>\n",
       "      <th>test_1</th>\n",
       "      <th>ORG_CODE_CY</th>\n",
       "    </tr>\n",
       "  </thead>\n",
       "  <tbody>\n",
       "    <tr>\n",
       "      <th>52</th>\n",
       "      <td>142</td>\n",
       "      <td>328</td>\n",
       "    </tr>\n",
       "    <tr>\n",
       "      <th>53</th>\n",
       "      <td>328</td>\n",
       "      <td>330</td>\n",
       "    </tr>\n",
       "    <tr>\n",
       "      <th>54</th>\n",
       "      <td>328</td>\n",
       "      <td>330</td>\n",
       "    </tr>\n",
       "    <tr>\n",
       "      <th>62</th>\n",
       "      <td>330</td>\n",
       "      <td>142</td>\n",
       "    </tr>\n",
       "    <tr>\n",
       "      <th>271</th>\n",
       "      <td>330</td>\n",
       "      <td>327</td>\n",
       "    </tr>\n",
       "    <tr>\n",
       "      <th>...</th>\n",
       "      <td>...</td>\n",
       "      <td>...</td>\n",
       "    </tr>\n",
       "    <tr>\n",
       "      <th>983</th>\n",
       "      <td>142</td>\n",
       "      <td>330</td>\n",
       "    </tr>\n",
       "    <tr>\n",
       "      <th>984</th>\n",
       "      <td>336</td>\n",
       "      <td>330</td>\n",
       "    </tr>\n",
       "    <tr>\n",
       "      <th>985</th>\n",
       "      <td>330</td>\n",
       "      <td>303</td>\n",
       "    </tr>\n",
       "    <tr>\n",
       "      <th>990</th>\n",
       "      <td>344</td>\n",
       "      <td>502</td>\n",
       "    </tr>\n",
       "    <tr>\n",
       "      <th>991</th>\n",
       "      <td>330</td>\n",
       "      <td>344</td>\n",
       "    </tr>\n",
       "  </tbody>\n",
       "</table>\n",
       "<p>74 rows × 2 columns</p>\n",
       "</div>"
      ],
      "text/plain": [
       "    test_1 ORG_CODE_CY\n",
       "52     142         328\n",
       "53     328         330\n",
       "54     328         330\n",
       "62     330         142\n",
       "271    330         327\n",
       "..     ...         ...\n",
       "983    142         330\n",
       "984    336         330\n",
       "985    330         303\n",
       "990    344         502\n",
       "991    330         344\n",
       "\n",
       "[74 rows x 2 columns]"
      ]
     },
     "execution_count": 195,
     "metadata": {},
     "output_type": "execute_result"
    }
   ],
   "source": [
    "verify_data[['test_1','ORG_CODE_CY']]"
   ]
  },
  {
   "cell_type": "code",
   "execution_count": 99,
   "metadata": {},
   "outputs": [
    {
     "data": {
      "text/plain": [
       "Index(['ORG_CODE', 'ENTRY_NO', 'ENTRY_GDS_SEQNO', 'QTY', 'QTY_1', 'QTY_2',\n",
       "       'NET_WT', 'GROSS_WT', 'TRADE_TOTAL', 'STOCK_BILL_TYPE', 'STOCK_TYPE',\n",
       "       'BILL_TYPE', 'OWNER_NAME', 'BUSINESS_TYPE', 'BILL_STATUS',\n",
       "       'CLASSIFY_TYPE', 'SUPV_MODE', 'TRAF_MODE', 'I_E_PORT', 'CUSTOMS_CODE',\n",
       "       'DESTINATION_CODE', 'STSHIP_TRSARV_CODE', 'TRADE_COUNTRY_CODE',\n",
       "       'TRANS_MODE', 'G_NAME', 'G_MODEL', 'ORIGIN_COUNTRY_CODE', 'HS_CODE',\n",
       "       'G_UNIT', 'UNIT_1', 'UNIT_2', 'UNIT_PRICE', 'TRADE_CURR', 'STARTDT'],\n",
       "      dtype='object')"
      ]
     },
     "execution_count": 99,
     "metadata": {},
     "output_type": "execute_result"
    }
   ],
   "source": [
    "test2.columns"
   ]
  },
  {
   "cell_type": "code",
   "execution_count": 98,
   "metadata": {},
   "outputs": [
    {
     "data": {
      "text/plain": [
       "Index(['ID', 'I_E_MARK', 'CUSTOMS_CODE', 'I_E_PORT', 'I_E_DATE',\n",
       "       'FIRST_DECL_TIME', 'TRAF_MODE', 'GOODS_OWNER', 'DEPARTURE_CY',\n",
       "       'HEAD_ID', 'ENTRY_NO', 'GOODS_NO', 'GOODS_CODE', 'GOODS_NAME',\n",
       "       'GOODS_MODEL', 'ORG_CODE_CY', 'G_QTY', 'G_UNIT', 'QTY_1', 'UNIT_1',\n",
       "       'QTY_2', 'UNIT_2', 'TRADE_CURR_KEY', 'TRADE_CURR_CODE', 'DECL_PRICE',\n",
       "       'DECL_TOTAL', 'GOODS_GROSS_VALUE_RMB', 'DEST_CY',\n",
       "       'GOODS_GROSS_VALUE_USD'],\n",
       "      dtype='object')"
      ]
     },
     "execution_count": 98,
     "metadata": {},
     "output_type": "execute_result"
    }
   ],
   "source": [
    "CUS_SEA_IMPORT.columns"
   ]
  },
  {
   "cell_type": "code",
   "execution_count": 97,
   "metadata": {},
   "outputs": [],
   "source": [
    "CUS_SEA_IMPORT['DEPARTURE_CY'].replace(to_replace=list(DIM_COUNTRY['CY_CODE_ALPHY3']),value=list(DIM_COUNTRY['CY_CODE_CUS_NUMBER']),inplace=True)\n",
    "\n",
    "CUS_SEA_IMPORT['ORG_CODE_CY'].replace(to_replace=list(DIM_COUNTRY['CY_CODE_ALPHY3']),value=list(DIM_COUNTRY['CY_CODE_CUS_NUMBER']),inplace=True)\n",
    "\n",
    "CUS_SEA_IMPORT['DEST_CY'].replace(to_replace=list(DIM_COUNTRY['CY_CODE_ALPHY3']),value=list(DIM_COUNTRY['CY_CODE_CUS_NUMBER']),inplace=True)\n",
    "\n",
    "CUS_SEA_IMPORT['TRADE_CURR_CODE'].replace(to_replace=list(DIM_CURR['CURRENCY_CODE']),value=list(DIM_CURR['CUS_CURRENCY_CODE']),inplace=True)"
   ]
  },
  {
   "cell_type": "code",
   "execution_count": 10,
   "metadata": {},
   "outputs": [],
   "source": [
    "CUS_DATA['TRADE_CURR_CODE'].replace(to_replace=list(DIM_CURR['CURRENCY_CODE']),value=list(DIM_CURR['CUS_CURRENCY_CODE']),inplace=True)"
   ]
  },
  {
   "cell_type": "code",
   "execution_count": 12,
   "metadata": {},
   "outputs": [],
   "source": [
    "CUS_DATA['ORG_CODE_CY'].replace(to_replace=list(DIM_COUNTRY['CY_CODE_ALPHY3']),value=list(DIM_COUNTRY['CY_CODE_CUS_NUMBER']),inplace=True)"
   ]
  },
  {
   "cell_type": "code",
   "execution_count": 14,
   "metadata": {},
   "outputs": [],
   "source": [
    "CUS_DATA = CUS_DATA.drop(columns=['ID'])"
   ]
  },
  {
   "cell_type": "code",
   "execution_count": 16,
   "metadata": {},
   "outputs": [],
   "source": [
    "CUS_DATA = CUS_DATA.reset_index().rename(columns = {'index':'ID'})"
   ]
  },
  {
   "cell_type": "code",
   "execution_count": 19,
   "metadata": {},
   "outputs": [
    {
     "data": {
      "text/plain": [
       "array([    0,     1,     2, ..., 15222, 15223, 15224], dtype=int64)"
      ]
     },
     "execution_count": 19,
     "metadata": {},
     "output_type": "execute_result"
    }
   ],
   "source": [
    "CUS_DATA['ID'].unique()"
   ]
  },
  {
   "cell_type": "code",
   "execution_count": null,
   "metadata": {},
   "outputs": [],
   "source": []
  },
  {
   "cell_type": "code",
   "execution_count": null,
   "metadata": {},
   "outputs": [],
   "source": []
  },
  {
   "cell_type": "code",
   "execution_count": 89,
   "metadata": {},
   "outputs": [
    {
     "data": {
      "text/plain": [
       "(15224, 29)"
      ]
     },
     "execution_count": 89,
     "metadata": {},
     "output_type": "execute_result"
    }
   ],
   "source": [
    "CUS_SEA_IMPORT.shape"
   ]
  },
  {
   "cell_type": "code",
   "execution_count": 91,
   "metadata": {},
   "outputs": [
    {
     "data": {
      "text/plain": [
       "(15224, 29)"
      ]
     },
     "execution_count": 91,
     "metadata": {},
     "output_type": "execute_result"
    }
   ],
   "source": [
    "CUS_SEA_IMPORT.shape"
   ]
  },
  {
   "cell_type": "code",
   "execution_count": null,
   "metadata": {},
   "outputs": [],
   "source": []
  },
  {
   "cell_type": "code",
   "execution_count": 59,
   "metadata": {},
   "outputs": [
    {
     "ename": "NameError",
     "evalue": "name 'CUS_SEA_HEAD_I' is not defined",
     "output_type": "error",
     "traceback": [
      "\u001b[1;31m---------------------------------------------------------------------------\u001b[0m",
      "\u001b[1;31mNameError\u001b[0m                                 Traceback (most recent call last)",
      "\u001b[1;32m<ipython-input-59-c06495aabc45>\u001b[0m in \u001b[0;36m<module>\u001b[1;34m\u001b[0m\n\u001b[1;32m----> 1\u001b[1;33m \u001b[1;32mdel\u001b[0m \u001b[0mCUS_SEA_HEAD_I\u001b[0m\u001b[1;33m,\u001b[0m\u001b[0mCUS_SEA_LIST_I\u001b[0m\u001b[1;33m\u001b[0m\u001b[1;33m\u001b[0m\u001b[0m\n\u001b[0m",
      "\u001b[1;31mNameError\u001b[0m: name 'CUS_SEA_HEAD_I' is not defined"
     ]
    }
   ],
   "source": [
    "del CUS_SEA_HEAD_I,CUS_SEA_LIST_I"
   ]
  },
  {
   "cell_type": "code",
   "execution_count": 60,
   "metadata": {},
   "outputs": [
    {
     "data": {
      "text/plain": [
       "116"
      ]
     },
     "execution_count": 60,
     "metadata": {},
     "output_type": "execute_result"
    }
   ],
   "source": [
    "import gc\n",
    "gc.collect()"
   ]
  },
  {
   "cell_type": "code",
   "execution_count": 13,
   "metadata": {},
   "outputs": [
    {
     "data": {
      "text/plain": [
       "7264"
      ]
     },
     "execution_count": 13,
     "metadata": {},
     "output_type": "execute_result"
    }
   ],
   "source": [
    "import os\n",
    "os.getpid()"
   ]
  },
  {
   "cell_type": "code",
   "execution_count": 3,
   "metadata": {},
   "outputs": [
    {
     "name": "stderr",
     "output_type": "stream",
     "text": [
      "<ipython-input-3-2abd7449470a>:1: FutureWarning: Indexing with multiple keys (implicitly converted to a tuple of keys) will be deprecated, use a list instead.\n",
      "  test1 = STOCK_BILL.groupby(['ORG_CODE','ENTRY_NO','ENTRY_GDS_SEQNO'])['QTY','QTY_1','QTY_2','NET_WT','GROSS_WT','TRADE_TOTAL'].sum()\n"
     ]
    }
   ],
   "source": [
    "stock_bill_sum = STOCK_BILL.groupby(['ORG_CODE','ENTRY_NO','ENTRY_GDS_SEQNO'])['QTY','QTY_1','QTY_2','NET_WT','GROSS_WT','TRADE_TOTAL'].sum()\n",
    "\n",
    "stock_bill_sum = stock_bill_sum.reset_index()\n",
    "\n",
    "stock_info = STOCK_BILL[['ORG_CODE','ENTRY_NO','ENTRY_GDS_SEQNO',\n",
    "                                   'STOCK_BILL_TYPE','STOCK_TYPE','BILL_TYPE',\n",
    "                                  'OWNER_NAME','BUSINESS_TYPE','BILL_STATUS','CLASSIFY_TYPE',\n",
    "                                  'SUPV_MODE','TRAF_MODE','I_E_PORT','CUSTOMS_CODE','DESTINATION_CODE',\n",
    "                                  'STSHIP_TRSARV_CODE','TRADE_COUNTRY_CODE','TRANS_MODE','G_NAME',\n",
    "                                  'G_MODEL','ORIGIN_COUNTRY_CODE','HS_CODE','G_UNIT','UNIT_1',\n",
    "                                  'UNIT_2','UNIT_PRICE','TRADE_CURR','STARTDT']].copy()\n",
    "\n",
    "stock_info = stock_info.drop_duplicates(subset=['ORG_CODE','ENTRY_NO','ENTRY_GDS_SEQNO'])\n",
    "\n",
    "stock_bill_clean = pd.merge(stock_bill_sum,stock_info,how='left',left_on=['ORG_CODE','ENTRY_NO','ENTRY_GDS_SEQNO'],\n",
    "                right_on=['ORG_CODE','ENTRY_NO','ENTRY_GDS_SEQNO'])\n",
    "\n",
    "stock_bill_clean['TRADE_COUNTRY_CODE'].replace(to_replace=list(DIM_COUNTRY['CY_CODE_ALPHY3']),value=list(DIM_COUNTRY['CY_CODE_CUS_NUMBER']),inplace=True)\n",
    "\n",
    "stock_bill_clean['ORIGIN_COUNTRY_CODE'].replace(to_replace=list(DIM_COUNTRY['CY_CODE_ALPHY3']),value=list(DIM_COUNTRY['CY_CODE_CUS_NUMBER']),inplace=True)\n",
    "\n",
    "stock_bill_clean['DESTINATION_CODE'].replace(to_replace=list(DIM_COUNTRY['CY_CODE_ALPHY3']),value=list(DIM_COUNTRY['CY_CODE_CUS_NUMBER']),inplace=True)\n",
    "\n",
    "stock_bill_clean['STSHIP_TRSARV_CODE'].replace(to_replace=list(DIM_COUNTRY['CY_CODE_ALPHY3']),value=list(DIM_COUNTRY['CY_CODE_CUS_NUMBER']),inplace=True)\n",
    "\n",
    "stock_bill_clean['TRADE_CURR'].replace(to_replace=list(DIM_CURR['CURRENCY_CODE']),value=list(DIM_CURR['CUS_CURRENCY_CODE']),inplace=True)\n",
    "\n",
    "stock_bill_clean['ENTRY_GDS_SEQNO'] = stock_bill_clean['ENTRY_GDS_SEQNO'].astype(int)"
   ]
  },
  {
   "cell_type": "code",
   "execution_count": 198,
   "metadata": {},
   "outputs": [],
   "source": [
    "STOCK_BILL['TRADE_TOTAL'] = STOCK_BILL['TRADE_TOTAL'].astype(float)"
   ]
  },
  {
   "cell_type": "code",
   "execution_count": 72,
   "metadata": {},
   "outputs": [
    {
     "data": {
      "text/plain": [
       "Index(['ORG_CODE', 'ENTRY_NO', 'ENTRY_GDS_SEQNO', 'QTY', 'QTY_1', 'QTY_2',\n",
       "       'NET_WT', 'GROSS_WT', 'TRADE_TOTAL', 'STOCK_BILL_TYPE', 'STOCK_TYPE',\n",
       "       'BILL_TYPE', 'OWNER_NAME', 'BUSINESS_TYPE', 'BILL_STATUS',\n",
       "       'CLASSIFY_TYPE', 'SUPV_MODE', 'TRAF_MODE', 'I_E_PORT', 'CUSTOMS_CODE',\n",
       "       'DESTINATION_CODE', 'STSHIP_TRSARV_CODE', 'TRADE_COUNTRY_CODE',\n",
       "       'TRANS_MODE', 'G_NAME', 'G_MODEL', 'ORIGIN_COUNTRY_CODE', 'HS_CODE',\n",
       "       'G_UNIT', 'UNIT_1', 'UNIT_2', 'UNIT_PRICE', 'TRADE_CURR', 'STARTDT'],\n",
       "      dtype='object')"
      ]
     },
     "execution_count": 72,
     "metadata": {},
     "output_type": "execute_result"
    }
   ],
   "source": [
    "stock_bill_clean.columns"
   ]
  },
  {
   "cell_type": "code",
   "execution_count": 95,
   "metadata": {},
   "outputs": [
    {
     "data": {
      "text/plain": [
       "0         142\n",
       "1        None\n",
       "2        None\n",
       "3        None\n",
       "4        None\n",
       "         ... \n",
       "25787    None\n",
       "25788     601\n",
       "25789     330\n",
       "25790     309\n",
       "25791     309\n",
       "Name: STSHIP_TRSARV_CODE, Length: 25792, dtype: object"
      ]
     },
     "execution_count": 95,
     "metadata": {},
     "output_type": "execute_result"
    }
   ],
   "source": [
    "test2['STSHIP_TRSARV_CODE']"
   ]
  },
  {
   "cell_type": "code",
   "execution_count": 94,
   "metadata": {},
   "outputs": [],
   "source": [
    "test2['STSHIP_TRSARV_CODE'].replace(to_replace=list(DIM_COUNTRY['CY_CODE_ALPHY3']),value=list(DIM_COUNTRY['CY_CODE_CUS_NUMBER']),inplace=True)\n"
   ]
  },
  {
   "cell_type": "code",
   "execution_count": 47,
   "metadata": {},
   "outputs": [],
   "source": [
    "import re"
   ]
  },
  {
   "cell_type": "code",
   "execution_count": 51,
   "metadata": {},
   "outputs": [],
   "source": [
    "def is_num(x):\n",
    "    if pd.isnull(x):\n",
    "        return False\n",
    "    else:\n",
    "        if re.search('^[0-9]*$',x):\n",
    "            return True\n",
    "        else:\n",
    "            return False\n",
    "\n",
    "def is_num_row(row):\n",
    "    return row.apply(is_num)"
   ]
  },
  {
   "cell_type": "code",
   "execution_count": 52,
   "metadata": {},
   "outputs": [
    {
     "data": {
      "text/plain": [
       "0        False\n",
       "1         True\n",
       "2         True\n",
       "3         True\n",
       "4         True\n",
       "         ...  \n",
       "25787     True\n",
       "25788     True\n",
       "25789     True\n",
       "25790     True\n",
       "25791     True\n",
       "Name: TRADE_COUNTRY_CODE, Length: 25792, dtype: bool"
      ]
     },
     "execution_count": 52,
     "metadata": {},
     "output_type": "execute_result"
    }
   ],
   "source": [
    "is_num_row(test2['TRADE_COUNTRY_CODE'])"
   ]
  },
  {
   "cell_type": "code",
   "execution_count": 41,
   "metadata": {},
   "outputs": [
    {
     "data": {
      "text/html": [
       "<div>\n",
       "<style scoped>\n",
       "    .dataframe tbody tr th:only-of-type {\n",
       "        vertical-align: middle;\n",
       "    }\n",
       "\n",
       "    .dataframe tbody tr th {\n",
       "        vertical-align: top;\n",
       "    }\n",
       "\n",
       "    .dataframe thead th {\n",
       "        text-align: right;\n",
       "    }\n",
       "</style>\n",
       "<table border=\"1\" class=\"dataframe\">\n",
       "  <thead>\n",
       "    <tr style=\"text-align: right;\">\n",
       "      <th></th>\n",
       "      <th>ID</th>\n",
       "      <th>I_E_MARK</th>\n",
       "      <th>CUSTOMS_CODE</th>\n",
       "      <th>I_E_PORT</th>\n",
       "      <th>I_E_DATE</th>\n",
       "      <th>FIRST_DECL_TIME</th>\n",
       "      <th>TRAF_MODE</th>\n",
       "      <th>GOODS_OWNER</th>\n",
       "      <th>DEPARTURE_CY</th>\n",
       "      <th>HEAD_ID</th>\n",
       "      <th>...</th>\n",
       "      <th>NO_DGRGD_FLAG</th>\n",
       "      <th>CIQ_DOM_DEST_CODE</th>\n",
       "      <th>CIQ_GOODS_SPEC</th>\n",
       "      <th>CIQ_GOODS_MODEL</th>\n",
       "      <th>CIQ_GOODS_BRAND</th>\n",
       "      <th>PRODUCE_DATE</th>\n",
       "      <th>PRODUCE_BATCH_NO</th>\n",
       "      <th>CIQ_NAME</th>\n",
       "      <th>PRODUCER_REGISTER_NO</th>\n",
       "      <th>PRODUCER_REGISTER_NAME</th>\n",
       "    </tr>\n",
       "  </thead>\n",
       "  <tbody>\n",
       "    <tr>\n",
       "      <th>0</th>\n",
       "      <td>41169566</td>\n",
       "      <td>I</td>\n",
       "      <td>2249</td>\n",
       "      <td>2248</td>\n",
       "      <td>2018-08-12</td>\n",
       "      <td>2018-08-13 11:23:55</td>\n",
       "      <td>2</td>\n",
       "      <td>上海综合保税区国际物流有限公司</td>\n",
       "      <td>NZL</td>\n",
       "      <td>41169566</td>\n",
       "      <td>...</td>\n",
       "      <td>None</td>\n",
       "      <td>None</td>\n",
       "      <td>None</td>\n",
       "      <td>None</td>\n",
       "      <td>None</td>\n",
       "      <td>None</td>\n",
       "      <td>None</td>\n",
       "      <td>None</td>\n",
       "      <td>None</td>\n",
       "      <td>None</td>\n",
       "    </tr>\n",
       "    <tr>\n",
       "      <th>1</th>\n",
       "      <td>41169566</td>\n",
       "      <td>I</td>\n",
       "      <td>2249</td>\n",
       "      <td>2248</td>\n",
       "      <td>2018-08-12</td>\n",
       "      <td>2018-08-13 11:23:55</td>\n",
       "      <td>2</td>\n",
       "      <td>上海综合保税区国际物流有限公司</td>\n",
       "      <td>NZL</td>\n",
       "      <td>41169566</td>\n",
       "      <td>...</td>\n",
       "      <td>None</td>\n",
       "      <td>None</td>\n",
       "      <td>None</td>\n",
       "      <td>None</td>\n",
       "      <td>None</td>\n",
       "      <td>None</td>\n",
       "      <td>None</td>\n",
       "      <td>None</td>\n",
       "      <td>None</td>\n",
       "      <td>None</td>\n",
       "    </tr>\n",
       "    <tr>\n",
       "      <th>2</th>\n",
       "      <td>41169566</td>\n",
       "      <td>I</td>\n",
       "      <td>2249</td>\n",
       "      <td>2248</td>\n",
       "      <td>2018-08-12</td>\n",
       "      <td>2018-08-13 11:23:55</td>\n",
       "      <td>2</td>\n",
       "      <td>上海综合保税区国际物流有限公司</td>\n",
       "      <td>NZL</td>\n",
       "      <td>41169566</td>\n",
       "      <td>...</td>\n",
       "      <td>None</td>\n",
       "      <td>None</td>\n",
       "      <td>None</td>\n",
       "      <td>None</td>\n",
       "      <td>None</td>\n",
       "      <td>None</td>\n",
       "      <td>None</td>\n",
       "      <td>None</td>\n",
       "      <td>None</td>\n",
       "      <td>None</td>\n",
       "    </tr>\n",
       "    <tr>\n",
       "      <th>3</th>\n",
       "      <td>41183823</td>\n",
       "      <td>I</td>\n",
       "      <td>2249</td>\n",
       "      <td>2248</td>\n",
       "      <td>2018-08-12</td>\n",
       "      <td>2018-08-13 13:52:47</td>\n",
       "      <td>2</td>\n",
       "      <td>上海综合保税区国际物流有限公司</td>\n",
       "      <td>NZL</td>\n",
       "      <td>41183823</td>\n",
       "      <td>...</td>\n",
       "      <td>None</td>\n",
       "      <td>None</td>\n",
       "      <td>None</td>\n",
       "      <td>None</td>\n",
       "      <td>None</td>\n",
       "      <td>None</td>\n",
       "      <td>None</td>\n",
       "      <td>None</td>\n",
       "      <td>None</td>\n",
       "      <td>None</td>\n",
       "    </tr>\n",
       "    <tr>\n",
       "      <th>4</th>\n",
       "      <td>41183823</td>\n",
       "      <td>I</td>\n",
       "      <td>2249</td>\n",
       "      <td>2248</td>\n",
       "      <td>2018-08-12</td>\n",
       "      <td>2018-08-13 13:52:47</td>\n",
       "      <td>2</td>\n",
       "      <td>上海综合保税区国际物流有限公司</td>\n",
       "      <td>NZL</td>\n",
       "      <td>41183823</td>\n",
       "      <td>...</td>\n",
       "      <td>None</td>\n",
       "      <td>None</td>\n",
       "      <td>None</td>\n",
       "      <td>None</td>\n",
       "      <td>None</td>\n",
       "      <td>None</td>\n",
       "      <td>None</td>\n",
       "      <td>None</td>\n",
       "      <td>None</td>\n",
       "      <td>None</td>\n",
       "    </tr>\n",
       "    <tr>\n",
       "      <th>...</th>\n",
       "      <td>...</td>\n",
       "      <td>...</td>\n",
       "      <td>...</td>\n",
       "      <td>...</td>\n",
       "      <td>...</td>\n",
       "      <td>...</td>\n",
       "      <td>...</td>\n",
       "      <td>...</td>\n",
       "      <td>...</td>\n",
       "      <td>...</td>\n",
       "      <td>...</td>\n",
       "      <td>...</td>\n",
       "      <td>...</td>\n",
       "      <td>...</td>\n",
       "      <td>...</td>\n",
       "      <td>...</td>\n",
       "      <td>...</td>\n",
       "      <td>...</td>\n",
       "      <td>...</td>\n",
       "      <td>...</td>\n",
       "      <td>...</td>\n",
       "    </tr>\n",
       "    <tr>\n",
       "      <th>15219</th>\n",
       "      <td>103004540</td>\n",
       "      <td>I</td>\n",
       "      <td>2249</td>\n",
       "      <td>2225</td>\n",
       "      <td>2021-05-28</td>\n",
       "      <td>2021-05-28 14:33:17</td>\n",
       "      <td>2</td>\n",
       "      <td>上海综合保税区国际物流有限公司</td>\n",
       "      <td>KOR</td>\n",
       "      <td>103004540</td>\n",
       "      <td>...</td>\n",
       "      <td>None</td>\n",
       "      <td>310115</td>\n",
       "      <td>None</td>\n",
       "      <td>None</td>\n",
       "      <td>None</td>\n",
       "      <td>None</td>\n",
       "      <td>None</td>\n",
       "      <td>光缆</td>\n",
       "      <td>None</td>\n",
       "      <td>None</td>\n",
       "    </tr>\n",
       "    <tr>\n",
       "      <th>15220</th>\n",
       "      <td>103005058</td>\n",
       "      <td>I</td>\n",
       "      <td>2249</td>\n",
       "      <td>2248</td>\n",
       "      <td>2021-05-27</td>\n",
       "      <td>2021-05-28 14:36:30</td>\n",
       "      <td>2</td>\n",
       "      <td>上海综合保税区国际物流有限公司</td>\n",
       "      <td>SVN</td>\n",
       "      <td>103005058</td>\n",
       "      <td>...</td>\n",
       "      <td>None</td>\n",
       "      <td>310115</td>\n",
       "      <td>None</td>\n",
       "      <td>None</td>\n",
       "      <td>None</td>\n",
       "      <td>None</td>\n",
       "      <td>None</td>\n",
       "      <td>800毫升＜排量装往复式活塞内燃发动机摩托车及脚踏两用车</td>\n",
       "      <td>None</td>\n",
       "      <td>None</td>\n",
       "    </tr>\n",
       "    <tr>\n",
       "      <th>15221</th>\n",
       "      <td>102732184</td>\n",
       "      <td>I</td>\n",
       "      <td>2249</td>\n",
       "      <td>2225</td>\n",
       "      <td>2021-05-24</td>\n",
       "      <td>2021-05-25 13:26:57</td>\n",
       "      <td>2</td>\n",
       "      <td>上海综合保税区国际物流有限公司</td>\n",
       "      <td>SGP</td>\n",
       "      <td>102732184</td>\n",
       "      <td>...</td>\n",
       "      <td>None</td>\n",
       "      <td>310115</td>\n",
       "      <td>None</td>\n",
       "      <td>None</td>\n",
       "      <td>None</td>\n",
       "      <td>None</td>\n",
       "      <td>None</td>\n",
       "      <td>其他未列名硫化橡胶制品(硬质橡胶除外)(硫化橡胶制品)</td>\n",
       "      <td>None</td>\n",
       "      <td>None</td>\n",
       "    </tr>\n",
       "    <tr>\n",
       "      <th>15222</th>\n",
       "      <td>102732184</td>\n",
       "      <td>I</td>\n",
       "      <td>2249</td>\n",
       "      <td>2225</td>\n",
       "      <td>2021-05-24</td>\n",
       "      <td>2021-05-25 13:26:57</td>\n",
       "      <td>2</td>\n",
       "      <td>上海综合保税区国际物流有限公司</td>\n",
       "      <td>SGP</td>\n",
       "      <td>102732184</td>\n",
       "      <td>...</td>\n",
       "      <td>None</td>\n",
       "      <td>310115</td>\n",
       "      <td>None</td>\n",
       "      <td>None</td>\n",
       "      <td>None</td>\n",
       "      <td>None</td>\n",
       "      <td>None</td>\n",
       "      <td>其他工业用钢铁制品</td>\n",
       "      <td>None</td>\n",
       "      <td>None</td>\n",
       "    </tr>\n",
       "    <tr>\n",
       "      <th>15223</th>\n",
       "      <td>102732184</td>\n",
       "      <td>I</td>\n",
       "      <td>2249</td>\n",
       "      <td>2225</td>\n",
       "      <td>2021-05-24</td>\n",
       "      <td>2021-05-25 13:26:57</td>\n",
       "      <td>2</td>\n",
       "      <td>上海综合保税区国际物流有限公司</td>\n",
       "      <td>SGP</td>\n",
       "      <td>102732184</td>\n",
       "      <td>...</td>\n",
       "      <td>None</td>\n",
       "      <td>310115</td>\n",
       "      <td>None</td>\n",
       "      <td>None</td>\n",
       "      <td>None</td>\n",
       "      <td>None</td>\n",
       "      <td>None</td>\n",
       "      <td>其他未列名硫化橡胶制品(硬质橡胶除外)(硫化橡胶制品)</td>\n",
       "      <td>None</td>\n",
       "      <td>None</td>\n",
       "    </tr>\n",
       "  </tbody>\n",
       "</table>\n",
       "<p>15224 rows × 88 columns</p>\n",
       "</div>"
      ],
      "text/plain": [
       "              ID I_E_MARK CUSTOMS_CODE I_E_PORT   I_E_DATE  \\\n",
       "0       41169566        I         2249     2248 2018-08-12   \n",
       "1       41169566        I         2249     2248 2018-08-12   \n",
       "2       41169566        I         2249     2248 2018-08-12   \n",
       "3       41183823        I         2249     2248 2018-08-12   \n",
       "4       41183823        I         2249     2248 2018-08-12   \n",
       "...          ...      ...          ...      ...        ...   \n",
       "15219  103004540        I         2249     2225 2021-05-28   \n",
       "15220  103005058        I         2249     2248 2021-05-27   \n",
       "15221  102732184        I         2249     2225 2021-05-24   \n",
       "15222  102732184        I         2249     2225 2021-05-24   \n",
       "15223  102732184        I         2249     2225 2021-05-24   \n",
       "\n",
       "          FIRST_DECL_TIME TRAF_MODE      GOODS_OWNER DEPARTURE_CY    HEAD_ID  \\\n",
       "0     2018-08-13 11:23:55         2  上海综合保税区国际物流有限公司          NZL   41169566   \n",
       "1     2018-08-13 11:23:55         2  上海综合保税区国际物流有限公司          NZL   41169566   \n",
       "2     2018-08-13 11:23:55         2  上海综合保税区国际物流有限公司          NZL   41169566   \n",
       "3     2018-08-13 13:52:47         2  上海综合保税区国际物流有限公司          NZL   41183823   \n",
       "4     2018-08-13 13:52:47         2  上海综合保税区国际物流有限公司          NZL   41183823   \n",
       "...                   ...       ...              ...          ...        ...   \n",
       "15219 2021-05-28 14:33:17         2  上海综合保税区国际物流有限公司          KOR  103004540   \n",
       "15220 2021-05-28 14:36:30         2  上海综合保税区国际物流有限公司          SVN  103005058   \n",
       "15221 2021-05-25 13:26:57         2  上海综合保税区国际物流有限公司          SGP  102732184   \n",
       "15222 2021-05-25 13:26:57         2  上海综合保税区国际物流有限公司          SGP  102732184   \n",
       "15223 2021-05-25 13:26:57         2  上海综合保税区国际物流有限公司          SGP  102732184   \n",
       "\n",
       "       ...  NO_DGRGD_FLAG  CIQ_DOM_DEST_CODE CIQ_GOODS_SPEC CIQ_GOODS_MODEL  \\\n",
       "0      ...           None               None           None            None   \n",
       "1      ...           None               None           None            None   \n",
       "2      ...           None               None           None            None   \n",
       "3      ...           None               None           None            None   \n",
       "4      ...           None               None           None            None   \n",
       "...    ...            ...                ...            ...             ...   \n",
       "15219  ...           None             310115           None            None   \n",
       "15220  ...           None             310115           None            None   \n",
       "15221  ...           None             310115           None            None   \n",
       "15222  ...           None             310115           None            None   \n",
       "15223  ...           None             310115           None            None   \n",
       "\n",
       "      CIQ_GOODS_BRAND PRODUCE_DATE  PRODUCE_BATCH_NO  \\\n",
       "0                None         None              None   \n",
       "1                None         None              None   \n",
       "2                None         None              None   \n",
       "3                None         None              None   \n",
       "4                None         None              None   \n",
       "...               ...          ...               ...   \n",
       "15219            None         None              None   \n",
       "15220            None         None              None   \n",
       "15221            None         None              None   \n",
       "15222            None         None              None   \n",
       "15223            None         None              None   \n",
       "\n",
       "                           CIQ_NAME PRODUCER_REGISTER_NO  \\\n",
       "0                              None                 None   \n",
       "1                              None                 None   \n",
       "2                              None                 None   \n",
       "3                              None                 None   \n",
       "4                              None                 None   \n",
       "...                             ...                  ...   \n",
       "15219                            光缆                 None   \n",
       "15220  800毫升＜排量装往复式活塞内燃发动机摩托车及脚踏两用车                 None   \n",
       "15221   其他未列名硫化橡胶制品(硬质橡胶除外)(硫化橡胶制品)                 None   \n",
       "15222                     其他工业用钢铁制品                 None   \n",
       "15223   其他未列名硫化橡胶制品(硬质橡胶除外)(硫化橡胶制品)                 None   \n",
       "\n",
       "       PRODUCER_REGISTER_NAME  \n",
       "0                        None  \n",
       "1                        None  \n",
       "2                        None  \n",
       "3                        None  \n",
       "4                        None  \n",
       "...                       ...  \n",
       "15219                    None  \n",
       "15220                    None  \n",
       "15221                    None  \n",
       "15222                    None  \n",
       "15223                    None  \n",
       "\n",
       "[15224 rows x 88 columns]"
      ]
     },
     "execution_count": 41,
     "metadata": {},
     "output_type": "execute_result"
    }
   ],
   "source": [
    "CUS_SEA_IMPORT"
   ]
  },
  {
   "cell_type": "code",
   "execution_count": 14,
   "metadata": {},
   "outputs": [
    {
     "data": {
      "text/plain": [
       "(100000, 67)"
      ]
     },
     "execution_count": 14,
     "metadata": {},
     "output_type": "execute_result"
    }
   ],
   "source": [
    "STOCK_BILL.shape"
   ]
  },
  {
   "cell_type": "code",
   "execution_count": 58,
   "metadata": {},
   "outputs": [
    {
     "ename": "NameError",
     "evalue": "name 'STOCK_BILL' is not defined",
     "output_type": "error",
     "traceback": [
      "\u001b[1;31m---------------------------------------------------------------------------\u001b[0m",
      "\u001b[1;31mNameError\u001b[0m                                 Traceback (most recent call last)",
      "\u001b[1;32m<ipython-input-58-f4f0eda33b4b>\u001b[0m in \u001b[0;36m<module>\u001b[1;34m\u001b[0m\n\u001b[1;32m----> 1\u001b[1;33m \u001b[1;32mdel\u001b[0m \u001b[0mSTOCK_BILL\u001b[0m\u001b[1;33m,\u001b[0m\u001b[0mCUS_SEA_IMPORT\u001b[0m\u001b[1;33m\u001b[0m\u001b[1;33m\u001b[0m\u001b[0m\n\u001b[0m",
      "\u001b[1;31mNameError\u001b[0m: name 'STOCK_BILL' is not defined"
     ]
    }
   ],
   "source": [
    "del STOCK_BILL,CUS_SEA_IMPORT"
   ]
  },
  {
   "cell_type": "code",
   "execution_count": 35,
   "metadata": {},
   "outputs": [
    {
     "data": {
      "text/plain": [
       "Index(['ID_x', 'I_E_MARK', 'CUSTOMS_CODE', 'I_E_PORT', 'I_E_DATE',\n",
       "       'FIRST_DECL_TIME', 'TRAF_MODE', 'GOODS_OWNER', 'DEPARTURE_CY', 'ID_y',\n",
       "       'HEAD_ID', 'VSL_VOY_KEY', 'VSL_NAME_KEY', 'ACCURATE_VSLNAME',\n",
       "       'ACCURATE_VOYAGE', 'VSL_NAME', 'VOYAGE', 'BL_NO_KEY', 'BL_NO',\n",
       "       'ENTRY_NO', 'GOODS_NO', 'GOODS_CODE_KEY', 'GOODS_CODE', 'GOODS_NAME',\n",
       "       'GOODS_MODEL', 'ORI_AREA_CODE_KEY', 'ORG_CODE_CY', 'CONTR_ITEM',\n",
       "       'G_QTY', 'G_UNIT', 'QTY_1', 'UNIT_1', 'QTY_2', 'UNIT_2',\n",
       "       'TRADE_CURR_KEY', 'TRADE_CURR_CODE', 'DECL_PRICE', 'DECL_TOTAL',\n",
       "       'EXCHANGE_RATE', 'GOODS_GROSS_VALUE_RMB', 'USER_TO', 'DUTY_MODE_KEY',\n",
       "       'DUTY_MODE', 'WORK_USD', 'PDRT_NO', 'PROCESS_MATERIAL_PRDT_NO',\n",
       "       'DEST_CY_KEY', 'DEST_CY', 'ISDELETED', 'SYSTEMKEY', 'FEED', 'FEEDKEY',\n",
       "       'FEEDVALUE', 'LASTUPDATEDDT', 'FIRSTINSERTEDDT', 'ID_FACTTECHNICALID',\n",
       "       'EXCHANGE_RATE_USD', 'GOODS_GROSS_VALUE_USD', 'G_UNIT_KEY',\n",
       "       'UNIT_1_KEY', 'UNIT_2_KEY', 'CUS_DOM_DEST_CODE_KEY',\n",
       "       'CUS_DOM_DEST_CODE', 'ACCURATE_IMONO', 'GUID', 'SUPPLE_TYPE',\n",
       "       'CIQ_CODE', 'DECL_GOODS_NAME_EN', 'ORIGINAL_PLACE_CODE', 'PURPOSE_CODE',\n",
       "       'PRODUCT_VALID_DATE', 'PRODUCT_QUALITY_DATE', 'GOODS_ATTR_CODE',\n",
       "       'STUFF', 'UN_CODE', 'DGRGD_NAME', 'DGRGD_PKG_TYPE_CODE',\n",
       "       'DGRGD_PKG_SPEC', 'OVERSEAS_PRODUCER_NAME', 'NO_DGRGD_FLAG',\n",
       "       'CIQ_DOM_DEST_CODE', 'CIQ_GOODS_SPEC', 'CIQ_GOODS_MODEL',\n",
       "       'CIQ_GOODS_BRAND', 'PRODUCE_DATE', 'PRODUCE_BATCH_NO', 'CIQ_NAME',\n",
       "       'PRODUCER_REGISTER_NO', 'PRODUCER_REGISTER_NAME'],\n",
       "      dtype='object')"
      ]
     },
     "execution_count": 35,
     "metadata": {},
     "output_type": "execute_result"
    }
   ],
   "source": [
    "CUS_SEA_IMPORT.columns"
   ]
  },
  {
   "cell_type": "code",
   "execution_count": null,
   "metadata": {},
   "outputs": [],
   "source": []
  },
  {
   "cell_type": "code",
   "execution_count": 44,
   "metadata": {},
   "outputs": [
    {
     "data": {
      "text/plain": [
       "array(['11', '1', '20', '21', '7', '2', '8', '6', '3', '5', '4', '22',\n",
       "       '13', '17', '10', '9', '12', '0', '14', '19', '18', '16', '15',\n",
       "       '26', '27', '28', '29', '30', '31', '32', '35', '36', '23', '33',\n",
       "       '24', '25', '39', '38', '34', '40', '41', '37', '42', None, '46',\n",
       "       '47', '43', '48', '49', '44', '45', '50'], dtype=object)"
      ]
     },
     "execution_count": 44,
     "metadata": {},
     "output_type": "execute_result"
    }
   ],
   "source": [
    "STOCK_BILL['ENTRY_GDS_SEQNO'].unique()"
   ]
  },
  {
   "cell_type": "code",
   "execution_count": 46,
   "metadata": {},
   "outputs": [],
   "source": [
    "STOCK_BILL['ENTRY_GDS_SEQNO'] = STOCK_BILL['ENTRY_GDS_SEQNO'].astype(int)"
   ]
  },
  {
   "cell_type": "code",
   "execution_count": 47,
   "metadata": {},
   "outputs": [],
   "source": [
    "test = pd.merge(STOCK_BILL,CUS_SEA_IMPORT,how='left',left_on=['ENTRY_NO','BILL_NO','ENTRY_GDS_SEQNO'],right_on=['ENTRY_NO','BL_NO','GOODS_NO'])"
   ]
  },
  {
   "cell_type": "code",
   "execution_count": 56,
   "metadata": {},
   "outputs": [],
   "source": [
    "test = test[-pd.isnull(test['FIRST_DECL_TIME'])].copy()"
   ]
  },
  {
   "cell_type": "code",
   "execution_count": 7,
   "metadata": {},
   "outputs": [
    {
     "data": {
      "text/plain": [
       "Index(['ORG_CODE', 'ORG_KEY', 'ORG_NAME', 'ID', 'STOCK_BILL_TYPE',\n",
       "       'STOCK_BILL_NO', 'STOCK_TYPE', 'BILL_TYPE', 'TRADE_CODE', 'TRADE_NAME',\n",
       "       'OWNER_NAME', 'BUSINESS_TYPE', 'DECL_STOCK_DATE', 'ACTRUAL_STOCK_DATE',\n",
       "       'BILL_STATUS', 'CLASSIFY_TYPE', 'SUPV_MODE', 'TRAF_MODE', 'I_E_PORT',\n",
       "       'CUSTOMS_CODE', 'DESTINATION_CODE', 'STSHIP_TRSARV_CODE',\n",
       "       'TRADE_COUNTRY_CODE', 'DISTRICT_CODE', 'TRANS_MODE', 'COP_G_NO',\n",
       "       'G_NAME', 'G_MODEL', 'ORIGIN_COUNTRY_CODE', 'HS_CODE', 'CIQ_CODE',\n",
       "       'QTY', 'G_UNIT', 'QTY_1', 'UNIT_1', 'QTY_2', 'UNIT_2', 'NET_WT',\n",
       "       'GROSS_WT', 'WH_NO', 'WH_LOC', 'ORDER_NO', 'TRADE_CURR', 'UNIT_PRICE',\n",
       "       'RLT_INVT_NO', 'TRANSIT_TIME', 'DCLCUS_FLAG', 'ENTRY_NO', 'BILL_NO',\n",
       "       'PASS_TIME', 'RLT_ENTRY_NO', 'ENTRY_GDS_SEQNO', 'INPUTDBTIME',\n",
       "       'SNAPSHOTID', 'ISCURRENT', 'ISDELETED', 'SYSTEMKEY', 'FEED', 'FEEDKEY',\n",
       "       'FEEDVALUE', 'LASTUPDATEDDT', 'STARTDT', 'ENDDT', 'CAPXACTION',\n",
       "       'BILL_DETAIL_SEQNO', 'TRADE_TOTAL', 'ID_FACTTECHNICALID'],\n",
       "      dtype='object')"
      ]
     },
     "execution_count": 7,
     "metadata": {},
     "output_type": "execute_result"
    }
   ],
   "source": [
    "STOCK_BILL.columns"
   ]
  },
  {
   "cell_type": "code",
   "execution_count": 21,
   "metadata": {},
   "outputs": [
    {
     "data": {
      "text/plain": [
       "0    6\n",
       "1    5\n",
       "2    8\n",
       "3    6\n",
       "Name: ENTRY_GDS_SEQNO, dtype: object"
      ]
     },
     "execution_count": 21,
     "metadata": {},
     "output_type": "execute_result"
    }
   ],
   "source": [
    "STOCK_BILL['ENTRY_GDS_SEQNO']"
   ]
  },
  {
   "cell_type": "code",
   "execution_count": 22,
   "metadata": {},
   "outputs": [
    {
     "data": {
      "text/html": [
       "<div>\n",
       "<style scoped>\n",
       "    .dataframe tbody tr th:only-of-type {\n",
       "        vertical-align: middle;\n",
       "    }\n",
       "\n",
       "    .dataframe tbody tr th {\n",
       "        vertical-align: top;\n",
       "    }\n",
       "\n",
       "    .dataframe thead th {\n",
       "        text-align: right;\n",
       "    }\n",
       "</style>\n",
       "<table border=\"1\" class=\"dataframe\">\n",
       "  <thead>\n",
       "    <tr style=\"text-align: right;\">\n",
       "      <th></th>\n",
       "      <th>ORG_CODE</th>\n",
       "      <th>ORG_KEY</th>\n",
       "      <th>ORG_NAME</th>\n",
       "      <th>ID</th>\n",
       "      <th>STOCK_BILL_TYPE</th>\n",
       "      <th>STOCK_BILL_NO</th>\n",
       "      <th>STOCK_TYPE</th>\n",
       "      <th>BILL_TYPE</th>\n",
       "      <th>TRADE_CODE</th>\n",
       "      <th>TRADE_NAME</th>\n",
       "      <th>...</th>\n",
       "      <th>FEED</th>\n",
       "      <th>FEEDKEY</th>\n",
       "      <th>FEEDVALUE</th>\n",
       "      <th>LASTUPDATEDDT</th>\n",
       "      <th>STARTDT</th>\n",
       "      <th>ENDDT</th>\n",
       "      <th>CAPXACTION</th>\n",
       "      <th>BILL_DETAIL_SEQNO</th>\n",
       "      <th>TRADE_TOTAL</th>\n",
       "      <th>ID_FACTTECHNICALID</th>\n",
       "    </tr>\n",
       "  </thead>\n",
       "  <tbody>\n",
       "    <tr>\n",
       "      <th>0</th>\n",
       "      <td>91310115688774070B</td>\n",
       "      <td>3</td>\n",
       "      <td>上海综合保税区国际物流有限公司</td>\n",
       "      <td>1358372</td>\n",
       "      <td>1</td>\n",
       "      <td>LGR-2020050305</td>\n",
       "      <td>1</td>\n",
       "      <td>1</td>\n",
       "      <td>3116610013</td>\n",
       "      <td>上海综合保税区国际物流有限公司</td>\n",
       "      <td>...</td>\n",
       "      <td>STOCK_BILL_NEW</td>\n",
       "      <td>ID</td>\n",
       "      <td>262407</td>\n",
       "      <td>2020-08-06 16:02:21.915915</td>\n",
       "      <td>2020-05-20 17:02:36.959563</td>\n",
       "      <td>None</td>\n",
       "      <td>U</td>\n",
       "      <td>I571367</td>\n",
       "      <td>1921.2000</td>\n",
       "      <td>24C1C04113FC22CBA6C5A407CD65F6E7</td>\n",
       "    </tr>\n",
       "    <tr>\n",
       "      <th>1</th>\n",
       "      <td>91310115688774070B</td>\n",
       "      <td>3</td>\n",
       "      <td>上海综合保税区国际物流有限公司</td>\n",
       "      <td>1358375</td>\n",
       "      <td>1</td>\n",
       "      <td>LGR-2020050305</td>\n",
       "      <td>1</td>\n",
       "      <td>1</td>\n",
       "      <td>3116610013</td>\n",
       "      <td>上海综合保税区国际物流有限公司</td>\n",
       "      <td>...</td>\n",
       "      <td>STOCK_BILL_NEW</td>\n",
       "      <td>ID</td>\n",
       "      <td>262410</td>\n",
       "      <td>2020-08-06 16:02:21.915915</td>\n",
       "      <td>2020-05-20 17:02:36.959563</td>\n",
       "      <td>None</td>\n",
       "      <td>U</td>\n",
       "      <td>I571370</td>\n",
       "      <td>10507.0000</td>\n",
       "      <td>3A209190D1FBA8E80045784517933622</td>\n",
       "    </tr>\n",
       "    <tr>\n",
       "      <th>2</th>\n",
       "      <td>91310115688774070B</td>\n",
       "      <td>3</td>\n",
       "      <td>上海综合保税区国际物流有限公司</td>\n",
       "      <td>1358363</td>\n",
       "      <td>1</td>\n",
       "      <td>LGR-2020050305</td>\n",
       "      <td>1</td>\n",
       "      <td>1</td>\n",
       "      <td>3116610013</td>\n",
       "      <td>上海综合保税区国际物流有限公司</td>\n",
       "      <td>...</td>\n",
       "      <td>STOCK_BILL_NEW</td>\n",
       "      <td>ID</td>\n",
       "      <td>262415</td>\n",
       "      <td>2020-08-06 16:02:21.915915</td>\n",
       "      <td>2020-05-20 17:02:36.959563</td>\n",
       "      <td>None</td>\n",
       "      <td>U</td>\n",
       "      <td>I571375</td>\n",
       "      <td>64.6200</td>\n",
       "      <td>F11D1E4B54E5E4725D71D99572A03780</td>\n",
       "    </tr>\n",
       "    <tr>\n",
       "      <th>3</th>\n",
       "      <td>91310115688774070B</td>\n",
       "      <td>3</td>\n",
       "      <td>上海综合保税区国际物流有限公司</td>\n",
       "      <td>1358371</td>\n",
       "      <td>1</td>\n",
       "      <td>LGR-2020050305</td>\n",
       "      <td>1</td>\n",
       "      <td>1</td>\n",
       "      <td>3116610013</td>\n",
       "      <td>上海综合保税区国际物流有限公司</td>\n",
       "      <td>...</td>\n",
       "      <td>STOCK_BILL_NEW</td>\n",
       "      <td>ID</td>\n",
       "      <td>262421</td>\n",
       "      <td>2020-08-06 16:02:21.915915</td>\n",
       "      <td>2020-05-20 17:02:36.959563</td>\n",
       "      <td>None</td>\n",
       "      <td>U</td>\n",
       "      <td>I571381</td>\n",
       "      <td>3365.5000</td>\n",
       "      <td>C7E3934312BB7DA7AA95C2D70C18C24B</td>\n",
       "    </tr>\n",
       "  </tbody>\n",
       "</table>\n",
       "<p>4 rows × 67 columns</p>\n",
       "</div>"
      ],
      "text/plain": [
       "             ORG_CODE  ORG_KEY         ORG_NAME       ID STOCK_BILL_TYPE  \\\n",
       "0  91310115688774070B        3  上海综合保税区国际物流有限公司  1358372               1   \n",
       "1  91310115688774070B        3  上海综合保税区国际物流有限公司  1358375               1   \n",
       "2  91310115688774070B        3  上海综合保税区国际物流有限公司  1358363               1   \n",
       "3  91310115688774070B        3  上海综合保税区国际物流有限公司  1358371               1   \n",
       "\n",
       "    STOCK_BILL_NO STOCK_TYPE BILL_TYPE  TRADE_CODE       TRADE_NAME  ...  \\\n",
       "0  LGR-2020050305          1         1  3116610013  上海综合保税区国际物流有限公司  ...   \n",
       "1  LGR-2020050305          1         1  3116610013  上海综合保税区国际物流有限公司  ...   \n",
       "2  LGR-2020050305          1         1  3116610013  上海综合保税区国际物流有限公司  ...   \n",
       "3  LGR-2020050305          1         1  3116610013  上海综合保税区国际物流有限公司  ...   \n",
       "\n",
       "             FEED FEEDKEY FEEDVALUE              LASTUPDATEDDT  \\\n",
       "0  STOCK_BILL_NEW      ID    262407 2020-08-06 16:02:21.915915   \n",
       "1  STOCK_BILL_NEW      ID    262410 2020-08-06 16:02:21.915915   \n",
       "2  STOCK_BILL_NEW      ID    262415 2020-08-06 16:02:21.915915   \n",
       "3  STOCK_BILL_NEW      ID    262421 2020-08-06 16:02:21.915915   \n",
       "\n",
       "                     STARTDT ENDDT CAPXACTION BILL_DETAIL_SEQNO TRADE_TOTAL  \\\n",
       "0 2020-05-20 17:02:36.959563  None          U           I571367   1921.2000   \n",
       "1 2020-05-20 17:02:36.959563  None          U           I571370  10507.0000   \n",
       "2 2020-05-20 17:02:36.959563  None          U           I571375     64.6200   \n",
       "3 2020-05-20 17:02:36.959563  None          U           I571381   3365.5000   \n",
       "\n",
       "                 ID_FACTTECHNICALID  \n",
       "0  24C1C04113FC22CBA6C5A407CD65F6E7  \n",
       "1  3A209190D1FBA8E80045784517933622  \n",
       "2  F11D1E4B54E5E4725D71D99572A03780  \n",
       "3  C7E3934312BB7DA7AA95C2D70C18C24B  \n",
       "\n",
       "[4 rows x 67 columns]"
      ]
     },
     "execution_count": 22,
     "metadata": {},
     "output_type": "execute_result"
    }
   ],
   "source": []
  },
  {
   "cell_type": "code",
   "execution_count": 64,
   "metadata": {},
   "outputs": [
    {
     "data": {
      "text/plain": [
       "Index(['ORG_CODE', 'ORG_KEY', 'ORG_NAME', 'ID_x', 'STOCK_BILL_TYPE',\n",
       "       'STOCK_BILL_NO', 'STOCK_TYPE', 'BILL_TYPE', 'TRADE_CODE', 'TRADE_NAME',\n",
       "       ...\n",
       "       'NO_DGRGD_FLAG', 'CIQ_DOM_DEST_CODE', 'CIQ_GOODS_SPEC',\n",
       "       'CIQ_GOODS_MODEL', 'CIQ_GOODS_BRAND', 'PRODUCE_DATE',\n",
       "       'PRODUCE_BATCH_NO', 'CIQ_NAME', 'PRODUCER_REGISTER_NO',\n",
       "       'PRODUCER_REGISTER_NAME'],\n",
       "      dtype='object', length=154)"
      ]
     },
     "execution_count": 64,
     "metadata": {},
     "output_type": "execute_result"
    }
   ],
   "source": [
    "test.columns"
   ]
  },
  {
   "cell_type": "code",
   "execution_count": 62,
   "metadata": {},
   "outputs": [],
   "source": [
    "df = test.groupby(['ORG_CODE','BILL_NO','ENTRY_NO','ENTRY_GDS_SEQNO'])"
   ]
  },
  {
   "cell_type": "code",
   "execution_count": 63,
   "metadata": {},
   "outputs": [
    {
     "data": {
      "text/plain": [
       "<pandas.core.groupby.generic.DataFrameGroupBy object at 0x00000189AB6A94C0>"
      ]
     },
     "execution_count": 63,
     "metadata": {},
     "output_type": "execute_result"
    }
   ],
   "source": []
  },
  {
   "cell_type": "code",
   "execution_count": 6,
   "metadata": {},
   "outputs": [
    {
     "name": "stderr",
     "output_type": "stream",
     "text": [
      "2021-06-04 14:30:01.761 | INFO     | risk_models.config.read_config.read_func:read_oracle:82 - Read Table successfully! , Total read time spent 11.15s\n",
      "2021-06-04 14:30:19.303 | INFO     | risk_models.config.read_config.read_func:read_oracle:82 - Read Table successfully! , Total read time spent 17.53s\n",
      "2021-06-04 14:30:33.469 | INFO     | risk_models.config.read_config.read_func:read_oracle:82 - Read Table successfully! , Total read time spent 14.16s\n",
      "2021-06-04 14:31:38.398 | INFO     | risk_models.config.read_config.read_func:read_oracle:82 - Read Table successfully! , Total read time spent 64.92s\n",
      "2021-06-04 14:32:29.002 | INFO     | risk_models.config.read_config.read_func:read_oracle:82 - Read Table successfully! , Total read time spent 50.59s\n",
      "2021-06-04 14:33:27.293 | INFO     | risk_models.config.read_config.read_func:read_oracle:82 - Read Table successfully! , Total read time spent 58.28s\n",
      "2021-06-04 14:34:41.693 | INFO     | risk_models.config.read_config.read_func:read_oracle:82 - Read Table successfully! , Total read time spent 74.39s\n",
      "2021-06-04 14:35:46.514 | INFO     | risk_models.config.read_config.read_func:read_oracle:82 - Read Table successfully! , Total read time spent 64.81s\n",
      "2021-06-04 14:36:27.444 | INFO     | risk_models.config.read_config.read_func:read_oracle:82 - Read Table successfully! , Total read time spent 40.92s\n",
      "2021-06-04 14:36:27.543 | INFO     | risk_models.config.read_config.read_func:read_oracle:82 - Read Table successfully! , Total read time spent 0.096s\n",
      "2021-06-04 14:36:27.629 | INFO     | risk_models.config.read_config.read_func:read_oracle:82 - Read Table successfully! , Total read time spent 0.082s\n",
      "<ipython-input-6-12c07ede9ee5>:129: FutureWarning: Indexing with multiple keys (implicitly converted to a tuple of keys) will be deprecated, use a list instead.\n",
      "  stock_bill_sum = STOCK_BILL.groupby(['ORG_CODE','ENTRY_NO','ENTRY_GDS_SEQNO'])['QTY','QTY_1','QTY_2','TRADE_TOTAL'].sum()\n",
      "2021-06-04 14:36:34.632 | INFO     | risk_models.config.read_config.read_func:read_oracle:82 - Read Table successfully! , Total read time spent 0.101s\n",
      "2021-06-04 14:36:35.786 | INFO     | risk_models.config.write_config.write_func:write_oracle:163 - Processing... Writing 108490 rows into database\n",
      "2021-06-04 14:37:34.313 | INFO     | risk_models.config.write_config.write_func:write_oracle:170 - Insert data into BD_RISK_DETAIL_WAREHOUSE_WH1_C successfully! Total write time spent 60.10s\n",
      "2021-06-04 14:37:34.604 | INFO     | risk_models.config.read_config.read_func:read_oracle:82 - Read Table successfully! , Total read time spent 0.104s\n",
      "2021-06-04 14:37:35.208 | INFO     | risk_models.config.write_config.write_func:write_oracle:163 - Processing... Writing 25792 rows into database\n",
      "2021-06-04 14:37:41.376 | INFO     | risk_models.config.write_config.write_func:write_oracle:170 - Insert data into BD_RISK_DETAIL_WAREHOUSE_WH1_S successfully! Total write time spent 7.019s\n",
      "2021-06-04 14:37:41.964 | INFO     | risk_models.config.log_config.log_func:gen_log_json:37 - updating child_task_id:0001_0005 log msg into BD_RISK_MODEL_LOG successfully!\n",
      "2021-06-04 14:37:43.163 | INFO     | risk_models.config.write_config.write_log:write_oracle:52 - Updated child_task_id: 0001_0005 log msg into BD_RISK_MODEL_LOG successfully!\n"
     ]
    }
   ],
   "source": [
    "import sys\n",
    "import os\n",
    "from os import path\n",
    "\n",
    "sys.path.append('C:\\\\Users\\\\Administrator\\\\Desktop\\\\风控产品\\\\risk_project')\n",
    "# sys.path.append(path.dirname(path.dirname(path.dirname(os.getcwd()))))\n",
    "from risk_models import *\n",
    "\n",
    "\n",
    "class WarehouseCleanWh1(object):\n",
    "    def __init__(self, org_code, params, base_time, child_task_id):\n",
    "        self.model_code = 'WAREHOUSE'\n",
    "        self.child_model_code = 'WH1'\n",
    "        self.child_task_id = child_task_id\n",
    "        Risk_logger(child_task_id=self.child_task_id, exec_status=None)\n",
    "\n",
    "        # 参数读取\n",
    "        self.org_code = org_code\n",
    "        self.startdt = datetime.datetime.strptime(base_time,\"%Y-%m-%d %H:%M:%S\") + datetime.timedelta(days=-330)\n",
    "        self.startdt2 = datetime.datetime.strptime(base_time,\"%Y-%m-%d %H:%M:%S\") + datetime.timedelta(days=-360)\n",
    "        self.startdt = self.startdt.strftime('%Y-%m-%d')\n",
    "        self.startdt2 = self.startdt2.strftime('%Y-%m-%d')\n",
    "        self.enddt = datetime.datetime.strptime(base_time,\"%Y-%m-%d %H:%M:%S\").strftime('%Y-%m-%d')       \n",
    "\n",
    "\n",
    "    def clean_wh1(self):\n",
    "        # 为了测试有限制行数，记得去掉行数限制\n",
    "        sql = f\"\"\"\\\n",
    "        SELECT * FROM (select * from {TableList.WAREHOUSE_STOCK_BILL.value} where org_code like '{self.org_code}' and iscurrent = 1 and dclcus_flag = 1) WHERE ROWNUM<=100000\n",
    "        \"\"\"\n",
    "        STOCK_BILL = Read_Oracle().read_oracle(sql=sql, database='dbods')\n",
    "\n",
    "        # 报关单语句应加上时间限制，用 startdt2\n",
    "        sql = f\"\"\"\\\n",
    "        SELECT ID,I_E_MARK,CUSTOMS_CODE,I_E_PORT,I_E_DATE,FIRST_DECL_TIME,TRAF_MODE,GOODS_OWNER FROM {TableList.FT_I_DTL_SEA_PRE_RECORDED.value} WHERE ISDELETED = 0 AND TRADE_CODE_SCC LIKE '{self.org_code}' AND I_E_DATE >= DATE'{self.startdt2}' AND I_E_DATE <= DATE'{self.enddt}'\n",
    "        \"\"\"\n",
    "        CUS_SEA_HEAD_I = Read_Oracle().read_oracle(sql=sql, database='dbdw')\n",
    "\n",
    "        sql = f\"\"\"\\\n",
    "        SELECT HEAD_ID, ENTRY_NO, GOODS_NO, GOODS_CODE, GOODS_NAME, GOODS_MODEL, \n",
    "        ORG_CODE_CY, G_QTY, G_UNIT, QTY_1, UNIT_1, QTY_2, UNIT_2, TRADE_CURR_CODE, \n",
    "        DECL_TOTAL,'SEA' AS SRC FROM {TableList.FT_I_DTL_SEA_LIST.value} WHERE ISDELETED = 0\n",
    "        AND HEAD_ID IN\n",
    "        (SELECT ID FROM {TableList.FT_I_DTL_SEA_PRE_RECORDED.value} WHERE ISDELETED = 0 AND TRADE_CODE_SCC LIKE '{self.org_code}' AND I_E_DATE >= DATE'{self.startdt2}' AND I_E_DATE <= DATE'{self.enddt}')\n",
    "        \"\"\"\n",
    "        CUS_SEA_LIST_I = Read_Oracle().read_oracle(sql=sql, database='dbdw')\n",
    "\n",
    "        sql = f\"\"\"\\\n",
    "        SELECT ID,I_E_MARK,CUSTOMS_CODE,I_E_PORT,I_E_DATE,FIRST_DECL_TIME,TRAF_MODE,GOODS_OWNER FROM {TableList.FT_I_DTL_OTR_PRE_RECORDED.value} WHERE ISDELETED = 0 AND TRADE_CODE_SCC LIKE '{self.org_code}' AND I_E_DATE >= DATE'{self.startdt2}' AND I_E_DATE <= DATE'{self.enddt}'\n",
    "        \"\"\"\n",
    "        CUS_OTR_HEAD_I = Read_Oracle().read_oracle(sql=sql, database='dbdw')\n",
    "\n",
    "        sql = f\"\"\"\\\n",
    "        SELECT HEAD_ID, ENTRY_NO, GOODS_NO, GOODS_CODE, GOODS_NAME, GOODS_MODEL, \n",
    "        ORG_CODE_CY, G_QTY, G_UNIT, QTY_1, UNIT_1, QTY_2, UNIT_2, TRADE_CURR_CODE, \n",
    "        DECL_TOTAL,'OTR' AS SRC FROM {TableList.FT_I_DTL_OTR_LIST.value} WHERE ISDELETED = 0\n",
    "        AND HEAD_ID IN\n",
    "        (SELECT ID FROM {TableList.FT_I_DTL_OTR_PRE_RECORDED.value} WHERE ISDELETED = 0 AND TRADE_CODE_SCC LIKE '{self.org_code}' AND I_E_DATE >= DATE'{self.startdt2}' AND I_E_DATE <= DATE'{self.enddt}')\n",
    "        \"\"\"\n",
    "        CUS_OTR_LIST_I = Read_Oracle().read_oracle(sql=sql, database='dbdw')\n",
    "\n",
    "        sql = f\"\"\"\\\n",
    "        SELECT ID,I_E_MARK,CUSTOMS_CODE,I_E_PORT,I_E_DATE,FIRST_DECL_TIME,TRAF_MODE,GOODS_OWNER FROM {TableList.FT_E_DTL_SEA_PRE_RECORDED.value} WHERE ISDELETED = 0 AND TRADE_CODE_SCC LIKE '{self.org_code}' AND I_E_DATE >= DATE'{self.startdt2}' AND I_E_DATE <= DATE'{self.enddt}'\n",
    "        \"\"\"\n",
    "        CUS_SEA_HEAD_E = Read_Oracle().read_oracle(sql=sql, database='dbdw')\n",
    "\n",
    "        sql = f\"\"\"\\\n",
    "        SELECT HEAD_ID, ENTRY_NO, GOODS_NO, GOODS_CODE, GOODS_NAME, GOODS_MODEL, \n",
    "        ORG_CODE_CY, G_QTY, G_UNIT, QTY_1, UNIT_1, QTY_2, UNIT_2, TRADE_CURR_CODE, \n",
    "        DECL_TOTAL,'SEA' AS SRC FROM {TableList.FT_E_DTL_SEA_LIST.value} WHERE ISDELETED = 0\n",
    "        AND HEAD_ID IN\n",
    "        (SELECT ID FROM {TableList.FT_E_DTL_SEA_PRE_RECORDED.value} WHERE ISDELETED = 0 AND TRADE_CODE_SCC LIKE '{self.org_code}' AND I_E_DATE >= DATE'{self.startdt2}' AND I_E_DATE <= DATE'{self.enddt}')\n",
    "        \"\"\"\n",
    "        CUS_SEA_LIST_E = Read_Oracle().read_oracle(sql=sql, database='dbdw')\n",
    "\n",
    "        sql = f\"\"\"\\\n",
    "        SELECT ID,I_E_MARK,CUSTOMS_CODE,I_E_PORT,I_E_DATE,FIRST_DECL_TIME,TRAF_MODE,GOODS_OWNER FROM {TableList.FT_E_DTL_OTR_PRE_RECORDED.value} WHERE ISDELETED = 0 AND TRADE_CODE_SCC LIKE '{self.org_code}' AND I_E_DATE >= DATE'{self.startdt2}' AND I_E_DATE <= DATE'{self.enddt}'\n",
    "        \"\"\"\n",
    "        CUS_OTR_HEAD_E = Read_Oracle().read_oracle(sql=sql, database='dbdw')\n",
    "\n",
    "        sql = f\"\"\"\\\n",
    "        SELECT HEAD_ID, ENTRY_NO, GOODS_NO, GOODS_CODE, GOODS_NAME, GOODS_MODEL, \n",
    "        ORG_CODE_CY, G_QTY, G_UNIT, QTY_1, UNIT_1, QTY_2, UNIT_2, TRADE_CURR_CODE, \n",
    "        DECL_TOTAL,'OTR' AS SRC FROM {TableList.FT_E_DTL_OTR_LIST.value} WHERE ISDELETED = 0\n",
    "        AND HEAD_ID IN\n",
    "        (SELECT ID FROM {TableList.FT_E_DTL_OTR_PRE_RECORDED.value} WHERE ISDELETED = 0 AND TRADE_CODE_SCC LIKE '{self.org_code}' AND I_E_DATE >= DATE'{self.startdt2}' AND I_E_DATE <= DATE'{self.enddt}')\n",
    "        \"\"\"\n",
    "        CUS_OTR_LIST_E = Read_Oracle().read_oracle(sql=sql, database='dbdw')\n",
    "\n",
    "        sql = f\"\"\"\\\n",
    "        SELECT CY_CODE_ALPHY3,CY_CODE_CUS_NUMBER FROM {TableList.DIM_COUNTRY.value} WHERE ISCURRENT = 1 AND REGEXP_LIKE(CY_CODE_CUS_NUMBER,'^[0-9]*$') AND CY_CODE_CUS_NUMBER NOT LIKE '299' \n",
    "        \"\"\"\n",
    "        DIM_COUNTRY = Read_Oracle().read_oracle(sql=sql, database='dbdw')\n",
    "\n",
    "        sql = f\"\"\"\\\n",
    "        SELECT CUS_CURRENCY_CODE,CURRENCY_CODE FROM {TableList.MAP_GJ_CURRENCY.value}\n",
    "        \"\"\"\n",
    "        DIM_CURR = Read_Oracle().read_oracle(sql=sql, database='dbdw')\n",
    "\n",
    "        CUS_SEA_IMPORT = pd.merge(CUS_SEA_HEAD_I,CUS_SEA_LIST_I,how='inner',left_on=['ID'],right_on=['HEAD_ID'])\n",
    "        CUS_SEA_IMPORT = CUS_SEA_IMPORT.drop_duplicates(subset=['ENTRY_NO','GOODS_NO'])\n",
    "\n",
    "        CUS_OTR_IMPORT = pd.merge(CUS_OTR_HEAD_I,CUS_OTR_LIST_I,how='inner',left_on=['ID'],right_on=['HEAD_ID'])\n",
    "        CUS_OTR_IMPORT = CUS_OTR_IMPORT.drop_duplicates(subset=['ENTRY_NO','GOODS_NO'])\n",
    "\n",
    "        CUS_SEA_EXPORT = pd.merge(CUS_SEA_HEAD_E,CUS_SEA_LIST_E,how='inner',left_on=['ID'],right_on=['HEAD_ID'])\n",
    "        CUS_SEA_EXPORT = CUS_SEA_EXPORT.drop_duplicates(subset=['ENTRY_NO','GOODS_NO'])\n",
    "\n",
    "        CUS_OTR_EXPORT = pd.merge(CUS_OTR_HEAD_E,CUS_OTR_LIST_E,how='inner',left_on=['ID'],right_on=['HEAD_ID'])\n",
    "        CUS_OTR_EXPORT = CUS_OTR_EXPORT.drop_duplicates(subset=['ENTRY_NO','GOODS_NO'])\n",
    "\n",
    "        CUS_DATA = pd.concat([CUS_SEA_IMPORT,CUS_OTR_IMPORT,CUS_SEA_EXPORT,CUS_OTR_EXPORT])\n",
    "        CUS_DATA['TRADE_CURR_CODE'].replace(to_replace = list(DIM_CURR['CURRENCY_CODE']),value = list(DIM_CURR['CUS_CURRENCY_CODE']),inplace=True)\n",
    "        CUS_SEA_IMPORT['TRADE_CURR_CODE'].replace(to_replace = list(DIM_CURR['CURRENCY_CODE']),value = list(DIM_CURR['CUS_CURRENCY_CODE']),inplace=True)\n",
    "\n",
    "        CUS_DATA['ORG_CODE_CY'].replace(to_replace = list(DIM_COUNTRY['CY_CODE_ALPHY3']),value = list(DIM_COUNTRY['CY_CODE_CUS_NUMBER']),inplace=True)\n",
    "        CUS_DATA = CUS_DATA.drop(columns=['ID','HEAD_ID'])\n",
    "        CUS_DATA = CUS_DATA.reset_index().rename(columns = {'index':'ID'})\n",
    "        now = datetime.datetime.strftime(datetime.datetime.now(), format='%Y-%m-%d %H:%M:%S')\n",
    "        CUS_DATA['CHECK_TIME']=now\n",
    "        CUS_DATA['CHECK_TIME']= pd.to_datetime(CUS_DATA['CHECK_TIME'], format='%Y-%m-%d %H:%M:%S')\n",
    "        CUS_DATA['ORG_CODE'] = self.org_code\n",
    "\n",
    "        STOCK_BILL['TRADE_TOTAL'] = STOCK_BILL['TRADE_TOTAL'].astype(float)\n",
    "        STOCK_BILL['QTY'] = STOCK_BILL['QTY'].astype(float)\n",
    "        STOCK_BILL['QTY_1'] = STOCK_BILL['QTY_1'].astype(float)\n",
    "        STOCK_BILL['QTY_2'] = STOCK_BILL['QTY_2'].astype(float)\n",
    "\n",
    "        stock_bill_sum = STOCK_BILL.groupby(['ORG_CODE','ENTRY_NO','ENTRY_GDS_SEQNO'])['QTY','QTY_1','QTY_2','TRADE_TOTAL'].sum()\n",
    "        stock_bill_sum = stock_bill_sum.reset_index()\n",
    "        stock_info = STOCK_BILL[['ORG_CODE','ENTRY_NO','ENTRY_GDS_SEQNO',\n",
    "                                        'STOCK_BILL_TYPE','STOCK_TYPE','BILL_TYPE',\n",
    "                                        'BUSINESS_TYPE','BILL_STATUS','CLASSIFY_TYPE',\n",
    "                                        'SUPV_MODE','TRAF_MODE','I_E_PORT','CUSTOMS_CODE',\n",
    "                                        'G_NAME','G_MODEL','ORIGIN_COUNTRY_CODE','HS_CODE','G_UNIT','UNIT_1',\n",
    "                                        'UNIT_2','TRADE_CURR','STARTDT']].copy()\n",
    "\n",
    "        stock_info = stock_info.drop_duplicates(subset=['ORG_CODE','ENTRY_NO','ENTRY_GDS_SEQNO'])\n",
    "        stock_bill_clean = pd.merge(stock_bill_sum,stock_info,how='left',left_on=['ORG_CODE','ENTRY_NO','ENTRY_GDS_SEQNO'],\n",
    "                        right_on=['ORG_CODE','ENTRY_NO','ENTRY_GDS_SEQNO'])\n",
    "        stock_bill_clean['TRADE_CURR'].replace(to_replace=list(DIM_CURR['CURRENCY_CODE']),value=list(DIM_CURR['CUS_CURRENCY_CODE']),inplace=True)\n",
    "        stock_bill_clean['ENTRY_GDS_SEQNO'] = stock_bill_clean['ENTRY_GDS_SEQNO'].astype(int)\n",
    "\n",
    "        stock_bill_clean = stock_bill_clean.reset_index().rename(columns = {'index':'ID'})\n",
    "        now = datetime.datetime.strftime(datetime.datetime.now(), format='%Y-%m-%d %H:%M:%S')\n",
    "        stock_bill_clean['CHECK_TIME']=now\n",
    "        stock_bill_clean['CHECK_TIME']= pd.to_datetime(stock_bill_clean['CHECK_TIME'], format='%Y-%m-%d %H:%M:%S')\n",
    "        stock_bill_clean['TRADE_TOTAL'] = stock_bill_clean['TRADE_TOTAL'].astype(float)\n",
    "        stock_bill_clean['QTY'] = stock_bill_clean['QTY'].astype(float)\n",
    "        stock_bill_clean['QTY_1'] = stock_bill_clean['QTY_1'].astype(float)\n",
    "        stock_bill_clean['QTY_2'] = stock_bill_clean['QTY_2'].astype(float)\n",
    "\n",
    "        # 写入\n",
    "        Write_Oracle().write_oracle(f'{TableList.BD_RISK_DETAIL_WAREHOUSE_WH1_C.value}',CUS_DATA,org_code=self.org_code, alarm=None)\n",
    "        Write_Oracle().write_oracle(f'{TableList.BD_RISK_DETAIL_WAREHOUSE_WH1_S.value}',stock_bill_clean,org_code=self.org_code, alarm=None)\n",
    "\n",
    "    def run_clean_wh1(self):\n",
    "        try:\n",
    "            self.clean_wh1()\n",
    "            exec_status = 1\n",
    "        except:\n",
    "            logger.exception('model execution error')\n",
    "            exec_status = 0\n",
    "        finally:\n",
    "            Risk_logger(child_task_id=self.child_task_id, exec_status=exec_status).write_log()\n",
    "\n",
    "\n",
    "if __name__ == '__main__':\n",
    "#     child_task_id = sys.argv[1]\n",
    "    # 读取传入的 child_task_id，仅适用于py调用,先备注掉\n",
    "    child_task_id = '0001_0005'\n",
    "    org_code, param_json, base_time = read_log_table(child_task_id)\n",
    "    org_code = '91310115688774070B'\n",
    "    WarehouseCleanWh1(org_code, params=param_json, base_time = base_time, child_task_id=child_task_id).run_clean_wh1()"
   ]
  }
 ],
 "metadata": {
  "kernelspec": {
   "display_name": "Python 3",
   "language": "python",
   "name": "python3"
  },
  "language_info": {
   "codemirror_mode": {
    "name": "ipython",
    "version": 3
   },
   "file_extension": ".py",
   "mimetype": "text/x-python",
   "name": "python",
   "nbconvert_exporter": "python",
   "pygments_lexer": "ipython3",
   "version": "3.8.5"
  }
 },
 "nbformat": 4,
 "nbformat_minor": 4
}
