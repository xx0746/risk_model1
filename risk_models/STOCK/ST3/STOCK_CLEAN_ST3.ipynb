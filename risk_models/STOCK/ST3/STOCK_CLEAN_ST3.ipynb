{
 "cells": [
  {
   "cell_type": "code",
   "execution_count": 1,
   "metadata": {},
   "outputs": [],
   "source": [
    "import sys\n",
    "import os\n",
    "sys.path.append('C:\\\\Users\\\\Administrator\\\\Desktop\\\\风控产品\\\\risk_project')\n",
    "from risk_models.config.read_config.read_func import Read_Oracle\n",
    "from risk_models.config.write_config.write_func import Write_Oracle\n",
    "import numpy as np\n",
    "import datetime"
   ]
  },
  {
   "cell_type": "code",
   "execution_count": 2,
   "metadata": {},
   "outputs": [],
   "source": [
    "STARTDT='2021-01-01'"
   ]
  },
  {
   "cell_type": "code",
   "execution_count": 3,
   "metadata": {},
   "outputs": [
    {
     "name": "stdout",
     "output_type": "stream",
     "text": [
      "Read Table successfully! Total read time spent 0.25902438163757324s\n",
      "Read Table successfully! Total read time spent 3.4760782718658447s\n"
     ]
    }
   ],
   "source": [
    "sql='''select * from opening_inventory where iscurrent =1 '''\n",
    "opening_inventory  = Read_Oracle().read_oracle(sql=sql,database='dbods')\n",
    "sql='''select * from opening_inventory_detail where iscurrent =1'''\n",
    "opening_inventory_detail  = Read_Oracle().read_oracle(sql=sql,database='dbods')\n",
    "sql=\"\"\"select ORG_CODE, QTY, QTY_CO,UNIT_CO,ACTRUAL_STOCK_DATE,TRADE_TOTAL, BILL_TYPE,NET_WT from ods_zmxpq.EMS_STOCK_BILL \n",
    "where CAPXACTION != 'D'\n",
    "and  BILL_TYPE in ('1','2', '3', '4', '5', '6', 'A', 'B') \n",
    "and ACTRUAL_STOCK_DATE >= date'{}' \"\"\".format(STARTDT)\n",
    "EMS_STOCK_BILL= Read_Oracle().read_oracle(sql=sql,database='dbods')\n",
    "df = EMS_STOCK_BILL.reset_index()\n",
    "def transfer(df,columns_list,dtype):\n",
    "    for col in columns_list:\n",
    "        df['{}'.format(col)] = df['{}'.format(col)].astype(dtype)\n",
    "transfer(df,['QTY_CO','QTY','TRADE_TOTAL','NET_WT'],float)\n",
    "now = datetime.datetime.strftime(datetime.datetime.now(), format='%Y-%m-%d %H:%M:%S')\n",
    "df['CHECK_TIME'] = now\n",
    "df['CHECK_TIME'] = df['CHECK_TIME'].astype('datetime64')\n",
    "BD_RISK_DETAIL_STOCK_ST3 = df.drop('index',axis=1).reset_index().rename(columns={'index':'ID'})\n",
    "BD_RISK_DETAIL_STOCK_ST3"
   ]
  },
  {
   "cell_type": "code",
   "execution_count": 9,
   "metadata": {},
   "outputs": [
    {
     "name": "stdout",
     "output_type": "stream",
     "text": [
      "Read Table successfully! Total read time spent 0.0900106430053711s\n",
      "Processing... Writing  432107  rows into database\n",
      "Insert data into BD_RISK_DETAIL_STOCK_ST3 successfully! Total write time spent 33.79624366760254s\n"
     ]
    }
   ],
   "source": [
    "Write_Oracle().write_oracle('BD_RISK_DETAIL_STOCK_ST3',BD_RISK_DETAIL_STOCK_ST3)"
   ]
  },
  {
   "cell_type": "code",
   "execution_count": null,
   "metadata": {},
   "outputs": [],
   "source": []
  }
 ],
 "metadata": {
  "kernelspec": {
   "display_name": "Python 3",
   "language": "python",
   "name": "python3"
  },
  "language_info": {
   "codemirror_mode": {
    "name": "ipython",
    "version": 3
   },
   "file_extension": ".py",
   "mimetype": "text/x-python",
   "name": "python",
   "nbconvert_exporter": "python",
   "pygments_lexer": "ipython3",
   "version": "3.8.5"
  }
 },
 "nbformat": 4,
 "nbformat_minor": 4
}
