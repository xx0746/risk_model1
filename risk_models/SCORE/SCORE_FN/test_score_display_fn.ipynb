{
 "cells": [
  {
   "cell_type": "code",
   "execution_count": 1,
   "metadata": {},
   "outputs": [],
   "source": [
    "import sys, os\n",
    "from os import path\n",
    "# sys.path.append('/root/bdrisk/risk_project')\n",
    "# sys.path.append(path.dirname(path.dirname(path.dirname(os.getcwd()))))\n",
    "sys.path.append('C:\\\\Users\\\\Administrator\\\\Desktop\\\\风控产品\\\\risk_project')\n",
    "# sys.path.append(path.dirname(path.dirname(path.dirname(os.getcwd()))))\n",
    "from risk_models import *"
   ]
  },
  {
   "cell_type": "code",
   "execution_count": 2,
   "metadata": {},
   "outputs": [],
   "source": [
    "org_code = '91310000132612172J'"
   ]
  },
  {
   "cell_type": "code",
   "execution_count": 3,
   "metadata": {},
   "outputs": [
    {
     "name": "stderr",
     "output_type": "stream",
     "text": [
      "2021-06-07 16:48:10.596 | INFO     | risk_models.config.read_config.read_func:read_oracle:82 - Read Table successfully! , Total read time spent 0.269s\n"
     ]
    }
   ],
   "source": [
    "sql=f\"\"\"\\\n",
    "select sum(SCORE) from {TableList.BD_RISK_RESULT_FINANCE_FN1.value} WHERE ISCURRENT = 1 AND ORG_CODE LIKE '{org_code}' \\\n",
    "\"\"\"\n",
    "fn1_result=Read_Oracle().read_oracle(sql=sql,database='dbods')"
   ]
  },
  {
   "cell_type": "code",
   "execution_count": 28,
   "metadata": {},
   "outputs": [
    {
     "name": "stderr",
     "output_type": "stream",
     "text": [
      "2021-06-07 17:03:18.990 | INFO     | risk_models.config.read_config.read_func:read_oracle:82 - Read Table successfully! , Total read time spent 0.095s\n"
     ]
    }
   ],
   "source": [
    "sql=f\"\"\"\\\n",
    "select sum(SCORE) from {TableList.BD_RISK_RESULT_FINANCE_FN2.value} WHERE ISCURRENT = 1 AND ORG_CODE LIKE '{org_code}' \\\n",
    "\"\"\"\n",
    "fn2_result=Read_Oracle().read_oracle(sql=sql,database='dbods')"
   ]
  },
  {
   "cell_type": "code",
   "execution_count": 35,
   "metadata": {},
   "outputs": [
    {
     "name": "stderr",
     "output_type": "stream",
     "text": [
      "2021-06-07 17:25:04.589 | INFO     | risk_models.config.read_config.read_func:read_oracle:82 - Read Table successfully! , Total read time spent 2.585s\n"
     ]
    }
   ],
   "source": [
    "sql=f\"\"\"\\\n",
    "select sum(SCORE) from {TableList.BD_RISK_RESULT_WAREHOUSE_WH1.value} WHERE ISCURRENT = 1  \\\n",
    "\"\"\"\n",
    "wh1_result=Read_Oracle().read_oracle(sql=sql,database='dbods')"
   ]
  },
  {
   "cell_type": "code",
   "execution_count": 36,
   "metadata": {},
   "outputs": [
    {
     "name": "stderr",
     "output_type": "stream",
     "text": [
      "2021-06-07 17:25:04.733 | INFO     | risk_models.config.read_config.read_func:read_oracle:82 - Read Table successfully! , Total read time spent 0.130s\n"
     ]
    }
   ],
   "source": [
    "sql=f\"\"\"\\\n",
    "select sum(SCORE) from {TableList.BD_RISK_RESULT_WAREHOUSE_WH2.value} WHERE ISCURRENT = 1 \\\n",
    "\"\"\"\n",
    "wh2_result=Read_Oracle().read_oracle(sql=sql,database='dbods')"
   ]
  },
  {
   "cell_type": "code",
   "execution_count": 37,
   "metadata": {},
   "outputs": [],
   "source": [
    "x = [wh1_result.iloc[0,0],wh2_result.iloc[0,0]]"
   ]
  },
  {
   "cell_type": "code",
   "execution_count": 38,
   "metadata": {},
   "outputs": [],
   "source": [
    "score_weight = [0.5,0.5]"
   ]
  },
  {
   "cell_type": "code",
   "execution_count": 39,
   "metadata": {},
   "outputs": [],
   "source": [
    "total_score = 0\n",
    "for i in range(len(x)):\n",
    "    if x[i]:\n",
    "        total_score = total_score + (100 + x[i])*score_weight[i]\n",
    "    else:\n",
    "        total_score = total_score + 0"
   ]
  },
  {
   "cell_type": "code",
   "execution_count": 40,
   "metadata": {},
   "outputs": [
    {
     "data": {
      "text/plain": [
       "50.88868"
      ]
     },
     "execution_count": 40,
     "metadata": {},
     "output_type": "execute_result"
    }
   ],
   "source": [
    "total_score"
   ]
  },
  {
   "cell_type": "code",
   "execution_count": 41,
   "metadata": {},
   "outputs": [
    {
     "data": {
      "text/plain": [
       "[1.77736, 0]"
      ]
     },
     "execution_count": 41,
     "metadata": {},
     "output_type": "execute_result"
    }
   ],
   "source": [
    "x"
   ]
  },
  {
   "cell_type": "code",
   "execution_count": 14,
   "metadata": {},
   "outputs": [],
   "source": []
  },
  {
   "cell_type": "code",
   "execution_count": 32,
   "metadata": {},
   "outputs": [],
   "source": [
    "df_result = pd.DataFrame()\n",
    "now = datetime.datetime.strftime(datetime.datetime.now(), format='%Y-%m-%d %H:%M:%S')\n",
    "df_result = df_result.append([{'ID':0,'ORG_CODE':org_code,'CHECK_TIME':now}],ignore_index = True)\n",
    "df_result['CHECK_TIME']= pd.to_datetime(df_result['CHECK_TIME'], format='%Y-%m-%d %H:%M:%S')\n",
    "df_result['SCORE'] = total_score\n",
    "df_result['MODEL_CODE'] = 'FINANCE'"
   ]
  },
  {
   "cell_type": "code",
   "execution_count": 33,
   "metadata": {},
   "outputs": [
    {
     "data": {
      "text/html": [
       "<div>\n",
       "<style scoped>\n",
       "    .dataframe tbody tr th:only-of-type {\n",
       "        vertical-align: middle;\n",
       "    }\n",
       "\n",
       "    .dataframe tbody tr th {\n",
       "        vertical-align: top;\n",
       "    }\n",
       "\n",
       "    .dataframe thead th {\n",
       "        text-align: right;\n",
       "    }\n",
       "</style>\n",
       "<table border=\"1\" class=\"dataframe\">\n",
       "  <thead>\n",
       "    <tr style=\"text-align: right;\">\n",
       "      <th></th>\n",
       "      <th>ID</th>\n",
       "      <th>ORG_CODE</th>\n",
       "      <th>CHECK_TIME</th>\n",
       "      <th>SCORE</th>\n",
       "      <th>MODEL_CODE</th>\n",
       "    </tr>\n",
       "  </thead>\n",
       "  <tbody>\n",
       "    <tr>\n",
       "      <th>0</th>\n",
       "      <td>0</td>\n",
       "      <td>91310000132612172J</td>\n",
       "      <td>2021-06-07 17:03:38</td>\n",
       "      <td>90.467535</td>\n",
       "      <td>FINANCE</td>\n",
       "    </tr>\n",
       "  </tbody>\n",
       "</table>\n",
       "</div>"
      ],
      "text/plain": [
       "   ID            ORG_CODE          CHECK_TIME      SCORE MODEL_CODE\n",
       "0   0  91310000132612172J 2021-06-07 17:03:38  90.467535    FINANCE"
      ]
     },
     "execution_count": 33,
     "metadata": {},
     "output_type": "execute_result"
    }
   ],
   "source": [
    "df_result"
   ]
  },
  {
   "cell_type": "code",
   "execution_count": 34,
   "metadata": {},
   "outputs": [
    {
     "name": "stderr",
     "output_type": "stream",
     "text": [
      "2021-06-07 17:03:42.496 | INFO     | risk_models.config.read_config.read_func:read_oracle:82 - Read Table successfully! , Total read time spent 0.092s\n",
      "2021-06-07 17:03:42.730 | INFO     | risk_models.config.write_config.write_func:write_oracle:179 - Processing... Writing 1 rows into database\n",
      "2021-06-07 17:03:42.755 | INFO     | risk_models.config.write_config.write_func:write_oracle:186 - Insert data into BD_RISK_CORP_SCORE_DISPLAY successfully! Total write time spent 0.358s\n"
     ]
    }
   ],
   "source": [
    "Write_Oracle().write_oracle('BD_RISK_CORP_SCORE_DISPLAY',df_result,org_code=org_code,alarm = ['FINANCE',''])"
   ]
  }
 ],
 "metadata": {
  "kernelspec": {
   "display_name": "Python 3",
   "language": "python",
   "name": "python3"
  },
  "language_info": {
   "codemirror_mode": {
    "name": "ipython",
    "version": 3
   },
   "file_extension": ".py",
   "mimetype": "text/x-python",
   "name": "python",
   "nbconvert_exporter": "python",
   "pygments_lexer": "ipython3",
   "version": "3.8.5"
  }
 },
 "nbformat": 4,
 "nbformat_minor": 4
}
