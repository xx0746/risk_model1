{
 "cells": [
  {
   "cell_type": "code",
   "execution_count": 7,
   "metadata": {},
   "outputs": [],
   "source": [
    "import sys\n",
    "import os\n",
    "from os import path\n",
    "# 部署的路径\n",
    "sys.path.append('/root/bdrisk/risk_project')\n",
    "# 堡垒机的路径\n",
    "sys.path.append(path.dirname(path.dirname(path.dirname(os.getcwd()))))\n",
    "# 这是log文件的存放路径\n",
    "root_path = path.dirname(path.dirname(path.dirname(os.getcwd())))\n",
    "\n",
    "from risk_models import *\n",
    "from risk_models import _name_BD_RISK_RESULT_STOCK_ST1, _name_BD_RISK_RESULT_STOCK_ST2, _name_BD_RISK_RESULT_STOCK_ST3, _name_BD_RISK_RESULT_STOCK_ST4, _name_BD_RISK_RESULT_STOCK_ST5"
   ]
  },
  {
   "cell_type": "code",
   "execution_count": 8,
   "metadata": {},
   "outputs": [
    {
     "name": "stderr",
     "output_type": "stream",
     "text": [
      "2021-06-07 16:22:06.421 | INFO     | risk_models.config.read_config.read_func:read_oracle:82 - Read Table successfully! , Total read time spent 3.879s\n",
      "2021-06-07 16:22:07.348 | INFO     | risk_models.config.read_config.read_func:read_oracle:82 - Read Table successfully! , Total read time spent 0.900s\n",
      "2021-06-07 16:22:11.199 | INFO     | risk_models.config.read_config.read_func:read_oracle:82 - Read Table successfully! , Total read time spent 3.840s\n",
      "2021-06-07 16:22:11.430 | INFO     | risk_models.config.read_config.read_func:read_oracle:82 - Read Table successfully! , Total read time spent 0.228s\n",
      "2021-06-07 16:22:12.050 | INFO     | risk_models.config.read_config.read_func:read_oracle:82 - Read Table successfully! , Total read time spent 0.616s\n"
     ]
    }
   ],
   "source": [
    "ST1_RESULT = Read_Oracle().read_oracle(sql= \"\"\" select * from {} where iscurrent = 1 \"\"\".format(_name_BD_RISK_RESULT_STOCK_ST1), database = 'dbods')\n",
    "ST2_RESULT = Read_Oracle().read_oracle(sql= \"\"\" select * from {} where iscurrent = 1 \"\"\".format(_name_BD_RISK_RESULT_STOCK_ST2), database = 'dbods')\n",
    "ST3_RESULT = Read_Oracle().read_oracle(sql= \"\"\" select * from {} where iscurrent = 1 \"\"\".format(_name_BD_RISK_RESULT_STOCK_ST3), database = 'dbods')\n",
    "ST4_RESULT = Read_Oracle().read_oracle(sql= \"\"\" select * from {} where iscurrent = 1 \"\"\".format(_name_BD_RISK_RESULT_STOCK_ST4), database = 'dbods')\n",
    "ST5_RESULT = Read_Oracle().read_oracle(sql= \"\"\" select * from {} where iscurrent = 1 \"\"\".format(_name_BD_RISK_RESULT_STOCK_ST5), database = 'dbods')"
   ]
  },
  {
   "cell_type": "code",
   "execution_count": 9,
   "metadata": {},
   "outputs": [],
   "source": [
    "ST1 = 100 + ST1_RESULT['SCORE'].sum()\n",
    "ST2 = 100 + ST2_RESULT['SCORE'].sum()\n",
    "ST3 = 100 + ST3_RESULT['SCORE'].sum()\n",
    "ST4 = 100 + ST4_RESULT['SCORE'].sum()\n",
    "ST5 = 100 + ST5_RESULT['SCORE'].sum()"
   ]
  },
  {
   "cell_type": "code",
   "execution_count": 25,
   "metadata": {},
   "outputs": [
    {
     "name": "stderr",
     "output_type": "stream",
     "text": [
      "2021-06-07 11:27:08.045 | WARNING  | risk_models.config.read_config.read_func:read_ods:27 - Sql cannot find table, please check database\n",
      "2021-06-07 11:27:08.054 | INFO     | risk_models.config.read_config.read_func:read_oracle:82 - Read Table successfully! , Total read time spent 1.624s\n"
     ]
    }
   ],
   "source": [
    "test = Read_Oracle().read_oracle(sql= \"\"\" select * from {} where iscurrent = 3 \"\"\".format(_name_BD_RISK_RESULT_STOCK_ST1), database = 'dbods')\n",
    "test"
   ]
  },
  {
   "cell_type": "code",
   "execution_count": 28,
   "metadata": {},
   "outputs": [
    {
     "data": {
      "text/plain": [
       "NoneType"
      ]
     },
     "execution_count": 28,
     "metadata": {},
     "output_type": "execute_result"
    }
   ],
   "source": [
    "type(test)"
   ]
  },
  {
   "cell_type": "code",
   "execution_count": 10,
   "metadata": {},
   "outputs": [
    {
     "name": "stdout",
     "output_type": "stream",
     "text": [
      "92.360842\n",
      "[99.99153, 99.98332, 94.9, 85.00216, 81.9272]\n"
     ]
    }
   ],
   "source": [
    "# 设置子模块权重(通过json参数获取)\n",
    "RATIO = [0.2, 0.2, 0.2, 0.2, 0.2]\n",
    "\n",
    "SCORE_LIST = [ST1, ST2, ST3, ST4, ST5]\n",
    "#SCORE_LIST = [40,None,20,90,100]\n",
    "ST_SCORE = 0\n",
    "\n",
    "# 将没有数据的子模型分数，设置为0\n",
    "for i in range(5):\n",
    "    if SCORE_LIST[i] is None:\n",
    "        SCORE_LIST[i] = 0\n",
    "    else:\n",
    "        continue\n",
    "        \n",
    "# 对所有子模型加权计算\n",
    "for i in range(5):\n",
    "    ST_SCORE = ST_SCORE + SCORE_LIST[i] * RATIO[i]\n",
    "    \n",
    "print(ST_SCORE)\n",
    "print(SCORE_LIST)"
   ]
  },
  {
   "cell_type": "code",
   "execution_count": 16,
   "metadata": {},
   "outputs": [
    {
     "name": "stdout",
     "output_type": "stream",
     "text": [
      "95.0\n"
     ]
    }
   ],
   "source": [
    "s1 = 10\n",
    "s2 = 20\n",
    "s3 = None\n",
    "s4 = 90\n",
    "s5 = 100\n",
    "s_list = [s1,s2,s3,s4,s5]\n",
    "divider = 5\n",
    "for i in range(5):\n",
    "    if s_list[i] is None or s_list[i] < 60:\n",
    "        s_list[i] = 0\n",
    "        divider = divider - 1\n",
    "    else:\n",
    "        continue\n",
    "total_score = round(sum(s_list)/divider,2)\n",
    "print(total_score)"
   ]
  },
  {
   "cell_type": "code",
   "execution_count": 11,
   "metadata": {},
   "outputs": [
    {
     "ename": "IndexError",
     "evalue": "list index out of range",
     "traceback": [
      "\u001b[1;31m---------------------------------------------------------------------------\u001b[0m",
      "\u001b[1;31mIndexError\u001b[0m                                Traceback (most recent call last)",
      "\u001b[1;32m<ipython-input-11-9ab16e33cc43>\u001b[0m in \u001b[0;36m<module>\u001b[1;34m\u001b[0m\n\u001b[0;32m      5\u001b[0m \u001b[0ms5\u001b[0m \u001b[1;33m=\u001b[0m \u001b[1;36m100\u001b[0m\u001b[1;33m\u001b[0m\u001b[1;33m\u001b[0m\u001b[0m\n\u001b[0;32m      6\u001b[0m \u001b[0ms_list\u001b[0m \u001b[1;33m=\u001b[0m \u001b[1;33m[\u001b[0m\u001b[0ms1\u001b[0m\u001b[1;33m,\u001b[0m\u001b[0ms2\u001b[0m\u001b[1;33m,\u001b[0m\u001b[0ms3\u001b[0m\u001b[1;33m,\u001b[0m\u001b[0ms4\u001b[0m\u001b[1;33m,\u001b[0m\u001b[0ms5\u001b[0m\u001b[1;33m]\u001b[0m\u001b[1;33m\u001b[0m\u001b[1;33m\u001b[0m\u001b[0m\n\u001b[1;32m----> 7\u001b[1;33m \u001b[0ms_list\u001b[0m\u001b[1;33m[\u001b[0m\u001b[1;36m6\u001b[0m\u001b[1;33m]\u001b[0m\u001b[1;33m\u001b[0m\u001b[1;33m\u001b[0m\u001b[0m\n\u001b[0m",
      "\u001b[1;31mIndexError\u001b[0m: list index out of range"
     ],
     "output_type": "error"
    }
   ],
   "source": [
    "s1 = 10\n",
    "s2 = 20\n",
    "s3 = None\n",
    "s4 = 90\n",
    "s5 = 100\n",
    "s_list = [s1,s2,s3,s4,s5]\n",
    "s_list[6]"
   ]
  },
  {
   "cell_type": "code",
   "execution_count": 4,
   "metadata": {},
   "outputs": [
    {
     "name": "stderr",
     "output_type": "stream",
     "text": [
      "2021-06-04 17:09:48.769 | INFO     | risk_models.config.read_config.read_func:read_oracle:82 - Read Table successfully! , Total read time spent 0.079s\n",
      "2021-06-04 17:09:48.911 | INFO     | risk_models.config.write_config.write_func:write_oracle:179 - Processing... Writing 1 rows into database\n",
      "2021-06-04 17:09:48.951 | INFO     | risk_models.config.write_config.write_func:write_oracle:186 - Insert data into BD_RISK_CORP_SCORE_DISPLAY successfully! Total write time spent 0.269s\n"
     ]
    },
    {
     "data": {
      "text/html": [
       "<div>\n",
       "<style scoped>\n",
       "    .dataframe tbody tr th:only-of-type {\n",
       "        vertical-align: middle;\n",
       "    }\n",
       "\n",
       "    .dataframe tbody tr th {\n",
       "        vertical-align: top;\n",
       "    }\n",
       "\n",
       "    .dataframe thead th {\n",
       "        text-align: right;\n",
       "    }\n",
       "</style>\n",
       "<table border=\"1\" class=\"dataframe\">\n",
       "  <thead>\n",
       "    <tr style=\"text-align: right;\">\n",
       "      <th></th>\n",
       "      <th>ID</th>\n",
       "      <th>ORG_CODE</th>\n",
       "      <th>MODEL_CODE</th>\n",
       "      <th>SCORE</th>\n",
       "      <th>CHECK_TIME</th>\n",
       "    </tr>\n",
       "  </thead>\n",
       "  <tbody>\n",
       "    <tr>\n",
       "      <th>0</th>\n",
       "      <td>0</td>\n",
       "      <td>91310000132612172J</td>\n",
       "      <td>STOCK</td>\n",
       "      <td>92.36</td>\n",
       "      <td>2021-06-04 17:09:48</td>\n",
       "    </tr>\n",
       "  </tbody>\n",
       "</table>\n",
       "</div>"
      ],
      "text/plain": [
       "   ID            ORG_CODE MODEL_CODE  SCORE          CHECK_TIME\n",
       "0   0  91310000132612172J      STOCK  92.36 2021-06-04 17:09:48"
      ]
     },
     "execution_count": 4,
     "metadata": {},
     "output_type": "execute_result"
    }
   ],
   "source": [
    "ST1 = ST1_RESULT['SCORE'].sum()\n",
    "ST2 = ST2_RESULT['SCORE'].sum()\n",
    "ST3 = ST3_RESULT['SCORE'].sum()\n",
    "ST4 = ST4_RESULT['SCORE'].sum()\n",
    "ST5 = ST5_RESULT['SCORE'].sum()\n",
    "STOCK_SCORE = round(100 + (ST1+ST2+ST3+ST4+ST5)/5,2)\n",
    "STOCK_RESULT = pd.DataFrame(data=[[0, '91310000132612172J', 'STOCK', STOCK_SCORE]], \n",
    "                  columns=['ID', 'ORG_CODE', 'MODEL_CODE', 'SCORE'])\n",
    "now = datetime.datetime.now().strftime(\"%Y-%m-%d %H:%M:%S\")\n",
    "STOCK_RESULT['CHECK_TIME'] = datetime.datetime.strptime(now, \"%Y-%m-%d %H:%M:%S\")\n",
    "Write_Oracle().write_oracle('BD_RISK_CORP_SCORE_DISPLAY',STOCK_RESULT, org_code = '91310000132612172J', alarm = ['STOCK',''])\n",
    "STOCK_RESULT"
   ]
  },
  {
   "cell_type": "code",
   "execution_count": 7,
   "metadata": {},
   "outputs": [
    {
     "data": {
      "text/plain": [
       "-0.00847"
      ]
     },
     "execution_count": 7,
     "metadata": {},
     "output_type": "execute_result"
    }
   ],
   "source": [
    "ST1_RESULT['SCORE'].sum()"
   ]
  },
  {
   "cell_type": "code",
   "execution_count": 9,
   "metadata": {},
   "outputs": [
    {
     "data": {
      "text/plain": [
       "-0.01668"
      ]
     },
     "execution_count": 9,
     "metadata": {},
     "output_type": "execute_result"
    }
   ],
   "source": [
    "ST2_RESULT['SCORE'].sum()"
   ]
  },
  {
   "cell_type": "code",
   "execution_count": 10,
   "metadata": {},
   "outputs": [
    {
     "data": {
      "text/plain": [
       "-5.1"
      ]
     },
     "execution_count": 10,
     "metadata": {},
     "output_type": "execute_result"
    }
   ],
   "source": [
    "ST3_RESULT['SCORE'].sum()"
   ]
  },
  {
   "cell_type": "code",
   "execution_count": 11,
   "metadata": {},
   "outputs": [
    {
     "data": {
      "text/plain": [
       "-14.997840000000002"
      ]
     },
     "execution_count": 11,
     "metadata": {},
     "output_type": "execute_result"
    }
   ],
   "source": [
    "ST4_RESULT['SCORE'].sum()"
   ]
  },
  {
   "cell_type": "code",
   "execution_count": 12,
   "metadata": {},
   "outputs": [
    {
     "data": {
      "text/plain": [
       "-18.0728"
      ]
     },
     "execution_count": 12,
     "metadata": {},
     "output_type": "execute_result"
    }
   ],
   "source": [
    "ST5_RESULT['SCORE'].sum()"
   ]
  }
 ],
 "metadata": {
  "kernelspec": {
   "display_name": "Python 3",
   "language": "python",
   "name": "python3"
  },
  "language_info": {
   "codemirror_mode": {
    "name": "ipython",
    "version": 3
   },
   "file_extension": ".py",
   "mimetype": "text/x-python",
   "name": "python",
   "nbconvert_exporter": "python",
   "pygments_lexer": "ipython3",
   "version": "3.8.5"
  }
 },
 "nbformat": 4,
 "nbformat_minor": 4
}
