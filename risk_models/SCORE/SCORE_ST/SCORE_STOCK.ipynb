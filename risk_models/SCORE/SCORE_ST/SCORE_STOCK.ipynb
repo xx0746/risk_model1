{
 "cells": [
  {
   "cell_type": "code",
   "execution_count": 1,
   "metadata": {},
   "outputs": [
    {
     "name": "stderr",
     "output_type": "stream",
     "text": [
      "2021-06-07 17:12:14.107 | INFO     | risk_models.config.read_config.read_func:read_oracle:82 - Read Table successfully! , Total read time spent 4.356s\n",
      "2021-06-07 17:12:16.575 | INFO     | risk_models.config.read_config.read_func:read_oracle:82 - Read Table successfully! , Total read time spent 2.429s\n",
      "2021-06-07 17:12:17.759 | INFO     | risk_models.config.read_config.read_func:read_oracle:82 - Read Table successfully! , Total read time spent 1.180s\n",
      "2021-06-07 17:12:17.887 | INFO     | risk_models.config.read_config.read_func:read_oracle:82 - Read Table successfully! , Total read time spent 0.126s\n",
      "2021-06-07 17:12:18.084 | INFO     | risk_models.config.read_config.read_func:read_oracle:82 - Read Table successfully! , Total read time spent 0.194s\n",
      "2021-06-07 17:12:18.300 | INFO     | risk_models.config.read_config.read_func:read_oracle:82 - Read Table successfully! , Total read time spent 0.213s\n",
      "2021-06-07 17:12:18.428 | INFO     | risk_models.config.read_config.read_func:read_oracle:82 - Read Table successfully! , Total read time spent 0.083s\n",
      "2021-06-07 17:12:21.634 | INFO     | risk_models.config.write_config.write_func:write_oracle:179 - Processing... Writing 1 rows into database\n",
      "2021-06-07 17:12:21.665 | INFO     | risk_models.config.write_config.write_func:write_oracle:186 - Insert data into BD_RISK_CORP_SCORE_DISPLAY successfully! Total write time spent 3.326s\n",
      "2021-06-07 17:12:21.719 | INFO     | risk_models.config.log_config.log_func:gen_log_json:37 - updating child_task_id:0003_0001 log msg into BD_RISK_MODEL_LOG successfully!\n",
      "2021-06-07 17:12:22.006 | INFO     | risk_models.config.write_config.write_log:write_oracle:52 - Updated child_task_id: 0003_0001 log msg into BD_RISK_MODEL_LOG successfully!\n"
     ]
    }
   ],
   "source": [
    "import sys, os\n",
    "from os import path\n",
    "sys.path.append('/root/bdrisk/risk_project')\n",
    "sys.path.append(path.dirname(path.dirname(path.dirname(os.getcwd()))))\n",
    "from risk_models import *\n",
    "from risk_models import _name_BD_RISK_RESULT_STOCK_ST1, _name_BD_RISK_RESULT_STOCK_ST2, _name_BD_RISK_RESULT_STOCK_ST3, _name_BD_RISK_RESULT_STOCK_ST4, _name_BD_RISK_RESULT_STOCK_ST5\n",
    "\n",
    "\n",
    "class ScoreSt(object):\n",
    "    def __init__(self, child_task_id, org_code, params):\n",
    "        self.child_task_id = child_task_id\n",
    "        Risk_logger(child_task_id = self.child_task_id, exec_status=None)\n",
    "\n",
    "        # 参数读取\n",
    "        self.org_code = org_code\n",
    "        self.weights = json.loads(params)['weights']\n",
    "\n",
    "    def score_stock(self):\n",
    "        # 读取企业库存模块的结果表数据\n",
    "        ST1_RESULT = Read_Oracle().read_oracle(sql= \"\"\" select * from {} where org_code = '{}' and iscurrent = 1 \"\"\".format(_name_BD_RISK_RESULT_STOCK_ST1, self.org_code), database = 'dbods')\n",
    "        ST2_RESULT = Read_Oracle().read_oracle(sql= \"\"\" select * from {} where org_code = '{}' and iscurrent = 1 \"\"\".format(_name_BD_RISK_RESULT_STOCK_ST2, self.org_code), database = 'dbods')\n",
    "        ST3_RESULT = Read_Oracle().read_oracle(sql= \"\"\" select * from {} where org_code = '{}' and iscurrent = 1 \"\"\".format(_name_BD_RISK_RESULT_STOCK_ST3, self.org_code), database = 'dbods')\n",
    "        ST4_RESULT = Read_Oracle().read_oracle(sql= \"\"\" select * from {} where org_code = '{}' and iscurrent = 1 \"\"\".format(_name_BD_RISK_RESULT_STOCK_ST4, self.org_code), database = 'dbods')\n",
    "        ST5_RESULT = Read_Oracle().read_oracle(sql= \"\"\" select * from {} where org_code = '{}' and iscurrent = 1 \"\"\".format(_name_BD_RISK_RESULT_STOCK_ST5, self.org_code), database = 'dbods')\n",
    "        RESULT_LIST = [ST1_RESULT, ST2_RESULT, ST3_RESULT, ST4_RESULT, ST5_RESULT]\n",
    "        \n",
    "        # 计算各个子模块分数（没有数据的初始化为0分）\n",
    "        for i in range(5):\n",
    "            if RESULT_LIST[i] is None:\n",
    "                RESULT_LIST[i] = 0\n",
    "            else:\n",
    "                RESULT_LIST[i] = 100 + RESULT_LIST[i]['SCORE'].sum()\n",
    "        \n",
    "        # 设置子模块权重(通过json参数获取)\n",
    "        RATIO = self.weights\n",
    "        STOCK_SCORE = 0\n",
    "        \n",
    "        # 对所有子模型分数加权计算总分\n",
    "        for i in range(5):\n",
    "            STOCK_SCORE = STOCK_SCORE + RESULT_LIST[i] * RATIO[i]\n",
    "        \n",
    "        # 整理分数表并写入数据库\n",
    "        STOCK_RESULT = pd.DataFrame(data=[[0, self.org_code, 'STOCK', STOCK_SCORE]], columns=['ID', 'ORG_CODE', 'MODEL_CODE', 'SCORE'])\n",
    "        now = datetime.datetime.now().strftime(\"%Y-%m-%d %H:%M:%S\")\n",
    "        STOCK_RESULT['CHECK_TIME'] = datetime.datetime.strptime(now, \"%Y-%m-%d %H:%M:%S\")\n",
    "        Write_Oracle().write_oracle('BD_RISK_CORP_SCORE_DISPLAY',STOCK_RESULT, org_code = self.org_code, alarm = ['STOCK',''])\n",
    "\n",
    "    def run_score_stock(self):\n",
    "        try:\n",
    "            self.score_stock()\n",
    "            exec_status = 1\n",
    "        except:\n",
    "            logger.exception('model execution error')\n",
    "            exec_status = 0\n",
    "        finally:\n",
    "            Risk_logger(child_task_id = self.child_task_id, exec_status=exec_status).write_log()\n",
    "\n",
    "\n",
    "if __name__ == '__main__':\n",
    "    # 读取传入的 child_task_id，仅适用于py调用,先备注掉\n",
    "    # child_task_id = sys.argv[1]\n",
    "    child_task_id = '0003_0001'\n",
    "    org_code, params, base_time = read_log_table(child_task_id)\n",
    "    ScoreSt(child_task_id, org_code, params).run_score_stock()\n",
    "\n"
   ]
  }
 ],
 "metadata": {
  "kernelspec": {
   "display_name": "Python 3",
   "language": "python",
   "name": "python3"
  },
  "language_info": {
   "codemirror_mode": {
    "name": "ipython",
    "version": 3
   },
   "file_extension": ".py",
   "mimetype": "text/x-python",
   "name": "python",
   "nbconvert_exporter": "python",
   "pygments_lexer": "ipython3",
   "version": "3.8.5"
  }
 },
 "nbformat": 4,
 "nbformat_minor": 4
}
