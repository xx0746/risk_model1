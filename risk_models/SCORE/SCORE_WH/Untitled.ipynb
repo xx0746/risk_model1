{
 "cells": [
  {
   "cell_type": "code",
   "execution_count": null,
   "metadata": {},
   "outputs": [],
   "source": [
    "# import sys\n",
    "# import os\n",
    "# from os import path\n",
    "\n",
    "# # sys.path.append('C:\\\\Users\\\\Administrator\\\\Desktop\\\\风控产品\\\\risk_project')\n",
    "# sys.path.append(path.dirname(path.dirname(path.dirname(os.getcwd()))))\n",
    "from risk_models import *\n",
    "\n",
    "class ScoreFn(object):\n",
    "    def __init__(self, org_code, params, base_time, child_task_id):\n",
    "        self.model_code = 'FINANCE'\n",
    "        self.child_model_code = 'SCORE'\n",
    "        self.child_task_id = child_task_id\n",
    "        Risk_logger(child_task_id=self.child_task_id, exec_status=None)\n",
    "\n",
    "        # 参数读取\n",
    "        self.org_code = org_code\n",
    "        self.score_weight = json.loads(params)['score_weight']\n",
    "        \n",
    "    def score_fn(self):  \n",
    "        # 读数\n",
    "        sql=f\"\"\"\\\n",
    "        select sum(SCORE) from {TableList.BD_RISK_RESULT_FINANCE_FN1.value} WHERE ISCURRENT = 1 AND ORG_CODE LIKE '{self.org_code}' \\\n",
    "        \"\"\"\n",
    "        fn1_result=Read_Oracle().read_oracle(sql=sql,database='dbods')\n",
    "\n",
    "        sql=f\"\"\"\\\n",
    "        select sum(SCORE) from {TableList.BD_RISK_RESULT_FINANCE_FN2.value} WHERE ISCURRENT = 1 AND ORG_CODE LIKE '{self.org_code}' \\\n",
    "        \"\"\"\n",
    "        fn2_result=Read_Oracle().read_oracle(sql=sql,database='dbods')\n",
    "\n",
    "        x = [fn1_result.iloc[0,0],fn2_result.iloc[0,0]]\n",
    "\n",
    "        total_score = 0\n",
    "        for i in range(len(x)):\n",
    "            if x[i]:\n",
    "                total_score = total_score + (100 + x[i])*self.score_weight[i]\n",
    "            else:\n",
    "                total_score = total_score + 0\n",
    "\n",
    "        df_result = pd.DataFrame()\n",
    "        now = datetime.datetime.strftime(datetime.datetime.now(), format='%Y-%m-%d %H:%M:%S')\n",
    "        df_result = df_result.append([{'ID':0,'ORG_CODE':self.org_code,'CHECK_TIME':now}],ignore_index = True)\n",
    "        df_result['CHECK_TIME']= pd.to_datetime(df_result['CHECK_TIME'], format='%Y-%m-%d %H:%M:%S')\n",
    "        df_result['SCORE'] = total_score\n",
    "        df_result['MODEL_CODE'] = self.model_code\n",
    "\n",
    "        Write_Oracle().write_oracle(f'{TableList.BD_RISK_CORP_SCORE_DISPLAY.value}',df_result,org_code=org_code,alarm = ['FINANCE',''])\n",
    "\n",
    "    def run_score_fn(self):\n",
    "        try:\n",
    "            self.score_fn()\n",
    "            exec_status = 1\n",
    "        except:\n",
    "            logger.exception('model execution error')\n",
    "            exec_status = 0\n",
    "        finally:\n",
    "            Risk_logger(child_task_id=self.child_task_id, exec_status=exec_status).write_log()\n",
    "\n",
    "\n",
    "if __name__ == '__main__':\n",
    "    # 读取传入的 child_task_id，仅适用于py调用,先备注掉\n",
    "#     child_task_id = sys.argv[1]\n",
    "    child_task_id = '0001_0006'\n",
    "    org_code, param_json, basetime = read_log_table(child_task_id)\n",
    "    ScoreFn(org_code, params=param_json, base_time = basetime, child_task_id=child_task_id).run_score_fn()"
   ]
  },
  {
   "cell_type": "code",
   "execution_count": 1,
   "metadata": {},
   "outputs": [],
   "source": [
    "import sys\n",
    "import os\n",
    "from os import path\n",
    "\n",
    "sys.path.append('C:\\\\Users\\\\Administrator\\\\Desktop\\\\风控产品\\\\risk_project')\n",
    "# sys.path.append(path.dirname(path.dirname(path.dirname(os.getcwd()))))\n",
    "from risk_models import *"
   ]
  },
  {
   "cell_type": "code",
   "execution_count": 2,
   "metadata": {},
   "outputs": [
    {
     "name": "stderr",
     "output_type": "stream",
     "text": [
      "2021-06-08 09:33:11.082 | INFO     | risk_models.config.read_config.read_func:read_oracle:82 - Read Table successfully! , Total read time spent 2.209s\n",
      "2021-06-08 09:33:11.221 | INFO     | risk_models.config.read_config.read_func:read_oracle:82 - Read Table successfully! , Total read time spent 0.128s\n"
     ]
    }
   ],
   "source": [
    "# 读数\n",
    "sql=f\"\"\"\\\n",
    "select sum(SCORE) from {TableList.BD_RISK_RESULT_WAREHOUSE_WH1.value} WHERE ISCURRENT = 1  \\\n",
    "\"\"\"\n",
    "wh1_result=Read_Oracle().read_oracle(sql=sql,database='dbods')\n",
    "\n",
    "sql=f\"\"\"\\\n",
    "select sum(SCORE) from {TableList.BD_RISK_RESULT_WAREHOUSE_WH2.value} WHERE ISCURRENT = 1 \\\n",
    "\"\"\"\n",
    "wh2_result=Read_Oracle().read_oracle(sql=sql,database='dbods')\n",
    "\n",
    "x = [wh1_result.iloc[0,0],wh2_result.iloc[0,0]]\n",
    "\n",
    "total_score = 0\n",
    "score_weight = [0.5,0.5]\n",
    "\n",
    "for i in range(len(x)):\n",
    "    if x[i]:\n",
    "        total_score = total_score + (100 + x[i])*score_weight[i]\n",
    "    else:\n",
    "        total_score = total_score + 0\n",
    "\n",
    "df_result = pd.DataFrame()\n",
    "now = datetime.datetime.strftime(datetime.datetime.now(), format='%Y-%m-%d %H:%M:%S')\n",
    "df_result = df_result.append([{'ID':0,'ORG_CODE':000000000,'CHECK_TIME':now}],ignore_index = True)\n",
    "df_result['CHECK_TIME']= pd.to_datetime(df_result['CHECK_TIME'], format='%Y-%m-%d %H:%M:%S')\n",
    "df_result['SCORE'] = total_score\n",
    "df_result['MODEL_CODE'] = 'WAREHOUSE'\n",
    "\n",
    "# Write_Oracle().write_oracle(f'{TableList.BD_RISK_CORP_SCORE_DISPLAY.value}',df_result,org_code=org_code,alarm = ['FINANCE',''])"
   ]
  },
  {
   "cell_type": "code",
   "execution_count": 18,
   "metadata": {},
   "outputs": [
    {
     "name": "stderr",
     "output_type": "stream",
     "text": [
      "2021-06-08 09:41:06.342 | INFO     | risk_models.config.read_config.read_func:read_oracle:82 - Read Table successfully! , Total read time spent 5.858s\n"
     ]
    }
   ],
   "source": [
    "sql=f\"\"\"\\\n",
    "select sum(SCORE) from {TableList.BD_RISK_RESULT_WAREHOUSE_WH2.value} WHERE ISCURRENT = 1 AND ORG_CODE LIKE '11111' \\\n",
    "\"\"\"\n",
    "wh3_result=Read_Oracle().read_oracle(sql=sql,database='dbods')"
   ]
  },
  {
   "cell_type": "code",
   "execution_count": 19,
   "metadata": {},
   "outputs": [
    {
     "data": {
      "text/html": [
       "<div>\n",
       "<style scoped>\n",
       "    .dataframe tbody tr th:only-of-type {\n",
       "        vertical-align: middle;\n",
       "    }\n",
       "\n",
       "    .dataframe tbody tr th {\n",
       "        vertical-align: top;\n",
       "    }\n",
       "\n",
       "    .dataframe thead th {\n",
       "        text-align: right;\n",
       "    }\n",
       "</style>\n",
       "<table border=\"1\" class=\"dataframe\">\n",
       "  <thead>\n",
       "    <tr style=\"text-align: right;\">\n",
       "      <th></th>\n",
       "      <th>SUM(SCORE)</th>\n",
       "    </tr>\n",
       "  </thead>\n",
       "  <tbody>\n",
       "    <tr>\n",
       "      <th>0</th>\n",
       "      <td>None</td>\n",
       "    </tr>\n",
       "  </tbody>\n",
       "</table>\n",
       "</div>"
      ],
      "text/plain": [
       "  SUM(SCORE)\n",
       "0       None"
      ]
     },
     "execution_count": 19,
     "metadata": {},
     "output_type": "execute_result"
    }
   ],
   "source": [
    "wh3_result"
   ]
  },
  {
   "cell_type": "code",
   "execution_count": 35,
   "metadata": {},
   "outputs": [
    {
     "name": "stdout",
     "output_type": "stream",
     "text": [
      "26.4444265\n",
      "39.22371425\n",
      "39.22\n"
     ]
    }
   ],
   "source": [
    "total_score = 0\n",
    "score_weight = [0.5,0.5]\n",
    "\n",
    "for i in range(len(x)):\n",
    "    if pd.isnull(x[i]):\n",
    "        total_score = total_score + 0\n",
    "    elif x[i] < -100 :\n",
    "        total_score = total_score + (100 - 100 )*score_weight[i]\n",
    "    elif x[i] > 0 :\n",
    "        total_score = total_score + (100 + 0 )*score_weight[i]\n",
    "    else:\n",
    "        total_score = total_score + (100 + x[i])*score_weight[i]\n",
    "    print(total_score)\n",
    "\n",
    "total_score = round(total_score,2)\n",
    "print(total_score)"
   ]
  },
  {
   "cell_type": "code",
   "execution_count": 34,
   "metadata": {},
   "outputs": [],
   "source": [
    "x = [-47.111147,-74.4414245]"
   ]
  },
  {
   "cell_type": "code",
   "execution_count": 24,
   "metadata": {},
   "outputs": [
    {
     "data": {
      "text/plain": [
       "-1"
      ]
     },
     "execution_count": 24,
     "metadata": {},
     "output_type": "execute_result"
    }
   ],
   "source": [
    "(-pd.isnull(wh3_result.iloc[0,0]))"
   ]
  },
  {
   "cell_type": "code",
   "execution_count": 26,
   "metadata": {},
   "outputs": [
    {
     "data": {
      "text/plain": [
       "0"
      ]
     },
     "execution_count": 26,
     "metadata": {},
     "output_type": "execute_result"
    }
   ],
   "source": [
    "-False"
   ]
  },
  {
   "cell_type": "code",
   "execution_count": 38,
   "metadata": {},
   "outputs": [
    {
     "name": "stderr",
     "output_type": "stream",
     "text": [
      "2021-06-08 10:11:41.480 | INFO     | risk_models.config.read_config.read_func:read_oracle:82 - Read Table successfully! , Total read time spent 0.223s\n",
      "2021-06-08 10:11:41.593 | INFO     | risk_models.config.read_config.read_func:read_oracle:82 - Read Table successfully! , Total read time spent 0.110s\n",
      "2021-06-08 10:11:41.707 | INFO     | risk_models.config.read_config.read_func:read_oracle:82 - Read Table successfully! , Total read time spent 0.090s\n"
     ]
    },
    {
     "name": "stdout",
     "output_type": "stream",
     "text": [
      "   ID            ORG_CODE          CHECK_TIME  SCORE MODEL_CODE\n",
      "0   0  91310115688774070B 2021-06-08 10:11:41  99.11  WAREHOUSE\n"
     ]
    },
    {
     "name": "stderr",
     "output_type": "stream",
     "text": [
      "2021-06-08 10:11:44.676 | INFO     | risk_models.config.write_config.write_func:write_oracle:179 - Processing... Writing 1 rows into database\n",
      "2021-06-08 10:11:44.702 | INFO     | risk_models.config.write_config.write_func:write_oracle:186 - Insert data into BD_RISK_CORP_SCORE_DISPLAY successfully! Total write time spent 3.090s\n",
      "2021-06-08 10:11:44.718 | INFO     | risk_models.config.log_config.log_func:gen_log_json:37 - updating child_task_id:0001_0005 log msg into BD_RISK_MODEL_LOG successfully!\n",
      "2021-06-08 10:11:44.971 | INFO     | risk_models.config.write_config.write_log:write_oracle:52 - Updated child_task_id: 0001_0005 log msg into BD_RISK_MODEL_LOG successfully!\n"
     ]
    }
   ],
   "source": [
    "import sys, os\n",
    "from os import path\n",
    "# sys.path.append('/root/bdrisk/risk_project')\n",
    "# sys.path.append(path.dirname(path.dirname(path.dirname(os.getcwd()))))\n",
    "sys.path.append('C:\\\\Users\\\\Administrator\\\\Desktop\\\\风控产品\\\\risk_project')\n",
    "# sys.path.append(path.dirname(path.dirname(path.dirname(os.getcwd()))))\n",
    "from risk_models import *\n",
    "\n",
    "class ScoreWh(object):\n",
    "    def __init__(self, org_code, params, base_time, child_task_id):\n",
    "        self.model_code = 'WAREHOUSE'\n",
    "        self.child_model_code = 'SCORE'\n",
    "        self.child_task_id = child_task_id\n",
    "        Risk_logger(child_task_id=self.child_task_id, exec_status=None)\n",
    "\n",
    "        # 参数读取\n",
    "        self.org_code = org_code\n",
    "        self.score_weight = [0.5,0.5]\n",
    "        \n",
    "    def score_wh(self):  \n",
    "        # 读数\n",
    "        sql=f\"\"\"\\\n",
    "        select sum(SCORE) from {TableList.BD_RISK_RESULT_WAREHOUSE_WH1.value} WHERE ISCURRENT = 1  \\\n",
    "        \"\"\"\n",
    "        wh1_result=Read_Oracle().read_oracle(sql=sql,database='dbods')\n",
    "\n",
    "        sql=f\"\"\"\\\n",
    "        select sum(SCORE) from {TableList.BD_RISK_RESULT_WAREHOUSE_WH2.value} WHERE ISCURRENT = 1 \\\n",
    "        \"\"\"\n",
    "        wh2_result=Read_Oracle().read_oracle(sql=sql,database='dbods')\n",
    "\n",
    "        x = [wh1_result.iloc[0,0],wh2_result.iloc[0,0]]\n",
    "\n",
    "        total_score = 0\n",
    "        for i in range(len(x)):\n",
    "            if pd.isnull(x[i]):\n",
    "                total_score = total_score + 0\n",
    "            elif x[i] < -100 :\n",
    "                total_score = total_score + (100 - 100 )*self.score_weight[i]\n",
    "            elif x[i] > 0 :\n",
    "                total_score = total_score + (100 + 0 )*self.score_weight[i]\n",
    "            else:\n",
    "                total_score = total_score + (100 + x[i])*self.score_weight[i]\n",
    "                \n",
    "        total_score = round(total_score,2)\n",
    "        df_result = pd.DataFrame()\n",
    "        now = datetime.datetime.strftime(datetime.datetime.now(), format='%Y-%m-%d %H:%M:%S')\n",
    "        df_result = df_result.append([{'ID':0,'ORG_CODE':self.org_code,'CHECK_TIME':now}],ignore_index = True)\n",
    "        df_result['CHECK_TIME']= pd.to_datetime(df_result['CHECK_TIME'], format='%Y-%m-%d %H:%M:%S')\n",
    "        df_result['SCORE'] = total_score\n",
    "        df_result['MODEL_CODE'] = self.model_code\n",
    "        print(df_result)\n",
    "\n",
    "        Write_Oracle().write_oracle(f'{TableList.BD_RISK_CORP_SCORE_DISPLAY.value}',df_result,org_code=self.org_code,alarm = ['WAREHOUSE',''])\n",
    "\n",
    "    def run_score_wh(self):\n",
    "        try:\n",
    "            self.score_wh()\n",
    "            exec_status = 1\n",
    "        except:\n",
    "            logger.exception('model execution error')\n",
    "            exec_status = 0\n",
    "        finally:\n",
    "            Risk_logger(child_task_id=self.child_task_id, exec_status=exec_status).write_log()\n",
    "\n",
    "\n",
    "if __name__ == '__main__':\n",
    "    # 读取传入的 child_task_id，仅适用于py调用,先备注掉\n",
    "#     child_task_id = sys.argv[1]\n",
    "    child_task_id = '0001_0005'\n",
    "    org_code, param_json, basetime = read_log_table(child_task_id)\n",
    "    org_code = '91310115688774070B'\n",
    "    ScoreWh(org_code, params=param_json, base_time = basetime, child_task_id=child_task_id).run_score_wh()"
   ]
  }
 ],
 "metadata": {
  "kernelspec": {
   "display_name": "Python 3",
   "language": "python",
   "name": "python3"
  },
  "language_info": {
   "codemirror_mode": {
    "name": "ipython",
    "version": 3
   },
   "file_extension": ".py",
   "mimetype": "text/x-python",
   "name": "python",
   "nbconvert_exporter": "python",
   "pygments_lexer": "ipython3",
   "version": "3.8.5"
  }
 },
 "nbformat": 4,
 "nbformat_minor": 4
}
