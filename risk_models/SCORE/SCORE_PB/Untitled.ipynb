{
 "cells": [
  {
   "cell_type": "code",
   "execution_count": 1,
   "metadata": {},
   "outputs": [],
   "source": [
    "import sys, os\n",
    "from os import path\n",
    "# sys.path.append('/root/bdrisk/risk_project')\n",
    "# sys.path.append(path.dirname(path.dirname(path.dirname(os.getcwd()))))\n",
    "sys.path.append('C:\\\\Users\\\\Administrator\\\\Desktop\\\\风控产品\\\\risk_project')\n",
    "sys.path.append(path.dirname(path.dirname(path.dirname(os.getcwd()))))\n",
    "from risk_models import *"
   ]
  },
  {
   "cell_type": "code",
   "execution_count": 40,
   "metadata": {},
   "outputs": [],
   "source": [
    "org_code = '91310000132612172J'"
   ]
  },
  {
   "cell_type": "code",
   "execution_count": 55,
   "metadata": {},
   "outputs": [
    {
     "name": "stderr",
     "output_type": "stream",
     "text": [
      "2021-12-08 16:21:47.549 | INFO     | risk_models.config.read_config.read_func:read_oracle:83 - Read Table successfully! , Total read time spent 0.230s\n"
     ]
    }
   ],
   "source": [
    "p0=f'''select MODEL_CODE,SCORE from {TableList.BD_RISK_CORP_SCORE_DISPLAY.value} WHERE ISCURRENT = 1 AND CUSTOMER_CODE = 'FTA_LG' AND MODEL_CODE IN ('CREDIT','FINANCE','PRODUCTION','SUPPLYCHAIN','STOCK','TRACK','PUBLIC','CUSTOM') AND ORG_CODE LIKE '{org_code}'  '''\n",
    "score_list = Read_Oracle().read_oracle(sql= p0, database = 'dbdm')\n",
    "\n",
    "model_list = ['CREDIT','FINANCE','PRODUCTION','SUPPLYCHAIN','STOCK','TRACK','PUBLIC','CUSTOM']\n",
    "df_model = pd.DataFrame(model_list,columns=['MODEL_CODE'])\n",
    "\n",
    "score_result = pd.merge(df_model,score_list,how='left',on=['MODEL_CODE'])\n",
    "score_result['SCORE'].fillna(100,inplace=True)\n",
    "\n",
    "total_score = round(score_result['SCORE'].mean(),2)"
   ]
  },
  {
   "cell_type": "code",
   "execution_count": 63,
   "metadata": {},
   "outputs": [],
   "source": [
    "model_list = ['CREDIT','FINANCE','PRODUCTION','SUPPLYCHAIN','STOCK','TRACK','PUBLIC','CUSTOM']\n",
    "df_model = pd.DataFrame(model_list,columns=['MODEL_CODE'])"
   ]
  },
  {
   "cell_type": "code",
   "execution_count": 64,
   "metadata": {},
   "outputs": [],
   "source": [
    "score_result = pd.merge(df_model,score_list,how='left',on=['MODEL_CODE'])"
   ]
  },
  {
   "cell_type": "code",
   "execution_count": 69,
   "metadata": {},
   "outputs": [],
   "source": [
    "score_result['SCORE'].fillna(100,inplace=True)"
   ]
  },
  {
   "cell_type": "code",
   "execution_count": 73,
   "metadata": {},
   "outputs": [],
   "source": [
    "total_score = round(score_result['SCORE'].mean(),2)"
   ]
  },
  {
   "cell_type": "code",
   "execution_count": null,
   "metadata": {},
   "outputs": [],
   "source": [
    "p1=f'''select SCORE from {TableList.BD_RISK_CORP_SCORE_DISPLAY.value} WHERE ISCURRENT = 1 AND CUSTOMER_CODE = 'FTA_LG' AND MODEL_CODE = 'TOTAL' AND ORG_CODE LIKE '{org_code}' ORDER BY LASTUPDATE DESC  '''\n",
    "pre_total = Read_Oracle().read_oracle(sql= p1, database = 'dbdm')\n",
    "\n",
    "if pre_total is not None:\n",
    "    pre_sc = pre_total[0,'SCORE']\n",
    "    score_change = total_score - pre_sc\n",
    "    CHANGE_RESULT = pd.DataFrame(data=[[0, self.org_code, 'CHANGE', score_change]], columns=['ID', 'ORG_CODE', 'MODEL_CODE', 'SCORE'])\n",
    "    now = datetime.datetime.now().strftime(\"%Y-%m-%d %H:%M:%S\")\n",
    "    CHANGE_RESULT['CHECK_TIME'] = datetime.datetime.strptime(now, \"%Y-%m-%d %H:%M:%S\")\n",
    "    CHANGE_RESULT['CUSTOMER_CODE'] = 'FTA_LG'\n",
    "    Write_Oracle().write_oracle('BD_RISK_CORP_SCORE_DISPLAY',CHANGE_RESULT, org_code = self.org_code, alarm = ['CHANGE',''])\n",
    "else:\n",
    "    print(f'Notification: pre total score not found. no score change written. org_code:{org_code}')\n",
    "\n",
    "TOTAL_RESULT = pd.DataFrame(data=[[0, self.org_code, 'TOTAL', total_score]], columns=['ID', 'ORG_CODE', 'MODEL_CODE', 'SCORE'])\n",
    "now = datetime.datetime.now().strftime(\"%Y-%m-%d %H:%M:%S\")\n",
    "TOTAL_RESULT['CHECK_TIME'] = datetime.datetime.strptime(now, \"%Y-%m-%d %H:%M:%S\")\n",
    "TOTAL_RESULT['CUSTOMER_CODE'] = 'FTA_LG'\n",
    "Write_Oracle().write_oracle('BD_RISK_CORP_SCORE_DISPLAY',TOTAL_RESULT, org_code = self.org_code, alarm = ['TOTAL',''])"
   ]
  },
  {
   "cell_type": "code",
   "execution_count": null,
   "metadata": {},
   "outputs": [],
   "source": [
    "import sys, os\n",
    "from os import path\n",
    "sys.path.append('/root/bdrisk/risk_project')\n",
    "sys.path.append(path.dirname(path.dirname(path.dirname(os.getcwd()))))\n",
    "# sys.path.append('C:\\\\Users\\\\Administrator\\\\Desktop\\\\风控产品\\\\risk_project')\n",
    "# sys.path.append(path.dirname(path.dirname(path.dirname(os.getcwd()))))\n",
    "from risk_models import *\n",
    "\n",
    "class ScoreTotal(object):\n",
    "    def __init__(self, child_task_id, org_code, params):\n",
    "        self.child_task_id = child_task_id\n",
    "        Risk_logger(child_task_id = self.child_task_id, exec_status=None)\n",
    "\n",
    "        # 参数读取\n",
    "        self.org_code = org_code\n",
    "\n",
    "    def score_public(self):\n",
    "        #读取企业名称\n",
    "        p0=f'''select ORG_CODE,ORG_NAME from {TableList.BD_RISK_CORP_INFO_BASIC.value} WHERE ORG_CODE LIKE '{self.org_code}'  '''\n",
    "        corp_list = Read_Oracle().read_oracle(sql= p0, database = 'dbdm')\n",
    "        if corp_list is not None:\n",
    "            org_name = corp_list.loc[0,'ORG_NAME']\n",
    "        else:\n",
    "            print(f'Error: Corp Not Found. org_code = {self.org_code}')\n",
    "            return\n",
    "\n",
    "        # 读取企业库存模块的结果表数据\n",
    "        sql=f\"\"\"\\\n",
    "        select RISK_LABEL from {TableList.MX_PUBLIC_ELECTRIC.value} WHERE ISCURRENT = 1 AND CORP_NAME LIKE '{org_name}' \\\n",
    "        \"\"\"\n",
    "        pb1_result=Read_Oracle().read_oracle(sql=sql,database='dbdm')\n",
    "\n",
    "        sql=f\"\"\"\\\n",
    "        select RISK_LABEL from {TableList.MX_PUBLIC_INSURANCE.value} WHERE ISCURRENT = 1 AND CORP_NAME LIKE '{org_name}' \\\n",
    "        \"\"\"\n",
    "        pb2_result=Read_Oracle().read_oracle(sql=sql,database='dbdm')\n",
    "\n",
    "        if ((pb1_result is None) and (pb2_result is None)):\n",
    "            print(f'Error: No public data of this corp found. org_code = {self.org_code}, org_name = {org_name}')\n",
    "            return\n",
    "\n",
    "        if pb1_result is not None:\n",
    "            sc1 = pb1_result.copy()\n",
    "            sc1['SCORE'] = pb1_result['RISK_LABEL'].apply(lambda x : 0.1 if x=='比值正常' else -0.1)\n",
    "            sc1_total = sc1['SCORE'].sum()\n",
    "        else:\n",
    "            print(\"Warnning: public_electric data not found.\")\n",
    "            sc1_total = 0\n",
    "\n",
    "        if pb2_result is not None:\n",
    "            sc2 = pb2_result.copy()\n",
    "            sc2['SCORE'] = pb2_result['RISK_LABEL'].apply(lambda x : 0.1 if x=='比值正常' else -0.1)\n",
    "            sc2_total = sc2['SCORE'].sum()\n",
    "        else:\n",
    "            print(\"Warnning: public_insurance data not found.\")\n",
    "            sc2_total = 0\n",
    "\n",
    "        sc_total = sc1_total + sc2_total\n",
    "        if sc_total>=0:\n",
    "            sc_total = 100\n",
    "        else:\n",
    "            sc_total = 100 + sc_total\n",
    "\n",
    "        PUBLIC_RESULT = pd.DataFrame(data=[[0, self.org_code, 'PUBLIC', sc_total]], columns=['ID', 'ORG_CODE', 'MODEL_CODE', 'SCORE'])\n",
    "        now = datetime.datetime.now().strftime(\"%Y-%m-%d %H:%M:%S\")\n",
    "        PUBLIC_RESULT['CHECK_TIME'] = datetime.datetime.strptime(now, \"%Y-%m-%d %H:%M:%S\")\n",
    "        PUBLIC_RESULT['CUSTOMER_CODE'] = 'FTA_LG'\n",
    "        Write_Oracle().write_oracle('BD_RISK_CORP_SCORE_DISPLAY',PUBLIC_RESULT, org_code = self.org_code, alarm = ['PUBLIC',''])\n",
    "\n",
    "    def run_score_public(self):\n",
    "        try:\n",
    "            self.score_public()\n",
    "            exec_status = 1\n",
    "        except:\n",
    "            logger.exception('model execution error')\n",
    "            exec_status = 0\n",
    "        finally:\n",
    "            Risk_logger(child_task_id = self.child_task_id, exec_status=exec_status).write_log()\n",
    "\n",
    "if __name__ == '__main__':\n",
    "    # 读取传入的 child_task_id，仅适用于py调用,先备注掉\n",
    "    child_task_id = sys.argv[1]\n",
    "    # child_task_id = 'fef0424300744209860f05cd2fa3daaa'\n",
    "    org_code, params, base_time = read_log_table(child_task_id)\n",
    "    # org_code = '91310000132612172J'\n",
    "    ScorePb(child_task_id, org_code, params).run_score_public()"
   ]
  }
 ],
 "metadata": {
  "kernelspec": {
   "display_name": "Python 3",
   "language": "python",
   "name": "python3"
  },
  "language_info": {
   "codemirror_mode": {
    "name": "ipython",
    "version": 3
   },
   "file_extension": ".py",
   "mimetype": "text/x-python",
   "name": "python",
   "nbconvert_exporter": "python",
   "pygments_lexer": "ipython3",
   "version": "3.8.5"
  }
 },
 "nbformat": 4,
 "nbformat_minor": 4
}
