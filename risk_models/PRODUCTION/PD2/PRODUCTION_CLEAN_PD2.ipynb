{
 "cells": [
  {
   "cell_type": "code",
   "execution_count": 1,
   "metadata": {},
   "outputs": [
    {
     "name": "stderr",
     "output_type": "stream",
     "text": [
      "2021-07-13 16:11:45.973 | INFO     | risk_models.config.read_config.read_func:read_oracle:83 - Read Table successfully! , Total read time spent 0.264s\n",
      "2021-07-13 16:11:56.078 | INFO     | risk_models.config.read_config.read_func:read_oracle:83 - Read Table successfully! , Total read time spent 10.07s\n",
      "2021-07-13 16:12:04.953 | INFO     | risk_models.config.read_config.read_func:read_oracle:83 - Read Table successfully! , Total read time spent 0.164s\n",
      "2021-07-13 16:14:26.115 | INFO     | risk_models.config.write_config.write_func:write_oracle:184 - Processing... Writing 872896 rows into database\n",
      "2021-07-13 16:15:26.228 | INFO     | risk_models.config.write_config.write_func:write_oracle:191 - Insert data into BD_RISK_DETAIL_PRODUCTION_PD2 successfully! Total write time spent 201.8s\n",
      "2021-07-13 16:15:26.545 | INFO     | risk_models.config.log_config.log_func:gen_log_json:37 - updating child_task_id:0001_0010 log msg into BD_RISK_MODEL_LOG successfully!\n",
      "2021-07-13 16:15:26.857 | INFO     | risk_models.config.write_config.write_log:write_oracle:53 - Updated child_task_id: 0001_0010 log msg into BD_RISK_MODEL_LOG successfully!\n"
     ]
    }
   ],
   "source": [
    "import sys\n",
    "import os\n",
    "from os import path\n",
    "# 部署的路径\n",
    "sys.path.append('/root/bdrisk/risk_project')\n",
    "# 堡垒机的路径\n",
    "sys.path.append(path.dirname(path.dirname(path.dirname(os.getcwd()))))\n",
    "# 这是log文件的存放路径\n",
    "root_path = path.dirname(path.dirname(path.dirname(os.getcwd())))\n",
    "from risk_models import *\n",
    "from risk_models import _name_EMS_TIMECOST_INFO\n",
    "\n",
    "\n",
    "class ProductionCleanPd2(object):\n",
    "    def __init__(self, child_task_id, org_code, base_time):\n",
    "        self.child_task_id = child_task_id\n",
    "        Risk_logger(child_task_id = self.child_task_id, exec_status=None)\n",
    "\n",
    "        # 参数读取\n",
    "        self.org_code = org_code\n",
    "        self.base_time = base_time\n",
    "        \n",
    "    def clean_pd2(self):\n",
    "        # 处理base_time，获取读数起始时间\n",
    "        dd = datetime.datetime.strptime(self.base_time, \"%Y-%m-%d %H:%M:%S\")\n",
    "        last_day_of_prev_month = dd.replace(day=1) - datetime.timedelta(days=1)\n",
    "        start_day_of_prev_month = dd.replace(day=1) - datetime.timedelta(days=last_day_of_prev_month.day)\n",
    "        \n",
    "        # 读取加工工时耗用表并过滤任何数据为空的行\n",
    "        EMS_TIMECOST_INFO = Read_Oracle().read_oracle(sql = \"\"\" Select org_code, batch_no, wo_no, wo_type, TOTAL_ACT_TIMECOST from {} where CAPXACTION != 'D' \n",
    "        and org_code = '{}' and batch_no is not null and wo_no is not null and wo_type is not null and TOTAL_ACT_TIMECOST is not null \n",
    "        and inputdbtime >= to_date('{}','yyyy-mm-dd hh24:mi:ss') \"\"\".format(_name_EMS_TIMECOST_INFO ,self.org_code, start_day_of_prev_month), database = 'dbods')\n",
    "        \n",
    "        # 清洗“合计实动工时”字段\n",
    "        EMS_TIMECOST_INFO['TOTAL_ACT_TIMECOST'] = EMS_TIMECOST_INFO['TOTAL_ACT_TIMECOST'].apply(lambda x: ''.join(x.split(',')))\n",
    "        EMS_TIMECOST_INFO['TOTAL_ACT_TIMECOST'] = EMS_TIMECOST_INFO['TOTAL_ACT_TIMECOST'].apply(lambda x: x.replace('-',''))\n",
    "        EMS_TIMECOST_INFO['TOTAL_ACT_TIMECOST'] = EMS_TIMECOST_INFO['TOTAL_ACT_TIMECOST'].map(float)\n",
    "        \n",
    "        # 根据企业-批次号-工单类型-工单号粒度，聚合生产工时\n",
    "        PRO_SCGS_DETAIL = EMS_TIMECOST_INFO.groupby(['ORG_CODE', 'BATCH_NO', 'WO_TYPE', 'WO_NO'], as_index=False)['TOTAL_ACT_TIMECOST'].sum()\n",
    "        # 字段重命名\n",
    "        PRO_SCGS_DETAIL = PRO_SCGS_DETAIL.rename(columns={'TOTAL_ACT_TIMECOST':'TIMECOST'})\n",
    "        \n",
    "        # 更新ID; 模型运行时间\n",
    "        PRO_SCGS_DETAIL['ID'] = range(len(PRO_SCGS_DETAIL))\n",
    "        now = datetime.datetime.now().strftime(\"%Y-%m-%d %H:%M:%S\")\n",
    "        PRO_SCGS_DETAIL['CHECK_TIME'] = datetime.datetime.strptime(now, \"%Y-%m-%d %H:%M:%S\")\n",
    "    \n",
    "        # 整理结果表\n",
    "        PRO_SCGS_DETAIL = PRO_SCGS_DETAIL[['ID', 'ORG_CODE', 'BATCH_NO', 'WO_TYPE', 'WO_NO', 'TIMECOST', 'CHECK_TIME']]\n",
    "        \n",
    "        # 读入写入数据库\n",
    "        Write_Oracle().write_oracle('BD_RISK_DETAIL_PRODUCTION_PD2',PRO_SCGS_DETAIL, org_code=self.org_code, alarm=None)\n",
    "\n",
    "    def run_clean_pd2(self):\n",
    "        try:\n",
    "            self.clean_pd2()\n",
    "            exec_status = 1\n",
    "        except:\n",
    "            logger.exception('model execution error')\n",
    "            exec_status = 0\n",
    "        finally:\n",
    "            Risk_logger(child_task_id = self.child_task_id, exec_status=exec_status).write_log()\n",
    "\n",
    "\n",
    "if __name__ == '__main__':\n",
    "    # 读取传入的 child_task_id，仅适用于py调用,先备注掉\n",
    "    # child_task_id = sys.argv[1]\n",
    "    child_task_id = '0001_0010'\n",
    "    org_code, param_json, base_time = read_log_table(child_task_id)\n",
    "    ProductionCleanPd2(child_task_id, org_code, base_time).run_clean_pd2()\n"
   ]
  }
 ],
 "metadata": {
  "kernelspec": {
   "display_name": "Python 3",
   "language": "python",
   "name": "python3"
  },
  "language_info": {
   "codemirror_mode": {
    "name": "ipython",
    "version": 3
   },
   "file_extension": ".py",
   "mimetype": "text/x-python",
   "name": "python",
   "nbconvert_exporter": "python",
   "pygments_lexer": "ipython3",
   "version": "3.8.5"
  }
 },
 "nbformat": 4,
 "nbformat_minor": 4
}
