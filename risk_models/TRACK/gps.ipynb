{
 "cells": [
  {
   "cell_type": "code",
   "execution_count": 1,
   "metadata": {},
   "outputs": [],
   "source": [
    "import pymongo"
   ]
  },
  {
   "cell_type": "code",
   "execution_count": 13,
   "metadata": {},
   "outputs": [],
   "source": [
    "myclient = pymongo.MongoClient(\"mongodb://192.168.132.145:27017/\",username='ods_oper',password='easipass')"
   ]
  },
  {
   "cell_type": "code",
   "execution_count": 16,
   "metadata": {},
   "outputs": [
    {
     "name": "stdout",
     "output_type": "stream",
     "text": [
      "MongoClient(host=['192.168.132.145:27017'], document_class=dict, tz_aware=False, connect=True)\n",
      "Database(MongoClient(host=['192.168.132.145:27017'], document_class=dict, tz_aware=False, connect=True), 'ods_zmxpq_gps')\n",
      "Collection(Database(MongoClient(host=['192.168.132.145:27017'], document_class=dict, tz_aware=False, connect=True), 'ods_zmxpq_gps'), 'ods_zmxpq_gps_location')\n"
     ]
    }
   ],
   "source": [
    "print(myclient)\n",
    "db = myclient['ods_zmxpq_gps']\n",
    "print(db)\n",
    "table = db['ods_zmxpq_gps_location']\n",
    "print(table)"
   ]
  },
  {
   "cell_type": "code",
   "execution_count": 17,
   "metadata": {},
   "outputs": [
    {
     "data": {
      "text/plain": [
       "{'_id': ObjectId('60b34601790f2b157cb528e2'),\n",
       " 'altitude': '0',\n",
       " 'loc': {'coordinates': [120.810501, 29.137331], 'type': 'Point'},\n",
       " 'lon': 120.810501,\n",
       " 'vehiclecolor': '2',\n",
       " 'speed': '0',\n",
       " 'miles': '421047',\n",
       " 'vehicleno': '沪EA1817',\n",
       " 'speedrec': '0',\n",
       " 'statestr': '00000000000011000000010000000001',\n",
       " 'alarmstr': '00000000000000000000000000100100',\n",
       " 'encrypt': '0',\n",
       " 'state': '0',\n",
       " 'gpstime': '2021-05-30 05:42:10',\n",
       " 'lat': 29.137331,\n",
       " 'direction': '1',\n",
       " 'mgo_create_time': datetime.datetime(2021, 5, 30, 16, 0, 1)}"
      ]
     },
     "execution_count": 17,
     "metadata": {},
     "output_type": "execute_result"
    }
   ],
   "source": [
    "table.find_one()"
   ]
  },
  {
   "cell_type": "code",
   "execution_count": null,
   "metadata": {},
   "outputs": [],
   "source": []
  }
 ],
 "metadata": {
  "kernelspec": {
   "display_name": "Python 3",
   "language": "python",
   "name": "python3"
  },
  "language_info": {
   "codemirror_mode": {
    "name": "ipython",
    "version": 3
   },
   "file_extension": ".py",
   "mimetype": "text/x-python",
   "name": "python",
   "nbconvert_exporter": "python",
   "pygments_lexer": "ipython3",
   "version": "3.8.5"
  }
 },
 "nbformat": 4,
 "nbformat_minor": 4
}
