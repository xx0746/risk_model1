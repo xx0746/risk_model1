{
 "cells": [
  {
   "cell_type": "code",
   "execution_count": 1,
   "metadata": {},
   "outputs": [],
   "source": [
    "import sys\n",
    "import os\n",
    "from os import path\n",
    "sys.path.append(path.dirname(path.dirname(path.dirname(os.getcwd()))))"
   ]
  },
  {
   "cell_type": "code",
   "execution_count": 2,
   "metadata": {},
   "outputs": [],
   "source": [
    "from risk_models import *\n",
    "from risk_models import _name_FT_I_DTL_SEA_PRE_RECORDED, \\\n",
    "    _name_FT_I_DTL_SEA_CONTAINER, _name_FT_I_DTL_COARRI_CTNR, _name_DIM_OPERATOR, _name_DIM_FTZ_CORP, \\\n",
    "    _name_FT_E_DTL_SEA_PRE_RECORDED, \\\n",
    "    _name_FT_E_DTL_SEA_CONTAINER, _name_FT_E_DTL_COARRI_CTNR, _name_MX_BVD, _name_FT_I_DTL_SEA_LIST, _name_FT_E_DTL_SEA_LIST"
   ]
  },
  {
   "cell_type": "markdown",
   "metadata": {},
   "source": [
    "# clean"
   ]
  },
  {
   "cell_type": "code",
   "execution_count": 3,
   "metadata": {},
   "outputs": [
    {
     "name": "stderr",
     "output_type": "stream",
     "text": [
      "2021-07-05 10:57:06.869 | INFO     | risk_models.config.read_config.read_func:read_oracle:83 - Read Table successfully! , Total read time spent 0.666s\n"
     ]
    }
   ],
   "source": [
    "child_task_id = 'childtaskidsc1001'\n",
    "org_code, param_json, base_time = read_log_table(child_task_id)"
   ]
  },
  {
   "cell_type": "code",
   "execution_count": 4,
   "metadata": {},
   "outputs": [],
   "source": [
    "model_code = 'SUPPLYCHAIN'\n",
    "child_model_code = 'SC1'\n",
    "child_task_id = child_task_id\n",
    "Risk_logger(child_task_id=child_task_id, exec_status=None)\n",
    "\n",
    "# 参数读取\n",
    "org_code = org_code\n",
    "params = json.loads(param_json)\n",
    "startdt = (dt_method.strptime(base_time, \"%Y-%m-%d %H:%M:%S\") - datetime.timedelta(days=182)) \\\n",
    "    .strftime('%Y-%m-%d')\n",
    "enddt = (dt_method.strptime(base_time, \"%Y-%m-%d %H:%M:%S\") - datetime.timedelta(days=31)) \\\n",
    "    .strftime('%Y-%m-%d')"
   ]
  },
  {
   "cell_type": "code",
   "execution_count": 8,
   "metadata": {},
   "outputs": [
    {
     "name": "stderr",
     "output_type": "stream",
     "text": [
      "2021-07-05 10:59:16.216 | INFO     | risk_models.config.read_config.read_func:read_oracle:83 - Read Table successfully! , Total read time spent 15.48s\n",
      "2021-07-05 10:59:43.869 | INFO     | risk_models.config.read_config.read_func:read_oracle:83 - Read Table successfully! , Total read time spent 27.64s\n"
     ]
    }
   ],
   "source": [
    "sql1 = f\"\"\"\n",
    "        SELECT \n",
    "        TRADE_NAME,\n",
    "        E.UNI_SC_ID as ORG_CODE,\n",
    "        GOODS_OWNER,\n",
    "        CUS_DECL_AGENT,\n",
    "        OVERSEAS_CONSIGNOR_NAME_EN,\n",
    "        D.OPR_NAME_CN,\n",
    "        SUM(GOODS_GROSS_VALUE_RMB) AS SUM_RMB\n",
    "        FROM {_name_FT_I_DTL_SEA_PRE_RECORDED} A\n",
    "        JOIN {_name_FT_I_DTL_SEA_CONTAINER} B  ON A.ID=B.HEAD_id\n",
    "        JOIN  {_name_FT_I_DTL_SEA_LIST} F ON F.HEAD_ID = A.ID\n",
    "        LEFT JOIN {_name_FT_I_DTL_COARRI_CTNR} C ON B.VSL_NAME=C.VSL_NAME\n",
    "        AND B.VOYAGE=C.VOYAGE AND B.CTNR_NO=C.CTNR_NO\n",
    "        LEFT JOIN {_name_DIM_OPERATOR} D ON C.CTNR_OPR_CODE=D.OPR_CODE\n",
    "        inner join {_name_DIM_FTZ_CORP} E on a.trade_name = e.corp_name\n",
    "        where a.decl_date>=to_date('{startdt}','yyyy-mm-dd')\n",
    "        AND a.decl_date<to_date('{enddt}','yyyy-mm-dd')\n",
    "        GROUP BY TRADE_NAME,UNI_SC_ID,GOODS_OWNER,CUS_DECL_AGENT,OVERSEAS_CONSIGNOR_NAME_EN,OPR_NAME_CN\n",
    "        \"\"\"\n",
    "sql2 = f\"\"\"\n",
    "        SELECT \n",
    "        TRADE_NAME,\n",
    "        E1.UNI_SC_ID as ORG_CODE,\n",
    "        GOODS_OWNER,\n",
    "        CUS_DECL_AGENT,\n",
    "        OVERSEAS_CONSIGNOR_NAME_EN,\n",
    "        D1.OPR_NAME_CN,\n",
    "        SUM(GOODS_GROSS_VALUE_RMB) AS SUM_RMB\n",
    "        FROM {_name_FT_E_DTL_SEA_PRE_RECORDED} A1\n",
    "        JOIN {_name_FT_E_DTL_SEA_CONTAINER} B1 ON A1.ID=B1.HEAD_id\n",
    "        JOIN  {_name_FT_E_DTL_SEA_LIST} F1 ON F1.HEAD_ID = A1.ID\n",
    "        LEFT JOIN {_name_FT_E_DTL_COARRI_CTNR} C1 ON B1.VSL_NAME=C1.VSL_NAME\n",
    "        AND B1.VOYAGE=C1.VOYAGE AND B1.CTNR_NO=C1.CTNR_NO\n",
    "        LEFT JOIN {_name_DIM_OPERATOR} D1 ON C1.CTNR_OPR_CODE=D1.OPR_CODE\n",
    "        inner join {_name_DIM_FTZ_CORP} E1 on a1.trade_name = e1.corp_name\n",
    "        where a1.decl_date>=to_date('{startdt}','yyyy-mm-dd')\n",
    "        AND a1.decl_date<to_date('{enddt}','yyyy-mm-dd')\n",
    "        GROUP BY TRADE_NAME,UNI_SC_ID,GOODS_OWNER,CUS_DECL_AGENT,OVERSEAS_CONSIGNOR_NAME_EN,OPR_NAME_CN\n",
    "        \"\"\"\n",
    "df_sc1 = Read_Oracle().read_oracle(sql=sql1, database='dbdw')\n",
    "df_sc2 = Read_Oracle().read_oracle(sql=sql2, database='dbdw')"
   ]
  },
  {
   "cell_type": "code",
   "execution_count": 11,
   "metadata": {},
   "outputs": [],
   "source": [
    "df_sc = pd.concat([df_sc1,df_sc2],axis=0)"
   ]
  },
  {
   "cell_type": "code",
   "execution_count": 12,
   "metadata": {},
   "outputs": [
    {
     "data": {
      "text/html": [
       "<div>\n",
       "<style scoped>\n",
       "    .dataframe tbody tr th:only-of-type {\n",
       "        vertical-align: middle;\n",
       "    }\n",
       "\n",
       "    .dataframe tbody tr th {\n",
       "        vertical-align: top;\n",
       "    }\n",
       "\n",
       "    .dataframe thead th {\n",
       "        text-align: right;\n",
       "    }\n",
       "</style>\n",
       "<table border=\"1\" class=\"dataframe\">\n",
       "  <thead>\n",
       "    <tr style=\"text-align: right;\">\n",
       "      <th></th>\n",
       "      <th>TRADE_NAME</th>\n",
       "      <th>ORG_CODE</th>\n",
       "      <th>GOODS_OWNER</th>\n",
       "      <th>CUS_DECL_AGENT</th>\n",
       "      <th>OVERSEAS_CONSIGNOR_NAME_EN</th>\n",
       "      <th>OPR_NAME_CN</th>\n",
       "      <th>SUM_RMB</th>\n",
       "    </tr>\n",
       "  </thead>\n",
       "  <tbody>\n",
       "    <tr>\n",
       "      <th>0</th>\n",
       "      <td>威腾供应链管理（上海）有限公司</td>\n",
       "      <td>913101155820927689</td>\n",
       "      <td>威腾供应链管理（上海）有限公司</td>\n",
       "      <td>上海欣林供应链管理有限公司</td>\n",
       "      <td>HAY ApS</td>\n",
       "      <td>利胜地中海航运（上海）有限公司</td>\n",
       "      <td>1496783.26</td>\n",
       "    </tr>\n",
       "  </tbody>\n",
       "</table>\n",
       "</div>"
      ],
      "text/plain": [
       "        TRADE_NAME            ORG_CODE      GOODS_OWNER CUS_DECL_AGENT  \\\n",
       "0  威腾供应链管理（上海）有限公司  913101155820927689  威腾供应链管理（上海）有限公司  上海欣林供应链管理有限公司   \n",
       "\n",
       "  OVERSEAS_CONSIGNOR_NAME_EN      OPR_NAME_CN     SUM_RMB  \n",
       "0                    HAY ApS  利胜地中海航运（上海）有限公司  1496783.26  "
      ]
     },
     "execution_count": 12,
     "metadata": {},
     "output_type": "execute_result"
    }
   ],
   "source": [
    "df_sc.head(1)"
   ]
  },
  {
   "cell_type": "code",
   "execution_count": 76,
   "metadata": {},
   "outputs": [],
   "source": [
    "df_sc.rename(columns={'SUM_RMB': 'TRADE_VOLUMN'}, inplace=True)\n",
    "df_sc['TRADE_TIMES'] = 1\n",
    "df_goods_owner = df_sc.groupby(['TRADE_NAME','ORG_CODE', 'GOODS_OWNER'])['TRADE_TIMES'].count().reset_index()\n",
    "df_goods_owner_2 = df_sc.groupby(['TRADE_NAME', 'GOODS_OWNER','ORG_CODE'])['TRADE_VOLUMN'].sum().reset_index()\n",
    "df_goods_owner = df_goods_owner.merge(df_goods_owner_2, how='left', on=['TRADE_NAME','ORG_CODE', 'GOODS_OWNER'])\n",
    "df_goods_owner['TYPE'] = '货主'\n",
    "df_goods_owner.rename(columns={'GOODS_OWNER': 'SC_COMPANY'}, inplace=True)\n",
    "df_agent = df_sc.groupby(['TRADE_NAME','ORG_CODE', 'CUS_DECL_AGENT'])['TRADE_TIMES'].count().reset_index()\n",
    "df_agent_2 = df_sc.groupby(['TRADE_NAME','ORG_CODE', 'CUS_DECL_AGENT'])['TRADE_VOLUMN'].sum().reset_index()\n",
    "df_agent = df_agent.merge(df_agent_2, how='left', on=['TRADE_NAME','ORG_CODE', 'CUS_DECL_AGENT'])\n",
    "df_agent['TYPE'] = '报关行'\n",
    "df_agent.rename(columns={'CUS_DECL_AGENT': 'SC_COMPANY'}, inplace=True)\n",
    "df_oversea = df_sc.groupby(['TRADE_NAME', 'ORG_CODE','OVERSEAS_CONSIGNOR_NAME_EN'])['TRADE_TIMES'].count().reset_index()\n",
    "df_oversea_2 = df_sc.groupby(['TRADE_NAME','ORG_CODE', 'OVERSEAS_CONSIGNOR_NAME_EN'])['TRADE_VOLUMN'].sum().reset_index()\n",
    "df_oversea = df_oversea.merge(df_oversea_2, how='left', on=['TRADE_NAME', 'ORG_CODE','OVERSEAS_CONSIGNOR_NAME_EN'])\n",
    "df_oversea['TYPE'] = '境外收发货人'\n",
    "df_oversea.rename(columns={'OVERSEAS_CONSIGNOR_NAME_EN': 'SC_COMPANY'}, inplace=True)\n",
    "df_ship_opr = df_sc.groupby(['TRADE_NAME', 'ORG_CODE','OPR_NAME_CN'])['TRADE_TIMES'].count().reset_index()\n",
    "df_ship_opr_2 = df_sc.groupby(['TRADE_NAME','ORG_CODE', 'OPR_NAME_CN'])['TRADE_VOLUMN'].sum().reset_index()\n",
    "df_ship_opr = df_ship_opr.merge(df_ship_opr_2, how='left', on=['TRADE_NAME','ORG_CODE', 'OPR_NAME_CN'])\n",
    "df_ship_opr['TYPE'] = '船公司'\n",
    "df_ship_opr.rename(columns={'OPR_NAME_CN': 'SC_COMPANY'}, inplace=True)\n",
    "# 链接所有表CONCAT\n",
    "\n",
    "frames = [df_goods_owner, df_agent, df_oversea, df_ship_opr]\n",
    "df_supply_chain = pd.concat(frames, axis=0)"
   ]
  },
  {
   "cell_type": "code",
   "execution_count": 77,
   "metadata": {},
   "outputs": [
    {
     "data": {
      "text/html": [
       "<div>\n",
       "<style scoped>\n",
       "    .dataframe tbody tr th:only-of-type {\n",
       "        vertical-align: middle;\n",
       "    }\n",
       "\n",
       "    .dataframe tbody tr th {\n",
       "        vertical-align: top;\n",
       "    }\n",
       "\n",
       "    .dataframe thead th {\n",
       "        text-align: right;\n",
       "    }\n",
       "</style>\n",
       "<table border=\"1\" class=\"dataframe\">\n",
       "  <thead>\n",
       "    <tr style=\"text-align: right;\">\n",
       "      <th></th>\n",
       "      <th>TRADE_NAME</th>\n",
       "      <th>ORG_CODE</th>\n",
       "      <th>SC_COMPANY</th>\n",
       "      <th>TRADE_TIMES</th>\n",
       "      <th>TRADE_VOLUMN</th>\n",
       "      <th>TYPE</th>\n",
       "    </tr>\n",
       "  </thead>\n",
       "  <tbody>\n",
       "    <tr>\n",
       "      <th>0</th>\n",
       "      <td>上海上港保税仓储管理有限公司</td>\n",
       "      <td>91310115MA1K4AN53M</td>\n",
       "      <td>上海上港保税仓储管理有限公司</td>\n",
       "      <td>15</td>\n",
       "      <td>5.396253e+09</td>\n",
       "      <td>货主</td>\n",
       "    </tr>\n",
       "    <tr>\n",
       "      <th>1</th>\n",
       "      <td>上海东方嘉盛供应链管理有限公司</td>\n",
       "      <td>91310000677818840H</td>\n",
       "      <td>上海东方嘉盛供应链管理有限公司</td>\n",
       "      <td>110</td>\n",
       "      <td>2.889655e+08</td>\n",
       "      <td>货主</td>\n",
       "    </tr>\n",
       "    <tr>\n",
       "      <th>2</th>\n",
       "      <td>上海东泽供应链管理有限公司</td>\n",
       "      <td>91310000301610611H</td>\n",
       "      <td>上海东泽供应链管理有限公司</td>\n",
       "      <td>8</td>\n",
       "      <td>7.140588e+06</td>\n",
       "      <td>货主</td>\n",
       "    </tr>\n",
       "  </tbody>\n",
       "</table>\n",
       "</div>"
      ],
      "text/plain": [
       "        TRADE_NAME            ORG_CODE       SC_COMPANY  TRADE_TIMES  \\\n",
       "0   上海上港保税仓储管理有限公司  91310115MA1K4AN53M   上海上港保税仓储管理有限公司           15   \n",
       "1  上海东方嘉盛供应链管理有限公司  91310000677818840H  上海东方嘉盛供应链管理有限公司          110   \n",
       "2    上海东泽供应链管理有限公司  91310000301610611H    上海东泽供应链管理有限公司            8   \n",
       "\n",
       "   TRADE_VOLUMN TYPE  \n",
       "0  5.396253e+09   货主  \n",
       "1  2.889655e+08   货主  \n",
       "2  7.140588e+06   货主  "
      ]
     },
     "execution_count": 77,
     "metadata": {},
     "output_type": "execute_result"
    }
   ],
   "source": [
    "df_supply_chain.head(3)"
   ]
  },
  {
   "cell_type": "code",
   "execution_count": 78,
   "metadata": {},
   "outputs": [
    {
     "name": "stderr",
     "output_type": "stream",
     "text": [
      "2021-06-08 11:28:19.449 | INFO     | risk_models.config.read_config.read_func:read_oracle:82 - Read Table successfully! , Total read time spent 0.140s\n"
     ]
    },
    {
     "data": {
      "text/html": [
       "<div>\n",
       "<style scoped>\n",
       "    .dataframe tbody tr th:only-of-type {\n",
       "        vertical-align: middle;\n",
       "    }\n",
       "\n",
       "    .dataframe tbody tr th {\n",
       "        vertical-align: top;\n",
       "    }\n",
       "\n",
       "    .dataframe thead th {\n",
       "        text-align: right;\n",
       "    }\n",
       "</style>\n",
       "<table border=\"1\" class=\"dataframe\">\n",
       "  <thead>\n",
       "    <tr style=\"text-align: right;\">\n",
       "      <th></th>\n",
       "      <th>CORP_NAME</th>\n",
       "      <th>RATING</th>\n",
       "      <th>BVD_RATE</th>\n",
       "      <th>ORG_CODE</th>\n",
       "    </tr>\n",
       "  </thead>\n",
       "  <tbody>\n",
       "    <tr>\n",
       "      <th>0</th>\n",
       "      <td>ERVIN AMASTEEL淄博安茂福国际贸易有限公司销售</td>\n",
       "      <td>None</td>\n",
       "      <td>NaN</td>\n",
       "      <td>None</td>\n",
       "    </tr>\n",
       "    <tr>\n",
       "      <th>1</th>\n",
       "      <td>ESKULANAK GROUPE LAUAK</td>\n",
       "      <td>None</td>\n",
       "      <td>NaN</td>\n",
       "      <td>None</td>\n",
       "    </tr>\n",
       "    <tr>\n",
       "      <th>2</th>\n",
       "      <td>EUROCAE</td>\n",
       "      <td>None</td>\n",
       "      <td>NaN</td>\n",
       "      <td>None</td>\n",
       "    </tr>\n",
       "    <tr>\n",
       "      <th>3</th>\n",
       "      <td>EVAC AG</td>\n",
       "      <td>None</td>\n",
       "      <td>NaN</td>\n",
       "      <td>None</td>\n",
       "    </tr>\n",
       "    <tr>\n",
       "      <th>4</th>\n",
       "      <td>EXPLISEAT SAS</td>\n",
       "      <td>None</td>\n",
       "      <td>NaN</td>\n",
       "      <td>None</td>\n",
       "    </tr>\n",
       "    <tr>\n",
       "      <th>...</th>\n",
       "      <td>...</td>\n",
       "      <td>...</td>\n",
       "      <td>...</td>\n",
       "      <td>...</td>\n",
       "    </tr>\n",
       "    <tr>\n",
       "      <th>657</th>\n",
       "      <td>Toray Composite Materials America, Inc.</td>\n",
       "      <td>None</td>\n",
       "      <td>NaN</td>\n",
       "      <td>None</td>\n",
       "    </tr>\n",
       "    <tr>\n",
       "      <th>658</th>\n",
       "      <td>Transtar Metals</td>\n",
       "      <td>None</td>\n",
       "      <td>NaN</td>\n",
       "      <td>None</td>\n",
       "    </tr>\n",
       "    <tr>\n",
       "      <th>659</th>\n",
       "      <td>Triumph Thermal Systems</td>\n",
       "      <td>None</td>\n",
       "      <td>NaN</td>\n",
       "      <td>None</td>\n",
       "    </tr>\n",
       "    <tr>\n",
       "      <th>660</th>\n",
       "      <td>Tronair.Inc</td>\n",
       "      <td>None</td>\n",
       "      <td>NaN</td>\n",
       "      <td>None</td>\n",
       "    </tr>\n",
       "    <tr>\n",
       "      <th>661</th>\n",
       "      <td>Tstart Technology(Hong Kong) LTD</td>\n",
       "      <td>None</td>\n",
       "      <td>NaN</td>\n",
       "      <td>None</td>\n",
       "    </tr>\n",
       "  </tbody>\n",
       "</table>\n",
       "<p>662 rows × 4 columns</p>\n",
       "</div>"
      ],
      "text/plain": [
       "                                   CORP_NAME RATING  BVD_RATE ORG_CODE\n",
       "0              ERVIN AMASTEEL淄博安茂福国际贸易有限公司销售   None       NaN     None\n",
       "1                     ESKULANAK GROUPE LAUAK   None       NaN     None\n",
       "2                                    EUROCAE   None       NaN     None\n",
       "3                                    EVAC AG   None       NaN     None\n",
       "4                              EXPLISEAT SAS   None       NaN     None\n",
       "..                                       ...    ...       ...      ...\n",
       "657  Toray Composite Materials America, Inc.   None       NaN     None\n",
       "658                          Transtar Metals   None       NaN     None\n",
       "659                  Triumph Thermal Systems   None       NaN     None\n",
       "660                              Tronair.Inc   None       NaN     None\n",
       "661         Tstart Technology(Hong Kong) LTD   None       NaN     None\n",
       "\n",
       "[662 rows x 4 columns]"
      ]
     },
     "execution_count": 78,
     "metadata": {},
     "output_type": "execute_result"
    }
   ],
   "source": [
    "sql = f\"\"\"select bvd.corp_name,rating,bvd_rate,E1.UNI_SC_ID as ORG_CODE from {_name_MX_BVD} bvd left join {_name_DIM_FTZ_CORP} E1 on bvd.corp_name = E1.corp_name\"\"\"\n",
    "df_bvd = Read_Oracle().read_oracle(sql=sql, database='dbods')\n",
    "df_bvd"
   ]
  },
  {
   "cell_type": "code",
   "execution_count": 79,
   "metadata": {},
   "outputs": [
    {
     "name": "stderr",
     "output_type": "stream",
     "text": [
      "2021-06-08 11:28:20.218 | INFO     | risk_models.config.read_config.read_func:read_oracle:82 - Read Table successfully! , Total read time spent 0.121s\n"
     ]
    }
   ],
   "source": [
    "sql = f\"\"\"select corp_name,rating,bvd_rate from {_name_MX_BVD}\"\"\"\n",
    "df_bvd = Read_Oracle().read_oracle(sql=sql, database='dbods')\n",
    "df_bvd['TRADE_NAME'] = '上海飞机制造有限公司'\n",
    "df_bvd['ORG_CODE'] = '91310000132612172J'\n",
    "df = pd.merge(df_supply_chain, df_bvd, left_on=['TRADE_NAME', 'SC_COMPANY','ORG_CODE'],\n",
    "              right_on=['TRADE_NAME', 'CORP_NAME','ORG_CODE'], how='outer')\n",
    "df['SC_COMPANY'] = df['SC_COMPANY'].fillna('')\n",
    "df.loc[df['SC_COMPANY'] == '', 'SC_COMPANY'] = df.loc[df['SC_COMPANY'] == '', 'CORP_NAME']\n",
    "df.loc[df['TYPE'].isna(), 'TRADE_TIMES'] = 0\n",
    "df.loc[df['TYPE'].isna(), 'TYPE'] = '境外收发货人'\n",
    "df.drop(['CORP_NAME'], axis=1, inplace=True)\n",
    "# df.fillna(0, inplace=True)"
   ]
  },
  {
   "cell_type": "code",
   "execution_count": 80,
   "metadata": {},
   "outputs": [
    {
     "data": {
      "text/html": [
       "<div>\n",
       "<style scoped>\n",
       "    .dataframe tbody tr th:only-of-type {\n",
       "        vertical-align: middle;\n",
       "    }\n",
       "\n",
       "    .dataframe tbody tr th {\n",
       "        vertical-align: top;\n",
       "    }\n",
       "\n",
       "    .dataframe thead th {\n",
       "        text-align: right;\n",
       "    }\n",
       "</style>\n",
       "<table border=\"1\" class=\"dataframe\">\n",
       "  <thead>\n",
       "    <tr style=\"text-align: right;\">\n",
       "      <th></th>\n",
       "      <th>TRADE_NAME</th>\n",
       "      <th>ORG_CODE</th>\n",
       "      <th>SC_COMPANY</th>\n",
       "      <th>TRADE_TIMES</th>\n",
       "      <th>TRADE_VOLUMN</th>\n",
       "      <th>TYPE</th>\n",
       "      <th>RATING</th>\n",
       "      <th>BVD_RATE</th>\n",
       "    </tr>\n",
       "  </thead>\n",
       "  <tbody>\n",
       "    <tr>\n",
       "      <th>0</th>\n",
       "      <td>上海上港保税仓储管理有限公司</td>\n",
       "      <td>91310115MA1K4AN53M</td>\n",
       "      <td>上海上港保税仓储管理有限公司</td>\n",
       "      <td>15.0</td>\n",
       "      <td>5.396253e+09</td>\n",
       "      <td>货主</td>\n",
       "      <td>NaN</td>\n",
       "      <td>NaN</td>\n",
       "    </tr>\n",
       "    <tr>\n",
       "      <th>1</th>\n",
       "      <td>上海东方嘉盛供应链管理有限公司</td>\n",
       "      <td>91310000677818840H</td>\n",
       "      <td>上海东方嘉盛供应链管理有限公司</td>\n",
       "      <td>110.0</td>\n",
       "      <td>2.889655e+08</td>\n",
       "      <td>货主</td>\n",
       "      <td>NaN</td>\n",
       "      <td>NaN</td>\n",
       "    </tr>\n",
       "    <tr>\n",
       "      <th>2</th>\n",
       "      <td>上海东泽供应链管理有限公司</td>\n",
       "      <td>91310000301610611H</td>\n",
       "      <td>上海东泽供应链管理有限公司</td>\n",
       "      <td>8.0</td>\n",
       "      <td>7.140588e+06</td>\n",
       "      <td>货主</td>\n",
       "      <td>NaN</td>\n",
       "      <td>NaN</td>\n",
       "    </tr>\n",
       "    <tr>\n",
       "      <th>3</th>\n",
       "      <td>上海东泽供应链管理有限公司</td>\n",
       "      <td>91310000301610611H</td>\n",
       "      <td>中茄实业（上海）有限公司</td>\n",
       "      <td>1.0</td>\n",
       "      <td>2.976282e+05</td>\n",
       "      <td>货主</td>\n",
       "      <td>NaN</td>\n",
       "      <td>NaN</td>\n",
       "    </tr>\n",
       "    <tr>\n",
       "      <th>4</th>\n",
       "      <td>上海中储临港物流有限公司</td>\n",
       "      <td>91310115795650129K</td>\n",
       "      <td>上海中储临港物流有限公司</td>\n",
       "      <td>25.0</td>\n",
       "      <td>4.299722e+09</td>\n",
       "      <td>货主</td>\n",
       "      <td>NaN</td>\n",
       "      <td>NaN</td>\n",
       "    </tr>\n",
       "    <tr>\n",
       "      <th>...</th>\n",
       "      <td>...</td>\n",
       "      <td>...</td>\n",
       "      <td>...</td>\n",
       "      <td>...</td>\n",
       "      <td>...</td>\n",
       "      <td>...</td>\n",
       "      <td>...</td>\n",
       "      <td>...</td>\n",
       "    </tr>\n",
       "    <tr>\n",
       "      <th>3127</th>\n",
       "      <td>上海飞机制造有限公司</td>\n",
       "      <td>91310000132612172J</td>\n",
       "      <td>Toray Composite Materials America, Inc.</td>\n",
       "      <td>0.0</td>\n",
       "      <td>NaN</td>\n",
       "      <td>境外收发货人</td>\n",
       "      <td>None</td>\n",
       "      <td>NaN</td>\n",
       "    </tr>\n",
       "    <tr>\n",
       "      <th>3128</th>\n",
       "      <td>上海飞机制造有限公司</td>\n",
       "      <td>91310000132612172J</td>\n",
       "      <td>Transtar Metals</td>\n",
       "      <td>0.0</td>\n",
       "      <td>NaN</td>\n",
       "      <td>境外收发货人</td>\n",
       "      <td>None</td>\n",
       "      <td>NaN</td>\n",
       "    </tr>\n",
       "    <tr>\n",
       "      <th>3129</th>\n",
       "      <td>上海飞机制造有限公司</td>\n",
       "      <td>91310000132612172J</td>\n",
       "      <td>Triumph Thermal Systems</td>\n",
       "      <td>0.0</td>\n",
       "      <td>NaN</td>\n",
       "      <td>境外收发货人</td>\n",
       "      <td>None</td>\n",
       "      <td>NaN</td>\n",
       "    </tr>\n",
       "    <tr>\n",
       "      <th>3130</th>\n",
       "      <td>上海飞机制造有限公司</td>\n",
       "      <td>91310000132612172J</td>\n",
       "      <td>Tronair.Inc</td>\n",
       "      <td>0.0</td>\n",
       "      <td>NaN</td>\n",
       "      <td>境外收发货人</td>\n",
       "      <td>None</td>\n",
       "      <td>NaN</td>\n",
       "    </tr>\n",
       "    <tr>\n",
       "      <th>3131</th>\n",
       "      <td>上海飞机制造有限公司</td>\n",
       "      <td>91310000132612172J</td>\n",
       "      <td>Tstart Technology(Hong Kong) LTD</td>\n",
       "      <td>0.0</td>\n",
       "      <td>NaN</td>\n",
       "      <td>境外收发货人</td>\n",
       "      <td>None</td>\n",
       "      <td>NaN</td>\n",
       "    </tr>\n",
       "  </tbody>\n",
       "</table>\n",
       "<p>3132 rows × 8 columns</p>\n",
       "</div>"
      ],
      "text/plain": [
       "           TRADE_NAME            ORG_CODE  \\\n",
       "0      上海上港保税仓储管理有限公司  91310115MA1K4AN53M   \n",
       "1     上海东方嘉盛供应链管理有限公司  91310000677818840H   \n",
       "2       上海东泽供应链管理有限公司  91310000301610611H   \n",
       "3       上海东泽供应链管理有限公司  91310000301610611H   \n",
       "4        上海中储临港物流有限公司  91310115795650129K   \n",
       "...               ...                 ...   \n",
       "3127       上海飞机制造有限公司  91310000132612172J   \n",
       "3128       上海飞机制造有限公司  91310000132612172J   \n",
       "3129       上海飞机制造有限公司  91310000132612172J   \n",
       "3130       上海飞机制造有限公司  91310000132612172J   \n",
       "3131       上海飞机制造有限公司  91310000132612172J   \n",
       "\n",
       "                                   SC_COMPANY  TRADE_TIMES  TRADE_VOLUMN  \\\n",
       "0                              上海上港保税仓储管理有限公司         15.0  5.396253e+09   \n",
       "1                             上海东方嘉盛供应链管理有限公司        110.0  2.889655e+08   \n",
       "2                               上海东泽供应链管理有限公司          8.0  7.140588e+06   \n",
       "3                                中茄实业（上海）有限公司          1.0  2.976282e+05   \n",
       "4                                上海中储临港物流有限公司         25.0  4.299722e+09   \n",
       "...                                       ...          ...           ...   \n",
       "3127  Toray Composite Materials America, Inc.          0.0           NaN   \n",
       "3128                          Transtar Metals          0.0           NaN   \n",
       "3129                  Triumph Thermal Systems          0.0           NaN   \n",
       "3130                              Tronair.Inc          0.0           NaN   \n",
       "3131         Tstart Technology(Hong Kong) LTD          0.0           NaN   \n",
       "\n",
       "        TYPE RATING  BVD_RATE  \n",
       "0         货主    NaN       NaN  \n",
       "1         货主    NaN       NaN  \n",
       "2         货主    NaN       NaN  \n",
       "3         货主    NaN       NaN  \n",
       "4         货主    NaN       NaN  \n",
       "...      ...    ...       ...  \n",
       "3127  境外收发货人   None       NaN  \n",
       "3128  境外收发货人   None       NaN  \n",
       "3129  境外收发货人   None       NaN  \n",
       "3130  境外收发货人   None       NaN  \n",
       "3131  境外收发货人   None       NaN  \n",
       "\n",
       "[3132 rows x 8 columns]"
      ]
     },
     "execution_count": 80,
     "metadata": {},
     "output_type": "execute_result"
    }
   ],
   "source": [
    "df"
   ]
  },
  {
   "cell_type": "markdown",
   "metadata": {},
   "source": [
    "# model"
   ]
  },
  {
   "cell_type": "code",
   "execution_count": 111,
   "metadata": {},
   "outputs": [
    {
     "name": "stderr",
     "output_type": "stream",
     "text": [
      "2021-06-08 12:28:57.538 | INFO     | risk_models.config.read_config.read_func:read_oracle:82 - Read Table successfully! , Total read time spent 0.184s\n"
     ]
    }
   ],
   "source": [
    "sql = '''select * from {} where iscurrent =1 '''.format('BD_RISK_DETAIL_SUPPLYCHAIN_SC1')\n",
    "df_sc = Read_Oracle().read_oracle(sql=sql, database='dbods')"
   ]
  },
  {
   "cell_type": "code",
   "execution_count": 114,
   "metadata": {},
   "outputs": [
    {
     "name": "stdout",
     "output_type": "stream",
     "text": [
      "<class 'pandas.core.frame.DataFrame'>\n",
      "RangeIndex: 3132 entries, 0 to 3131\n",
      "Data columns (total 15 columns):\n",
      " #   Column              Non-Null Count  Dtype         \n",
      "---  ------              --------------  -----         \n",
      " 0   ID                  3132 non-null   int64         \n",
      " 1   TRADE_NAME          3132 non-null   object        \n",
      " 2   ORG_CODE            3132 non-null   object        \n",
      " 3   SC_COMPANY          3132 non-null   object        \n",
      " 4   TRADE_TIMES         3132 non-null   int64         \n",
      " 5   TRADE_VOLUMN        3132 non-null   float64       \n",
      " 6   TYPE                3132 non-null   object        \n",
      " 7   RATING              3132 non-null   object        \n",
      " 8   BVD_RATE            3132 non-null   float64       \n",
      " 9   STAFF_NUM           3132 non-null   float64       \n",
      " 10  SHAREHOLDER_INCOME  3132 non-null   float64       \n",
      " 11  INCOME              3132 non-null   float64       \n",
      " 12  CHECK_TIME          3132 non-null   datetime64[ns]\n",
      " 13  ISCURRENT           3132 non-null   int64         \n",
      " 14  LASTUPDATE          3132 non-null   datetime64[ns]\n",
      "dtypes: datetime64[ns](2), float64(5), int64(3), object(5)\n",
      "memory usage: 367.2+ KB\n"
     ]
    }
   ],
   "source": [
    "df_sc.info()"
   ]
  },
  {
   "cell_type": "code",
   "execution_count": 116,
   "metadata": {},
   "outputs": [],
   "source": [
    "init_score = 80\n",
    "# 后期尝试加入k-means进行聚类，目前先人工打标签\n",
    "trade_times_bin = [0,1, 3, 10, 50, 999999999999]\n",
    "trade_times_score = {'[1, 3)': -3, '[3, 10)': -2, '[10, 50)': 1, '[50, 999999999999)': 5,'[0,1)':0}\n",
    "trade_volumn_bin = [0,1, 100000, 1000000, 10000000, 999999999999]\n",
    "trade_volumn_score = {'[1, 100000)': -3, '[100000, 1000000)': -2, '[1000000, 10000000)': 1,\n",
    "                          '[10000000, 999999999999)': 5,'[0,1)':0}\n",
    "staff_bin = [0,1, 100, 500, 1000, 999999999999]\n",
    "staff_score = {'[1, 100)': -3, '[100, 500)': -2, '[500, 1000)': 1, '[1000, 999999999999)': 5,'[0,1)':0}\n",
    "income_bin = [0,1, 100000, 1000000, 10000000, 999999999999]\n",
    "income_score = {'[1, 100000)': -5, '[100000, 1000000)': -2, '[1000000, 10000000)': 1,\n",
    "                          '[10000000, 999999999999)': 5,'[0,1)':0}\n",
    "sincome_bin = [0, 1,100000, 1000000, 10000000, 999999999999]\n",
    "sincome_score = {'[1, 100000)': -5, '[100000, 1000000)': -2, '[1000000, 10000000)': 1,\n",
    "                          '[10000000, 999999999999)': 5,'[0,1)':0}\n",
    "rating_score = {'AAA': 10, 'AA': 9, 'A': 8, 'BBB': 7, 'BB': 6, 'B': 5, '0': 0}\n",
    "bvd_rate = {'1.0': 10, '2.0': 8, '3.0': 5, '4.0': 0, '5.0': -1, '0.0': 0}"
   ]
  },
  {
   "cell_type": "code",
   "execution_count": 117,
   "metadata": {},
   "outputs": [],
   "source": [
    "df_sc['RATING'] = df_sc['RATING'].map(str)\n",
    "df_sc['RATING'] = df_sc['RATING'].map(rating_score)\n",
    "\n",
    "df_sc['BVD_RATE'] = df_sc['BVD_RATE'].map(str)\n",
    "df_sc['BVD_RATE'] = df_sc['BVD_RATE'].map(bvd_rate)\n",
    "\n",
    "df_sc['TRADE_TIMES'] = df_sc['TRADE_TIMES'].map(float)\n",
    "df_sc['TRADE_TIMES'] = pd.cut(df_sc['TRADE_TIMES'], bins=trade_times_bin, right=False)\n",
    "df_sc['TRADE_TIMES'] = df_sc['TRADE_TIMES'].map(str).map(trade_times_score)\n",
    "\n",
    "df_sc['TRADE_VOLUMN'] = df_sc['TRADE_VOLUMN'].map(float)\n",
    "df_sc['TRADE_VOLUMN'] = pd.cut(df_sc['TRADE_VOLUMN'], bins=trade_volumn_bin, right=False)\n",
    "df_sc['TRADE_VOLUMN'] = df_sc['TRADE_VOLUMN'].map(str).map(trade_volumn_score)\n",
    "\n",
    "df_sc['STAFF_NUM'] = df_sc['STAFF_NUM'].map(float)\n",
    "df_sc['STAFF_NUM'] = pd.cut(df_sc['STAFF_NUM'], bins=staff_bin, right=False)\n",
    "df_sc['STAFF_NUM'] = df_sc['STAFF_NUM'].map(str).map(staff_score)\n",
    "\n",
    "df_sc['INCOME'] = df_sc['INCOME'].map(float)\n",
    "df_sc['INCOME'] = pd.cut(df_sc['INCOME'], bins=income_bin, right=False)\n",
    "df_sc['INCOME'] = df_sc['INCOME'].map(str).map(income_score)\n",
    "\n",
    "df_sc['SHAREHOLDER_INCOME'] = df_sc['SHAREHOLDER_INCOME'].map(float)\n",
    "df_sc['SHAREHOLDER_INCOME'] = pd.cut(df_sc['SHAREHOLDER_INCOME'], bins=sincome_bin, right=False)\n",
    "df_sc['SHAREHOLDER_INCOME'] = df_sc['SHAREHOLDER_INCOME'].map(str).map(sincome_score)"
   ]
  },
  {
   "cell_type": "code",
   "execution_count": 140,
   "metadata": {},
   "outputs": [],
   "source": [
    "df_sc = df_sc.fillna(0)"
   ]
  },
  {
   "cell_type": "code",
   "execution_count": 141,
   "metadata": {},
   "outputs": [],
   "source": [
    "df_sc['SC_TOTAL_SCORE'] = df_sc.apply(\n",
    "            lambda x: x['RATING'] + x['BVD_RATE'] + x['TRADE_TIMES'] + init_score + x['TRADE_TIMES'] + x['TRADE_VOLUMN'] + x['STAFF_NUM'] + x['INCOME'] + x['SHAREHOLDER_INCOME'], axis=1)"
   ]
  },
  {
   "cell_type": "code",
   "execution_count": 142,
   "metadata": {},
   "outputs": [
    {
     "data": {
      "text/plain": [
       "array([ 87.,  71.,  81.,  77.,  95.,  72.,  75.,  79.,  83.,  74.,  92.,\n",
       "        86.,  80.,  89.,  94.,  78., 100.,  91.,  85.,  98.,  88.,  96.,\n",
       "        97.,  90.])"
      ]
     },
     "execution_count": 142,
     "metadata": {},
     "output_type": "execute_result"
    }
   ],
   "source": [
    "df_sc['SC_TOTAL_SCORE'].unique()"
   ]
  },
  {
   "cell_type": "code",
   "execution_count": 143,
   "metadata": {},
   "outputs": [
    {
     "data": {
      "text/plain": [
       "count    3132.000000\n",
       "mean       76.870051\n",
       "std         4.507494\n",
       "min        71.000000\n",
       "25%        72.000000\n",
       "50%        77.000000\n",
       "75%        80.000000\n",
       "max       100.000000\n",
       "Name: SC_TOTAL_SCORE, dtype: float64"
      ]
     },
     "execution_count": 143,
     "metadata": {},
     "output_type": "execute_result"
    }
   ],
   "source": [
    "df_sc['SC_TOTAL_SCORE'].describe()"
   ]
  },
  {
   "cell_type": "markdown",
   "metadata": {},
   "source": [
    "# 预警"
   ]
  },
  {
   "cell_type": "code",
   "execution_count": 65,
   "metadata": {},
   "outputs": [],
   "source": [
    "\n",
    "trade_times_score = {'[0, 3)': -3, '[3, 10)': -2, '[10, 50)': 1, '[50, 999999999999)': 5}\n",
    "trade_volumn_score = {'[0, 100000)': -3, '[100000, 1000000)': -2, '[1000000, 10000000)': 1,\n",
    "                          '[10000000, 999999999999)': 5}\n",
    "staff_score = {'[0, 100)': -3, '[100, 500)': -2, '[500, 1000)': 1, '[1000, 999999999999)': 5}\n",
    "income_score = {'[0, 100000)': -5, '[100000, 1000000)': -2, '[1000000, 10000000)': 1,\n",
    "                          '[10000000, 999999999999)': 5}\n",
    "sincome_score = {'[0, 100000)': -5, '[100000, 1000000)': -2, '[1000000, 10000000)': 1,\n",
    "                          '[10000000, 999999999999)': 5}\n",
    "rating_score = {'AAA': 10, 'AA': 9, 'A': 8, 'BBB': 7, 'BB': 6, 'B': 5, '0': 0}\n",
    "bvd_rate = {'1.0': 10, '2.0': 8, '3.0': 5, '4.0': 0, '5.0': -1, '0.0': 0}"
   ]
  },
  {
   "cell_type": "code",
   "execution_count": 123,
   "metadata": {},
   "outputs": [
    {
     "name": "stderr",
     "output_type": "stream",
     "text": [
      "2021-06-08 12:49:46.942 | INFO     | risk_models.config.read_config.read_func:read_oracle:82 - Read Table successfully! , Total read time spent 2.642s\n"
     ]
    }
   ],
   "source": [
    "sql = '''select * from {} where iscurrent = 1 '''.format('BD_RISK_RESULT_SUPPLYCHAIN_SC1')\n",
    "df_result = Read_Oracle().read_oracle(sql=sql, database='dbods')"
   ]
  },
  {
   "cell_type": "code",
   "execution_count": 13,
   "metadata": {},
   "outputs": [
    {
     "data": {
      "text/plain": [
       "Index(['ID', 'TRADE_NAME', 'ORG_CODE', 'SC_COMPANY', 'TRADE_TIMES',\n",
       "       'TRADE_VOLUMN', 'TYPE', 'RATING', 'BVD_RATE', 'STAFF_NUM',\n",
       "       'SHAREHOLDER_INCOME', 'INCOME', 'SC_TOTAL_SCORE', 'CHECK_TIME',\n",
       "       'ISCURRENT', 'LASTUPDATE'],\n",
       "      dtype='object')"
      ]
     },
     "execution_count": 13,
     "metadata": {},
     "output_type": "execute_result"
    }
   ],
   "source": [
    "df_result.columns"
   ]
  },
  {
   "cell_type": "code",
   "execution_count": 151,
   "metadata": {},
   "outputs": [],
   "source": [
    "json_param=[\n",
    "    {'word':'发现{}起交易次数偏低事件','col':'TRADE_TIMES','score':-5},\n",
    "    {'word':'发现{}起贸易金额偏低事件','col':'TRADE_VOLUMN','score':-5},\n",
    "    {'word':'发现{}起企业员工人数偏低事件','col':'TRADE_VOLUMN','score':-3},\n",
    "    {'word':'发现{}起经营金额偏低事件','col':'TRADE_VOLUMN','score':-5},\n",
    "    {'word':'发现{}起股东收入金额偏低事件','col':'TRADE_VOLUMN','score':-5},\n",
    "    {'word':'发现{}起BVD评级异常事件','col':'TRADE_VOLUMN','score':-1},\n",
    "    {'word':'发现{}起BVD破产评级异常事件','col':'TRADE_VOLUMN','score':5},\n",
    "]"
   ]
  },
  {
   "cell_type": "code",
   "execution_count": 152,
   "metadata": {},
   "outputs": [],
   "source": [
    "def gen_alarm(i, param):\n",
    "    word = param['word']\n",
    "    score = param['score']\n",
    "    col = param['col']\n",
    "    try:\n",
    "        num = df_result[(df_result[str(col)]==score) &(df_result['ORG_CODE'] == str(i)) ].groupby(['ORG_CODE'])['ID'].count().values[0]\n",
    "        word = word.format(num)\n",
    "        return word\n",
    "    except Exception as e:\n",
    "        pass"
   ]
  },
  {
   "cell_type": "code",
   "execution_count": 153,
   "metadata": {},
   "outputs": [],
   "source": [
    "def get(i):\n",
    "    alarm_reason=[]\n",
    "    for param in json_param:\n",
    "        alarm_reason.append(gen_alarm(i, param))\n",
    "    return alarm_reason"
   ]
  },
  {
   "cell_type": "code",
   "execution_count": 155,
   "metadata": {},
   "outputs": [],
   "source": [
    "res=[]\n",
    "for i in df_result['ORG_CODE'].unique():\n",
    "    for j in get(i):\n",
    "        if j is not None:\n",
    "            try:\n",
    "                temp={}\n",
    "                temp['CHECK_TIME'] = datetime.datetime.now().strftime(\"%Y-%m-%d %H:%M:%S\")\n",
    "                temp['ORG_CODE'] = i\n",
    "                temp['MODEL_CODE'] = 'SUPPLYCHAIN'\n",
    "                temp['CHILD_MODEL_CODE'] = 'SC1'\n",
    "                temp['ALARM_REASON'] = j\n",
    "                temp['ALARM_NUMBER'] = int(re.findall('发现(.*?)起.*', j)[0])\n",
    "                res.append(temp)\n",
    "            except Exception as e:\n",
    "                print(e)"
   ]
  },
  {
   "cell_type": "code",
   "execution_count": 159,
   "metadata": {},
   "outputs": [],
   "source": [
    "final = pd.DataFrame(res)\n"
   ]
  },
  {
   "cell_type": "code",
   "execution_count": 157,
   "metadata": {},
   "outputs": [
    {
     "data": {
      "text/html": [
       "<div>\n",
       "<style scoped>\n",
       "    .dataframe tbody tr th:only-of-type {\n",
       "        vertical-align: middle;\n",
       "    }\n",
       "\n",
       "    .dataframe tbody tr th {\n",
       "        vertical-align: top;\n",
       "    }\n",
       "\n",
       "    .dataframe thead th {\n",
       "        text-align: right;\n",
       "    }\n",
       "</style>\n",
       "<table border=\"1\" class=\"dataframe\">\n",
       "  <thead>\n",
       "    <tr style=\"text-align: right;\">\n",
       "      <th></th>\n",
       "      <th>CHECK_TIME</th>\n",
       "      <th>ORG_CODE</th>\n",
       "      <th>MODEL_CODE</th>\n",
       "      <th>CHILD_MODEL_CODE</th>\n",
       "      <th>ALARM_REASON</th>\n",
       "      <th>ALARM_NUMBER</th>\n",
       "    </tr>\n",
       "  </thead>\n",
       "  <tbody>\n",
       "    <tr>\n",
       "      <th>73</th>\n",
       "      <td>2021-06-08 13:31:15</td>\n",
       "      <td>91310000132612172J</td>\n",
       "      <td>SUPPLYCHAIN</td>\n",
       "      <td>SC1</td>\n",
       "      <td>发现10起交易次数偏低事件</td>\n",
       "      <td>10</td>\n",
       "    </tr>\n",
       "    <tr>\n",
       "      <th>74</th>\n",
       "      <td>2021-06-08 13:31:15</td>\n",
       "      <td>91310000132612172J</td>\n",
       "      <td>SUPPLYCHAIN</td>\n",
       "      <td>SC1</td>\n",
       "      <td>发现4起BVD破产评级异常事件</td>\n",
       "      <td>4</td>\n",
       "    </tr>\n",
       "  </tbody>\n",
       "</table>\n",
       "</div>"
      ],
      "text/plain": [
       "             CHECK_TIME            ORG_CODE   MODEL_CODE CHILD_MODEL_CODE  \\\n",
       "73  2021-06-08 13:31:15  91310000132612172J  SUPPLYCHAIN              SC1   \n",
       "74  2021-06-08 13:31:15  91310000132612172J  SUPPLYCHAIN              SC1   \n",
       "\n",
       "       ALARM_REASON  ALARM_NUMBER  \n",
       "73    发现10起交易次数偏低事件            10  \n",
       "74  发现4起BVD破产评级异常事件             4  "
      ]
     },
     "execution_count": 157,
     "metadata": {},
     "output_type": "execute_result"
    }
   ],
   "source": [
    "final[final['ORG_CODE']=='91310000132612172J']"
   ]
  },
  {
   "cell_type": "code",
   "execution_count": 158,
   "metadata": {},
   "outputs": [
    {
     "data": {
      "text/html": [
       "<div>\n",
       "<style scoped>\n",
       "    .dataframe tbody tr th:only-of-type {\n",
       "        vertical-align: middle;\n",
       "    }\n",
       "\n",
       "    .dataframe tbody tr th {\n",
       "        vertical-align: top;\n",
       "    }\n",
       "\n",
       "    .dataframe thead th {\n",
       "        text-align: right;\n",
       "    }\n",
       "</style>\n",
       "<table border=\"1\" class=\"dataframe\">\n",
       "  <thead>\n",
       "    <tr style=\"text-align: right;\">\n",
       "      <th></th>\n",
       "      <th>ID</th>\n",
       "      <th>TRADE_NAME</th>\n",
       "      <th>ORG_CODE</th>\n",
       "      <th>SC_COMPANY</th>\n",
       "      <th>TRADE_TIMES</th>\n",
       "      <th>TRADE_VOLUMN</th>\n",
       "      <th>TYPE</th>\n",
       "      <th>RATING</th>\n",
       "      <th>BVD_RATE</th>\n",
       "      <th>STAFF_NUM</th>\n",
       "      <th>SHAREHOLDER_INCOME</th>\n",
       "      <th>INCOME</th>\n",
       "      <th>SC_TOTAL_SCORE</th>\n",
       "      <th>CHECK_TIME</th>\n",
       "      <th>ISCURRENT</th>\n",
       "      <th>LASTUPDATE</th>\n",
       "    </tr>\n",
       "  </thead>\n",
       "  <tbody>\n",
       "    <tr>\n",
       "      <th>165</th>\n",
       "      <td>10844</td>\n",
       "      <td>上海飞机制造有限公司</td>\n",
       "      <td>91310000132612172J</td>\n",
       "      <td>ALERIS ROLLED PRODUCTS GERMANY GMBH</td>\n",
       "      <td>-5.0</td>\n",
       "      <td>-2.0</td>\n",
       "      <td>境外收发货人</td>\n",
       "      <td>7.0</td>\n",
       "      <td>10.0</td>\n",
       "      <td>5.0</td>\n",
       "      <td>-1.0</td>\n",
       "      <td>0.0</td>\n",
       "      <td>100.0</td>\n",
       "      <td>2021-06-08 11:33:13</td>\n",
       "      <td>1</td>\n",
       "      <td>2021-06-08 12:49:37</td>\n",
       "    </tr>\n",
       "    <tr>\n",
       "      <th>166</th>\n",
       "      <td>10845</td>\n",
       "      <td>上海飞机制造有限公司</td>\n",
       "      <td>91310000132612172J</td>\n",
       "      <td>AMAG ROLLING GMBH</td>\n",
       "      <td>-5.0</td>\n",
       "      <td>-2.0</td>\n",
       "      <td>境外收发货人</td>\n",
       "      <td>6.0</td>\n",
       "      <td>10.0</td>\n",
       "      <td>5.0</td>\n",
       "      <td>-1.0</td>\n",
       "      <td>-2.5</td>\n",
       "      <td>100.0</td>\n",
       "      <td>2021-06-08 11:33:13</td>\n",
       "      <td>1</td>\n",
       "      <td>2021-06-08 12:49:37</td>\n",
       "    </tr>\n",
       "    <tr>\n",
       "      <th>167</th>\n",
       "      <td>10846</td>\n",
       "      <td>上海飞机制造有限公司</td>\n",
       "      <td>91310000132612172J</td>\n",
       "      <td>CONSTELLIUM ISSOIRE</td>\n",
       "      <td>-5.0</td>\n",
       "      <td>3.0</td>\n",
       "      <td>境外收发货人</td>\n",
       "      <td>7.0</td>\n",
       "      <td>-1.0</td>\n",
       "      <td>5.0</td>\n",
       "      <td>-1.0</td>\n",
       "      <td>-2.5</td>\n",
       "      <td>100.0</td>\n",
       "      <td>2021-06-08 11:33:13</td>\n",
       "      <td>1</td>\n",
       "      <td>2021-06-08 12:49:37</td>\n",
       "    </tr>\n",
       "    <tr>\n",
       "      <th>168</th>\n",
       "      <td>10847</td>\n",
       "      <td>上海飞机制造有限公司</td>\n",
       "      <td>91310000132612172J</td>\n",
       "      <td>CONSTELLIUM ROLLED PRODUCTS RAVENSWOOD LLC</td>\n",
       "      <td>-5.0</td>\n",
       "      <td>-2.0</td>\n",
       "      <td>境外收发货人</td>\n",
       "      <td>0.0</td>\n",
       "      <td>0.0</td>\n",
       "      <td>0.0</td>\n",
       "      <td>0.0</td>\n",
       "      <td>0.0</td>\n",
       "      <td>88.0</td>\n",
       "      <td>2021-06-08 11:33:13</td>\n",
       "      <td>1</td>\n",
       "      <td>2021-06-08 12:49:37</td>\n",
       "    </tr>\n",
       "    <tr>\n",
       "      <th>169</th>\n",
       "      <td>10848</td>\n",
       "      <td>上海飞机制造有限公司</td>\n",
       "      <td>91310000132612172J</td>\n",
       "      <td>CYTEC ENGINEERED MATERIALS INC.</td>\n",
       "      <td>-5.0</td>\n",
       "      <td>3.0</td>\n",
       "      <td>境外收发货人</td>\n",
       "      <td>7.0</td>\n",
       "      <td>0.0</td>\n",
       "      <td>-2.0</td>\n",
       "      <td>0.0</td>\n",
       "      <td>0.0</td>\n",
       "      <td>98.0</td>\n",
       "      <td>2021-06-08 11:33:13</td>\n",
       "      <td>1</td>\n",
       "      <td>2021-06-08 12:49:37</td>\n",
       "    </tr>\n",
       "    <tr>\n",
       "      <th>...</th>\n",
       "      <td>...</td>\n",
       "      <td>...</td>\n",
       "      <td>...</td>\n",
       "      <td>...</td>\n",
       "      <td>...</td>\n",
       "      <td>...</td>\n",
       "      <td>...</td>\n",
       "      <td>...</td>\n",
       "      <td>...</td>\n",
       "      <td>...</td>\n",
       "      <td>...</td>\n",
       "      <td>...</td>\n",
       "      <td>...</td>\n",
       "      <td>...</td>\n",
       "      <td>...</td>\n",
       "      <td>...</td>\n",
       "    </tr>\n",
       "    <tr>\n",
       "      <th>3127</th>\n",
       "      <td>12523</td>\n",
       "      <td>上海飞机制造有限公司</td>\n",
       "      <td>91310000132612172J</td>\n",
       "      <td>Goodrich test</td>\n",
       "      <td>0.0</td>\n",
       "      <td>0.0</td>\n",
       "      <td>境外收发货人</td>\n",
       "      <td>0.0</td>\n",
       "      <td>0.0</td>\n",
       "      <td>0.0</td>\n",
       "      <td>0.0</td>\n",
       "      <td>0.0</td>\n",
       "      <td>100.0</td>\n",
       "      <td>2021-06-08 11:33:13</td>\n",
       "      <td>1</td>\n",
       "      <td>2021-06-08 12:49:37</td>\n",
       "    </tr>\n",
       "    <tr>\n",
       "      <th>3128</th>\n",
       "      <td>12524</td>\n",
       "      <td>上海飞机制造有限公司</td>\n",
       "      <td>91310000132612172J</td>\n",
       "      <td>Goodyear Singapore Tyres</td>\n",
       "      <td>0.0</td>\n",
       "      <td>0.0</td>\n",
       "      <td>境外收发货人</td>\n",
       "      <td>0.0</td>\n",
       "      <td>0.0</td>\n",
       "      <td>0.0</td>\n",
       "      <td>0.0</td>\n",
       "      <td>0.0</td>\n",
       "      <td>100.0</td>\n",
       "      <td>2021-06-08 11:33:13</td>\n",
       "      <td>1</td>\n",
       "      <td>2021-06-08 12:49:37</td>\n",
       "    </tr>\n",
       "    <tr>\n",
       "      <th>3129</th>\n",
       "      <td>12525</td>\n",
       "      <td>上海飞机制造有限公司</td>\n",
       "      <td>91310000132612172J</td>\n",
       "      <td>HANG YUE TONG COMPANY LIMITED</td>\n",
       "      <td>0.0</td>\n",
       "      <td>0.0</td>\n",
       "      <td>境外收发货人</td>\n",
       "      <td>0.0</td>\n",
       "      <td>0.0</td>\n",
       "      <td>0.0</td>\n",
       "      <td>0.0</td>\n",
       "      <td>0.0</td>\n",
       "      <td>100.0</td>\n",
       "      <td>2021-06-08 11:33:13</td>\n",
       "      <td>1</td>\n",
       "      <td>2021-06-08 12:49:37</td>\n",
       "    </tr>\n",
       "    <tr>\n",
       "      <th>3130</th>\n",
       "      <td>12526</td>\n",
       "      <td>上海飞机制造有限公司</td>\n",
       "      <td>91310000132612172J</td>\n",
       "      <td>HARDINGE ASIA LIMITED</td>\n",
       "      <td>0.0</td>\n",
       "      <td>0.0</td>\n",
       "      <td>境外收发货人</td>\n",
       "      <td>0.0</td>\n",
       "      <td>0.0</td>\n",
       "      <td>0.0</td>\n",
       "      <td>0.0</td>\n",
       "      <td>0.0</td>\n",
       "      <td>100.0</td>\n",
       "      <td>2021-06-08 11:33:13</td>\n",
       "      <td>1</td>\n",
       "      <td>2021-06-08 12:49:37</td>\n",
       "    </tr>\n",
       "    <tr>\n",
       "      <th>3131</th>\n",
       "      <td>12527</td>\n",
       "      <td>上海飞机制造有限公司</td>\n",
       "      <td>91310000132612172J</td>\n",
       "      <td>HAWK AVIONICS H.K.,LTD</td>\n",
       "      <td>0.0</td>\n",
       "      <td>0.0</td>\n",
       "      <td>境外收发货人</td>\n",
       "      <td>0.0</td>\n",
       "      <td>0.0</td>\n",
       "      <td>0.0</td>\n",
       "      <td>0.0</td>\n",
       "      <td>0.0</td>\n",
       "      <td>100.0</td>\n",
       "      <td>2021-06-08 11:33:13</td>\n",
       "      <td>1</td>\n",
       "      <td>2021-06-08 12:49:37</td>\n",
       "    </tr>\n",
       "  </tbody>\n",
       "</table>\n",
       "<p>671 rows × 16 columns</p>\n",
       "</div>"
      ],
      "text/plain": [
       "         ID  TRADE_NAME            ORG_CODE  \\\n",
       "165   10844  上海飞机制造有限公司  91310000132612172J   \n",
       "166   10845  上海飞机制造有限公司  91310000132612172J   \n",
       "167   10846  上海飞机制造有限公司  91310000132612172J   \n",
       "168   10847  上海飞机制造有限公司  91310000132612172J   \n",
       "169   10848  上海飞机制造有限公司  91310000132612172J   \n",
       "...     ...         ...                 ...   \n",
       "3127  12523  上海飞机制造有限公司  91310000132612172J   \n",
       "3128  12524  上海飞机制造有限公司  91310000132612172J   \n",
       "3129  12525  上海飞机制造有限公司  91310000132612172J   \n",
       "3130  12526  上海飞机制造有限公司  91310000132612172J   \n",
       "3131  12527  上海飞机制造有限公司  91310000132612172J   \n",
       "\n",
       "                                      SC_COMPANY  TRADE_TIMES  TRADE_VOLUMN  \\\n",
       "165          ALERIS ROLLED PRODUCTS GERMANY GMBH         -5.0          -2.0   \n",
       "166                            AMAG ROLLING GMBH         -5.0          -2.0   \n",
       "167                          CONSTELLIUM ISSOIRE         -5.0           3.0   \n",
       "168   CONSTELLIUM ROLLED PRODUCTS RAVENSWOOD LLC         -5.0          -2.0   \n",
       "169              CYTEC ENGINEERED MATERIALS INC.         -5.0           3.0   \n",
       "...                                          ...          ...           ...   \n",
       "3127                               Goodrich test          0.0           0.0   \n",
       "3128                    Goodyear Singapore Tyres          0.0           0.0   \n",
       "3129               HANG YUE TONG COMPANY LIMITED          0.0           0.0   \n",
       "3130                       HARDINGE ASIA LIMITED          0.0           0.0   \n",
       "3131                      HAWK AVIONICS H.K.,LTD          0.0           0.0   \n",
       "\n",
       "        TYPE  RATING  BVD_RATE  STAFF_NUM  SHAREHOLDER_INCOME  INCOME  \\\n",
       "165   境外收发货人     7.0      10.0        5.0                -1.0     0.0   \n",
       "166   境外收发货人     6.0      10.0        5.0                -1.0    -2.5   \n",
       "167   境外收发货人     7.0      -1.0        5.0                -1.0    -2.5   \n",
       "168   境外收发货人     0.0       0.0        0.0                 0.0     0.0   \n",
       "169   境外收发货人     7.0       0.0       -2.0                 0.0     0.0   \n",
       "...      ...     ...       ...        ...                 ...     ...   \n",
       "3127  境外收发货人     0.0       0.0        0.0                 0.0     0.0   \n",
       "3128  境外收发货人     0.0       0.0        0.0                 0.0     0.0   \n",
       "3129  境外收发货人     0.0       0.0        0.0                 0.0     0.0   \n",
       "3130  境外收发货人     0.0       0.0        0.0                 0.0     0.0   \n",
       "3131  境外收发货人     0.0       0.0        0.0                 0.0     0.0   \n",
       "\n",
       "      SC_TOTAL_SCORE          CHECK_TIME  ISCURRENT          LASTUPDATE  \n",
       "165            100.0 2021-06-08 11:33:13          1 2021-06-08 12:49:37  \n",
       "166            100.0 2021-06-08 11:33:13          1 2021-06-08 12:49:37  \n",
       "167            100.0 2021-06-08 11:33:13          1 2021-06-08 12:49:37  \n",
       "168             88.0 2021-06-08 11:33:13          1 2021-06-08 12:49:37  \n",
       "169             98.0 2021-06-08 11:33:13          1 2021-06-08 12:49:37  \n",
       "...              ...                 ...        ...                 ...  \n",
       "3127           100.0 2021-06-08 11:33:13          1 2021-06-08 12:49:37  \n",
       "3128           100.0 2021-06-08 11:33:13          1 2021-06-08 12:49:37  \n",
       "3129           100.0 2021-06-08 11:33:13          1 2021-06-08 12:49:37  \n",
       "3130           100.0 2021-06-08 11:33:13          1 2021-06-08 12:49:37  \n",
       "3131           100.0 2021-06-08 11:33:13          1 2021-06-08 12:49:37  \n",
       "\n",
       "[671 rows x 16 columns]"
      ]
     },
     "execution_count": 158,
     "metadata": {},
     "output_type": "execute_result"
    }
   ],
   "source": [
    "df_result[df_result['ORG_CODE']=='91310000132612172J']"
   ]
  },
  {
   "cell_type": "markdown",
   "metadata": {},
   "source": [
    "# 供应链总分"
   ]
  },
  {
   "cell_type": "code",
   "execution_count": 162,
   "metadata": {},
   "outputs": [
    {
     "name": "stderr",
     "output_type": "stream",
     "text": [
      "2021-06-08 14:15:48.367 | INFO     | risk_models.config.read_config.read_func:read_oracle:82 - Read Table successfully! , Total read time spent 2.632s\n"
     ]
    }
   ],
   "source": [
    "SC1_RESULT = Read_Oracle().read_oracle(\n",
    "            sql=\"\"\" select * from {} where org_code = '{}' and iscurrent = 1 \"\"\".format('BD_RISK_RESULT_SUPPLYCHAIN_SC1','91310000132612172J'),\n",
    "            database='dbods')"
   ]
  },
  {
   "cell_type": "code",
   "execution_count": 165,
   "metadata": {},
   "outputs": [
    {
     "data": {
      "text/plain": [
       "99.95976154992549"
      ]
     },
     "execution_count": 165,
     "metadata": {},
     "output_type": "execute_result"
    }
   ],
   "source": [
    "SC1_RESULT.groupby('ORG_CODE')['SC_TOTAL_SCORE'].mean()[0]"
   ]
  },
  {
   "cell_type": "markdown",
   "metadata": {},
   "source": [
    "# 人工标签"
   ]
  },
  {
   "cell_type": "code",
   "execution_count": 39,
   "metadata": {},
   "outputs": [],
   "source": [
    "from sklearn.cluster import KMeans"
   ]
  },
  {
   "cell_type": "code",
   "execution_count": 50,
   "metadata": {},
   "outputs": [],
   "source": [
    "list1= df['TRADE_VOLUMN'].values.reshape(-1,1)"
   ]
  },
  {
   "cell_type": "code",
   "execution_count": 51,
   "metadata": {},
   "outputs": [],
   "source": [
    "clf = KMeans(n_clusters=3)  #给定类别个数为3\n",
    "s = clf.fit(list1)"
   ]
  },
  {
   "cell_type": "code",
   "execution_count": 54,
   "metadata": {},
   "outputs": [
    {
     "name": "stdout",
     "output_type": "stream",
     "text": [
      "聚类中心 [[2.01477626e+07]\n",
      " [1.89163032e+10]\n",
      " [2.46797952e+09]]\n"
     ]
    }
   ],
   "source": [
    "print ('聚类中心',clf.cluster_centers_)"
   ]
  },
  {
   "cell_type": "code",
   "execution_count": 56,
   "metadata": {},
   "outputs": [
    {
     "name": "stdout",
     "output_type": "stream",
     "text": [
      "每个样本所属的簇 [2 0 0 ... 0 0 0]\n"
     ]
    }
   ],
   "source": [
    "print ('每个样本所属的簇',clf.labels_ ) #每个点的分类)"
   ]
  },
  {
   "cell_type": "code",
   "execution_count": 57,
   "metadata": {},
   "outputs": [
    {
     "name": "stdout",
     "output_type": "stream",
     "text": [
      "5.81676059376079e+19\n"
     ]
    }
   ],
   "source": [
    "print (clf.inertia_ )#每个点到其簇的质心的距离之和"
   ]
  }
 ],
 "metadata": {
  "kernelspec": {
   "display_name": "Python 3",
   "language": "python",
   "name": "python3"
  },
  "language_info": {
   "codemirror_mode": {
    "name": "ipython",
    "version": 3
   },
   "file_extension": ".py",
   "mimetype": "text/x-python",
   "name": "python",
   "nbconvert_exporter": "python",
   "pygments_lexer": "ipython3",
   "version": "3.8.5"
  }
 },
 "nbformat": 4,
 "nbformat_minor": 4
}
