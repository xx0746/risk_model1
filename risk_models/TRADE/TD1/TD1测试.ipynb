{
 "cells": [
  {
   "cell_type": "code",
   "execution_count": 1,
   "metadata": {},
   "outputs": [],
   "source": [
    "import sys\n",
    "import os\n",
    "from os import path\n",
    "# 部署的路径\n",
    "sys.path.append('/root/bdrisk/risk_project')\n",
    "# 堡垒机的路径\n",
    "sys.path.append(path.dirname(path.dirname(path.dirname(os.getcwd()))))\n",
    "# 这是log文件的存放路径\n",
    "root_path = path.dirname(path.dirname(path.dirname(os.getcwd())))\n",
    "from risk_models import *\n",
    "# from risk_models import \n",
    "import datetime\n",
    "import numpy as np"
   ]
  },
  {
   "cell_type": "code",
   "execution_count": 78,
   "metadata": {},
   "outputs": [],
   "source": [
    "# org_code='91310000583489628X'\n",
    "org_code ='9131000008793522XH'"
   ]
  },
  {
   "cell_type": "code",
   "execution_count": 79,
   "metadata": {},
   "outputs": [],
   "source": [
    "sql='''\n",
    "select title,case_date,corp_name ,cus_code,legal_rep,entry_num,\n",
    "case  when case_type = 'zswg' then '走私违规'\n",
    "      when case_type = 'jyjy' then '检验检疫'\n",
    "      when case_type = 'zscq' then '知识产权' \n",
    "end as case_type\n",
    "from ods_zmxpq.customs_credit where iscurrent =1\n",
    "'''"
   ]
  },
  {
   "cell_type": "code",
   "execution_count": 80,
   "metadata": {},
   "outputs": [
    {
     "name": "stderr",
     "output_type": "stream",
     "text": [
      "2021-06-24 16:15:19.404 | INFO     | risk_models.config.read_config.read_func:read_oracle:82 - Read Table successfully! , Total read time spent 2.125s\n"
     ]
    }
   ],
   "source": [
    "df_news = Read_Oracle().read_oracle(sql=sql, database='dbods')"
   ]
  },
  {
   "cell_type": "code",
   "execution_count": 82,
   "metadata": {},
   "outputs": [],
   "source": [
    "sql=f'''\n",
    "select ORG_CODE,org_name from BD_RISK_CORP_INFO_BASIC where iscurrent =1 \n",
    "and ORG_CODE = '{org_code}'\n",
    "'''"
   ]
  },
  {
   "cell_type": "code",
   "execution_count": 83,
   "metadata": {},
   "outputs": [
    {
     "name": "stderr",
     "output_type": "stream",
     "text": [
      "2021-06-24 16:15:31.955 | INFO     | risk_models.config.read_config.read_func:read_oracle:82 - Read Table successfully! , Total read time spent 0.145s\n"
     ]
    }
   ],
   "source": [
    "df_corp = Read_Oracle().read_oracle(sql=sql, database='dbods')"
   ]
  },
  {
   "cell_type": "code",
   "execution_count": 85,
   "metadata": {},
   "outputs": [],
   "source": [
    "df = df_news.merge(df_corp,left_on='CORP_NAME',right_on='ORG_NAME',how='inner')"
   ]
  },
  {
   "cell_type": "code",
   "execution_count": 62,
   "metadata": {},
   "outputs": [],
   "source": [
    "df.drop(['CORP_NAME'],axis=1,inplace=True)\n",
    "df.rename(columns={'TITLE':'CASE_TITLE'},inplace=True)"
   ]
  },
  {
   "cell_type": "code",
   "execution_count": 63,
   "metadata": {},
   "outputs": [],
   "source": [
    "df['SCORE'] = -10"
   ]
  },
  {
   "cell_type": "code",
   "execution_count": 64,
   "metadata": {},
   "outputs": [],
   "source": [
    "df.fillna('',inplace=True)"
   ]
  },
  {
   "cell_type": "code",
   "execution_count": 65,
   "metadata": {},
   "outputs": [],
   "source": [
    "df['CHECK_TIME'] = datetime.datetime.strftime(datetime.datetime.now(), format='%Y-%m-%d %H:%M:%S')\n",
    "df['CHECK_TIME'] = pd.to_datetime(df['CHECK_TIME'], format='%Y-%m-%d %H:%M:%S')"
   ]
  },
  {
   "cell_type": "code",
   "execution_count": 66,
   "metadata": {},
   "outputs": [],
   "source": [
    "df = df.reset_index().rename(columns={'index': 'ID'})"
   ]
  },
  {
   "cell_type": "code",
   "execution_count": 67,
   "metadata": {},
   "outputs": [
    {
     "data": {
      "text/html": [
       "<div>\n",
       "<style scoped>\n",
       "    .dataframe tbody tr th:only-of-type {\n",
       "        vertical-align: middle;\n",
       "    }\n",
       "\n",
       "    .dataframe tbody tr th {\n",
       "        vertical-align: top;\n",
       "    }\n",
       "\n",
       "    .dataframe thead th {\n",
       "        text-align: right;\n",
       "    }\n",
       "</style>\n",
       "<table border=\"1\" class=\"dataframe\">\n",
       "  <thead>\n",
       "    <tr style=\"text-align: right;\">\n",
       "      <th></th>\n",
       "      <th>ID</th>\n",
       "      <th>CASE_TITLE</th>\n",
       "      <th>CASE_DATE</th>\n",
       "      <th>CUS_CODE</th>\n",
       "      <th>LEGAL_REP</th>\n",
       "      <th>ENTRY_NUM</th>\n",
       "      <th>CASE_TYPE</th>\n",
       "      <th>ORG_CODE</th>\n",
       "      <th>ORG_NAME</th>\n",
       "      <th>SCORE</th>\n",
       "      <th>CHECK_TIME</th>\n",
       "    </tr>\n",
       "  </thead>\n",
       "  <tbody>\n",
       "    <tr>\n",
       "      <th>0</th>\n",
       "      <td>0</td>\n",
       "      <td>中华人民共和国洋山海关关于上海同景国际物流发展有限公司行政处罚决定书（沪洋山...</td>\n",
       "      <td>2020-04-13</td>\n",
       "      <td></td>\n",
       "      <td>陈昕</td>\n",
       "      <td>220120191000406892</td>\n",
       "      <td>走私违规</td>\n",
       "      <td>91310000583489628X</td>\n",
       "      <td>上海同景国际物流发展有限公司</td>\n",
       "      <td>-10</td>\n",
       "      <td>2021-06-24 11:39:14</td>\n",
       "    </tr>\n",
       "  </tbody>\n",
       "</table>\n",
       "</div>"
      ],
      "text/plain": [
       "   ID                                 CASE_TITLE   CASE_DATE CUS_CODE  \\\n",
       "0   0  中华人民共和国洋山海关关于上海同景国际物流发展有限公司行政处罚决定书（沪洋山...  2020-04-13            \n",
       "\n",
       "  LEGAL_REP           ENTRY_NUM CASE_TYPE            ORG_CODE        ORG_NAME  \\\n",
       "0        陈昕  220120191000406892      走私违规  91310000583489628X  上海同景国际物流发展有限公司   \n",
       "\n",
       "   SCORE          CHECK_TIME  \n",
       "0    -10 2021-06-24 11:39:14  "
      ]
     },
     "execution_count": 67,
     "metadata": {},
     "output_type": "execute_result"
    }
   ],
   "source": [
    "df"
   ]
  },
  {
   "cell_type": "code",
   "execution_count": 74,
   "metadata": {},
   "outputs": [],
   "source": [
    "df['CASE_DATE'] = pd.to_datetime(df['CASE_DATE'], format='%Y-%m-%d')"
   ]
  },
  {
   "cell_type": "code",
   "execution_count": 76,
   "metadata": {},
   "outputs": [
    {
     "name": "stderr",
     "output_type": "stream",
     "text": [
      "2021-06-24 11:47:05.128 | INFO     | risk_models.config.read_config.read_func:read_oracle:82 - Read Table successfully! , Total read time spent 0.083s\n",
      "2021-06-24 11:47:05.244 | INFO     | risk_models.config.write_config.write_func:write_oracle:181 - Processing... Writing 1 rows into database\n",
      "2021-06-24 11:47:05.279 | INFO     | risk_models.config.write_config.write_func:write_oracle:188 - Insert data into BD_RISK_RESULT_TRADE_TD1 successfully! Total write time spent 0.241s\n"
     ]
    }
   ],
   "source": [
    "Write_Oracle().write_oracle('BD_RISK_RESULT_TRADE_TD1', df, org_code=org_code,alarm=None)"
   ]
  },
  {
   "cell_type": "code",
   "execution_count": 68,
   "metadata": {},
   "outputs": [],
   "source": [
    "def get_num(case_type):\n",
    "    try:\n",
    "        return df[df['CASE_TYPE']==case_type].groupby(['CASE_TYPE'])['ID'].count().iloc[0]\n",
    "    except:\n",
    "        return  0"
   ]
  },
  {
   "cell_type": "code",
   "execution_count": 69,
   "metadata": {},
   "outputs": [],
   "source": [
    "num1 = get_num('走私违规')\n",
    "num2 = get_num('检验检疫')\n",
    "num3 = get_num('知识产权')"
   ]
  },
  {
   "cell_type": "code",
   "execution_count": 70,
   "metadata": {},
   "outputs": [
    {
     "data": {
      "text/html": [
       "<div>\n",
       "<style scoped>\n",
       "    .dataframe tbody tr th:only-of-type {\n",
       "        vertical-align: middle;\n",
       "    }\n",
       "\n",
       "    .dataframe tbody tr th {\n",
       "        vertical-align: top;\n",
       "    }\n",
       "\n",
       "    .dataframe thead th {\n",
       "        text-align: right;\n",
       "    }\n",
       "</style>\n",
       "<table border=\"1\" class=\"dataframe\">\n",
       "  <thead>\n",
       "    <tr style=\"text-align: right;\">\n",
       "      <th></th>\n",
       "      <th>ID</th>\n",
       "      <th>CHECK_TIME</th>\n",
       "      <th>ORG_CODE</th>\n",
       "      <th>MODEL_CODE</th>\n",
       "      <th>CHILD_MODEL_CODE</th>\n",
       "      <th>ALARM_REASON</th>\n",
       "      <th>ALARM_NUMBER</th>\n",
       "    </tr>\n",
       "  </thead>\n",
       "  <tbody>\n",
       "    <tr>\n",
       "      <th>0</th>\n",
       "      <td>0</td>\n",
       "      <td>2021-06-24 11:39:17</td>\n",
       "      <td>91310000583489628X</td>\n",
       "      <td>TRADE</td>\n",
       "      <td>TD1</td>\n",
       "      <td>发现涉及走私违规案件1起</td>\n",
       "      <td>1</td>\n",
       "    </tr>\n",
       "  </tbody>\n",
       "</table>\n",
       "</div>"
      ],
      "text/plain": [
       "   ID          CHECK_TIME            ORG_CODE MODEL_CODE CHILD_MODEL_CODE  \\\n",
       "0   0 2021-06-24 11:39:17  91310000583489628X      TRADE              TD1   \n",
       "\n",
       "   ALARM_REASON  ALARM_NUMBER  \n",
       "0  发现涉及走私违规案件1起             1  "
      ]
     },
     "execution_count": 70,
     "metadata": {},
     "output_type": "execute_result"
    }
   ],
   "source": [
    "alarm_reason = [{'case_type':'走私违规','num': num1},\n",
    "                {'case_type':'检验检疫','num': num2},\n",
    "                {'case_type':'知识产权','num': num3}\n",
    "                ]\n",
    "df_alarm = []\n",
    "for i in alarm_reason:\n",
    "    if i['num'] != 0:\n",
    "        \n",
    "        temp = {}\n",
    "        temp['CHECK_TIME'] = datetime.datetime.now().strftime(\"%Y-%m-%d %H:%M:%S\")\n",
    "        temp['ORG_CODE'] = '91310000583489628X'\n",
    "        temp['MODEL_CODE'] = 'TRADE'\n",
    "        temp['CHILD_MODEL_CODE'] = 'TD1'\n",
    "        temp['ALARM_REASON'] = f'发现涉及'+i['case_type']+'案件'+str(i['num'])+'起'\n",
    "        temp['ALARM_NUMBER'] = int(i['num']) \n",
    "        df_alarm.append(temp)\n",
    "    else:\n",
    "        pass\n",
    "df_alarm = pd.DataFrame(df_alarm)\n",
    "df_alarm = df_alarm.reset_index().rename(columns={'index': 'ID'})\n",
    "df_alarm['CHECK_TIME'] = pd.to_datetime(df_alarm['CHECK_TIME'], format='%Y-%m-%d %H:%M:%S')\n",
    "df_alarm"
   ]
  },
  {
   "cell_type": "code",
   "execution_count": 77,
   "metadata": {},
   "outputs": [
    {
     "name": "stderr",
     "output_type": "stream",
     "text": [
      "2021-06-24 11:47:43.356 | INFO     | risk_models.config.read_config.read_func:read_oracle:82 - Read Table successfully! , Total read time spent 3.692s\n",
      "2021-06-24 11:47:43.546 | INFO     | risk_models.config.write_config.write_func:write_oracle:181 - Processing... Writing 1 rows into database\n",
      "2021-06-24 11:47:43.598 | INFO     | risk_models.config.write_config.write_func:write_oracle:188 - Insert data into BD_RISK_ALARM_ITEM successfully! Total write time spent 3.940s\n"
     ]
    }
   ],
   "source": [
    "if df_alarm.empty:\n",
    "    print('没有异常情况')\n",
    "else:\n",
    "    Write_Oracle().write_oracle('BD_RISK_ALARM_ITEM', df_alarm, org_code=org_code,\n",
    "                                alarm=['TRADE', 'TD1'])"
   ]
  },
  {
   "cell_type": "code",
   "execution_count": null,
   "metadata": {},
   "outputs": [],
   "source": []
  }
 ],
 "metadata": {
  "kernelspec": {
   "display_name": "Python 3",
   "language": "python",
   "name": "python3"
  },
  "language_info": {
   "codemirror_mode": {
    "name": "ipython",
    "version": 3
   },
   "file_extension": ".py",
   "mimetype": "text/x-python",
   "name": "python",
   "nbconvert_exporter": "python",
   "pygments_lexer": "ipython3",
   "version": "3.8.5"
  }
 },
 "nbformat": 4,
 "nbformat_minor": 4
}
