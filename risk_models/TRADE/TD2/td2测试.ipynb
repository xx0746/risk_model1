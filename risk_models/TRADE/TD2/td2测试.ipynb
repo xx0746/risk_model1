{
 "cells": [
  {
   "cell_type": "code",
   "execution_count": 2,
   "metadata": {},
   "outputs": [],
   "source": [
    "import sys\n",
    "import os\n",
    "from os import path\n",
    "# 部署的路径\n",
    "sys.path.append('/root/bdrisk/risk_project')\n",
    "# 堡垒机的路径\n",
    "sys.path.append(path.dirname(path.dirname(path.dirname(os.getcwd()))))\n",
    "# 这是log文件的存放路径\n",
    "root_path = path.dirname(path.dirname(path.dirname(os.getcwd())))\n",
    "from risk_models import *\n",
    "# from risk_models import \n",
    "import datetime\n",
    "import numpy as np"
   ]
  },
  {
   "cell_type": "code",
   "execution_count": 9,
   "metadata": {},
   "outputs": [
    {
     "data": {
      "text/plain": [
       "2021"
      ]
     },
     "execution_count": 9,
     "metadata": {},
     "output_type": "execute_result"
    }
   ],
   "source": [
    "datetime.datetime.now().year"
   ]
  },
  {
   "cell_type": "code",
   "execution_count": 2,
   "metadata": {},
   "outputs": [],
   "source": [
    "# 企业货值与货类统计\n",
    "sql='''\n",
    "select c.UNF_SC_ID, a.TRADE_CODE,a.START_TIME,a.End_time,a.TRADE_NAME_CN,a.I_E_MARK,\n",
    "a.CARGO_SUB_CATEGORY_CODE,a.CARGO_SUB_CATEGORY_NAME,a.SUM_GOODS_GROSS_VALUE_RMB\n",
    "from DW_STA.FT_STA_GOODSOWNER_MAIN_CLASS a \n",
    "left join dw_corp_basic.dw_corp_cusdec c\n",
    "on a.trade_code = c.CUS_CODE_ENT\n",
    "inner join dim.DIM_FTZ_CORP b\n",
    "on c.UNF_SC_ID = b.UNI_SC_ID\n",
    "where c.isdeleted =0\n",
    "'''"
   ]
  },
  {
   "cell_type": "code",
   "execution_count": 3,
   "metadata": {},
   "outputs": [
    {
     "name": "stderr",
     "output_type": "stream",
     "text": [
      "2021-06-16 17:49:18.831 | INFO     | risk_models.config.read_config.read_func:read_oracle:82 - Read Table successfully! , Total read time spent 2.741s\n"
     ]
    }
   ],
   "source": [
    "df_model1 = Read_Oracle().read_oracle(sql=sql, database='dbdw')"
   ]
  },
  {
   "cell_type": "code",
   "execution_count": 4,
   "metadata": {},
   "outputs": [],
   "source": [
    "# 退单率查验率数据读取\n",
    "sql='''select to_char(to_date(a.STARTDT),'yyyy/mm')  as startdt,\n",
    "sum(SUM_ENTRY) as SUM_ENTRY,\n",
    "sum(SUM_RETURN_FLAG) as SUM_RETURN_FLAG,\n",
    "sum(SUM_INSPECTION) as SUM_INSPECTION,\n",
    "sum(SUM_INSPECTION_NOPASS) as SUM_INSPECTION_NOPASS,\n",
    "TRADE_CODE_SCC,\n",
    "TRADE_NAME_CN \n",
    "from DW_STA.FT_CUS_DWS_ENTRY a \n",
    "left join dim.dim_trader c\n",
    "on a.TRADE_CODE_KEY = c.TRADE_KEY\n",
    "inner join dim.DIM_FTZ_CORP b\n",
    "on c.TRADE_CODE_SCC = b.UNI_SC_ID\n",
    "where c.iscurrent =1\n",
    "group by TRADE_CODE_SCC,TRADE_NAME_CN, to_char(to_date(a.STARTDT),'yyyy/mm')'''"
   ]
  },
  {
   "cell_type": "code",
   "execution_count": 5,
   "metadata": {},
   "outputs": [
    {
     "name": "stderr",
     "output_type": "stream",
     "text": [
      "2021-06-16 17:49:29.011 | INFO     | risk_models.config.read_config.read_func:read_oracle:82 - Read Table successfully! , Total read time spent 10.12s\n"
     ]
    }
   ],
   "source": [
    "df_model2 = Read_Oracle().read_oracle(sql=sql, database='dbdw')"
   ]
  },
  {
   "cell_type": "code",
   "execution_count": 6,
   "metadata": {},
   "outputs": [],
   "source": [
    "dt = datetime.datetime(2021, 5, 1)\n",
    "target_dt = pd.DatetimeIndex([dt])[0]\n",
    "org_code='9131000008793522XH'"
   ]
  },
  {
   "cell_type": "code",
   "execution_count": 7,
   "metadata": {},
   "outputs": [],
   "source": [
    "df = df_model1.groupby(['UNF_SC_ID','START_TIME'])['SUM_GOODS_GROSS_VALUE_RMB'].sum().reset_index()\n",
    "# 构建基础df\n",
    "df = df[(df['START_TIME'] == target_dt)]"
   ]
  },
  {
   "cell_type": "code",
   "execution_count": 8,
   "metadata": {},
   "outputs": [
    {
     "data": {
      "text/html": [
       "<div>\n",
       "<style scoped>\n",
       "    .dataframe tbody tr th:only-of-type {\n",
       "        vertical-align: middle;\n",
       "    }\n",
       "\n",
       "    .dataframe tbody tr th {\n",
       "        vertical-align: top;\n",
       "    }\n",
       "\n",
       "    .dataframe thead th {\n",
       "        text-align: right;\n",
       "    }\n",
       "</style>\n",
       "<table border=\"1\" class=\"dataframe\">\n",
       "  <thead>\n",
       "    <tr style=\"text-align: right;\">\n",
       "      <th></th>\n",
       "      <th>UNF_SC_ID</th>\n",
       "      <th>START_TIME</th>\n",
       "      <th>SUM_GOODS_GROSS_VALUE_RMB</th>\n",
       "    </tr>\n",
       "  </thead>\n",
       "  <tbody>\n",
       "    <tr>\n",
       "      <th>116</th>\n",
       "      <td>9131000008793522XH</td>\n",
       "      <td>2021-05-01</td>\n",
       "      <td>5.277566e+07</td>\n",
       "    </tr>\n",
       "  </tbody>\n",
       "</table>\n",
       "</div>"
      ],
      "text/plain": [
       "              UNF_SC_ID START_TIME  SUM_GOODS_GROSS_VALUE_RMB\n",
       "116  9131000008793522XH 2021-05-01               5.277566e+07"
      ]
     },
     "execution_count": 8,
     "metadata": {},
     "output_type": "execute_result"
    }
   ],
   "source": [
    "# 构建目标企业的df\n",
    "final = df[(df['START_TIME'] == target_dt)& (df['UNF_SC_ID']==org_code)]\n",
    "final"
   ]
  },
  {
   "cell_type": "code",
   "execution_count": 9,
   "metadata": {},
   "outputs": [],
   "source": [
    "# 挖掘企业陌生货类\n",
    "old_list = df_model1[df_model1['START_TIME'].apply(lambda x : x != target_dt) & (df_model1['UNF_SC_ID']==org_code)][['CARGO_SUB_CATEGORY_CODE','CARGO_SUB_CATEGORY_NAME']].to_dict('records')\n",
    "new_list = df_model1[df_model1['START_TIME'].apply(lambda x : x == target_dt) & (df_model1['UNF_SC_ID']==org_code)][['CARGO_SUB_CATEGORY_CODE','CARGO_SUB_CATEGORY_NAME']].to_dict('records')\n",
    "error_list=[]\n",
    "for new_type in new_list:\n",
    "    if new_type not in old_list:\n",
    "        error_list.append(new_type)"
   ]
  },
  {
   "cell_type": "code",
   "execution_count": 10,
   "metadata": {},
   "outputs": [
    {
     "data": {
      "text/plain": [
       "[{'CARGO_SUB_CATEGORY_CODE': '3901', 'CARGO_SUB_CATEGORY_NAME': '乙烯聚合物'},\n",
       " {'CARGO_SUB_CATEGORY_CODE': '7219', 'CARGO_SUB_CATEGORY_NAME': '不锈钢平板轧材'},\n",
       " {'CARGO_SUB_CATEGORY_CODE': '7210', 'CARGO_SUB_CATEGORY_NAME': '铁平板轧材'}]"
      ]
     },
     "execution_count": 10,
     "metadata": {},
     "output_type": "execute_result"
    }
   ],
   "source": [
    "# 列表去重，构建新的企业货类列表\n",
    "new_l1 = []\n",
    "for i in error_list:\n",
    "    if i not in new_l1:\n",
    "        new_l1.append(i)\n",
    "new_l1"
   ]
  },
  {
   "cell_type": "code",
   "execution_count": 29,
   "metadata": {},
   "outputs": [],
   "source": [
    "final.loc[:,'NEW_HSCODE_LIST']= json.dumps(new_l1,ensure_ascii=False)"
   ]
  },
  {
   "cell_type": "code",
   "execution_count": 12,
   "metadata": {},
   "outputs": [],
   "source": [
    "# 转化时间格式\n",
    "df_model2['STARTDT'] = df_model2['STARTDT'].apply(lambda x: datetime.datetime.strptime(x, '%Y/%m'))\n",
    "df_model2['RETURN_RATE'] = df_model2['SUM_INSPECTION_NOPASS'] / df_model2['SUM_ENTRY']\n",
    "df_model2['RETURN_RATE']= df_model2['RETURN_RATE'].apply(lambda x : round(x,3))\n",
    "df_model2['INSPECTION_RATE'] = df_model2['SUM_INSPECTION'] / df_model2['SUM_ENTRY']\n",
    "df_model2['INSPECTION_RATE']= df_model2['INSPECTION_RATE'].apply(lambda x : round(x,3))\n",
    "df2 = df_model2[['STARTDT','SUM_ENTRY','RETURN_RATE','INSPECTION_RATE','SUM_INSPECTION_NOPASS','TRADE_CODE_SCC','TRADE_NAME_CN']]"
   ]
  },
  {
   "cell_type": "code",
   "execution_count": 13,
   "metadata": {},
   "outputs": [
    {
     "data": {
      "text/html": [
       "<div>\n",
       "<style scoped>\n",
       "    .dataframe tbody tr th:only-of-type {\n",
       "        vertical-align: middle;\n",
       "    }\n",
       "\n",
       "    .dataframe tbody tr th {\n",
       "        vertical-align: top;\n",
       "    }\n",
       "\n",
       "    .dataframe thead th {\n",
       "        text-align: right;\n",
       "    }\n",
       "</style>\n",
       "<table border=\"1\" class=\"dataframe\">\n",
       "  <thead>\n",
       "    <tr style=\"text-align: right;\">\n",
       "      <th></th>\n",
       "      <th>UNF_SC_ID</th>\n",
       "      <th>START_TIME</th>\n",
       "      <th>SUM_GOODS_GROSS_VALUE_RMB</th>\n",
       "      <th>NEW_HSCODE_LIST</th>\n",
       "      <th>SUM_ENTRY</th>\n",
       "      <th>RETURN_RATE</th>\n",
       "      <th>INSPECTION_RATE</th>\n",
       "      <th>SUM_INSPECTION_NOPASS</th>\n",
       "      <th>TRADE_NAME_CN</th>\n",
       "    </tr>\n",
       "  </thead>\n",
       "  <tbody>\n",
       "    <tr>\n",
       "      <th>0</th>\n",
       "      <td>9131000008793522XH</td>\n",
       "      <td>2021-05-01</td>\n",
       "      <td>5.277566e+07</td>\n",
       "      <td>[{\"CARGO_SUB_CATEGORY_CODE\": \"3901\", \"CARGO_SU...</td>\n",
       "      <td>53</td>\n",
       "      <td>0.0</td>\n",
       "      <td>0.094</td>\n",
       "      <td>0</td>\n",
       "      <td>上海怡亚通供应链管理有限公司</td>\n",
       "    </tr>\n",
       "  </tbody>\n",
       "</table>\n",
       "</div>"
      ],
      "text/plain": [
       "            UNF_SC_ID START_TIME  SUM_GOODS_GROSS_VALUE_RMB  \\\n",
       "0  9131000008793522XH 2021-05-01               5.277566e+07   \n",
       "\n",
       "                                     NEW_HSCODE_LIST  SUM_ENTRY  RETURN_RATE  \\\n",
       "0  [{\"CARGO_SUB_CATEGORY_CODE\": \"3901\", \"CARGO_SU...         53          0.0   \n",
       "\n",
       "   INSPECTION_RATE  SUM_INSPECTION_NOPASS   TRADE_NAME_CN  \n",
       "0            0.094                      0  上海怡亚通供应链管理有限公司  "
      ]
     },
     "execution_count": 13,
     "metadata": {},
     "output_type": "execute_result"
    }
   ],
   "source": [
    "final = final.merge(df2,left_on=['UNF_SC_ID','START_TIME'],right_on=['TRADE_CODE_SCC','STARTDT'],how='left')\n",
    "final = final.drop(columns=['STARTDT','TRADE_CODE_SCC'],axis=1)\n",
    "final"
   ]
  },
  {
   "cell_type": "code",
   "execution_count": 14,
   "metadata": {},
   "outputs": [],
   "source": [
    "final.rename(columns={'UNF_SC_ID':'ORG_CODE','START_TIME':'BIZ_DATE','SUM_GOODS_GROSS_VALUE_RMB':'ENTRY_VALUE','SUM_ENTRY':'ENTRY_NUM','SUM_INSPECTION_NOPASS':'NOPASS_NUM','TRADE_NAME_CN':'ORG_NAME'},inplace=True)"
   ]
  },
  {
   "cell_type": "code",
   "execution_count": 15,
   "metadata": {},
   "outputs": [
    {
     "data": {
      "text/html": [
       "<div>\n",
       "<style scoped>\n",
       "    .dataframe tbody tr th:only-of-type {\n",
       "        vertical-align: middle;\n",
       "    }\n",
       "\n",
       "    .dataframe tbody tr th {\n",
       "        vertical-align: top;\n",
       "    }\n",
       "\n",
       "    .dataframe thead th {\n",
       "        text-align: right;\n",
       "    }\n",
       "</style>\n",
       "<table border=\"1\" class=\"dataframe\">\n",
       "  <thead>\n",
       "    <tr style=\"text-align: right;\">\n",
       "      <th></th>\n",
       "      <th>ORG_CODE</th>\n",
       "      <th>BIZ_DATE</th>\n",
       "      <th>ENTRY_VALUE</th>\n",
       "      <th>NEW_HSCODE_LIST</th>\n",
       "      <th>ENTRY_NUM</th>\n",
       "      <th>RETURN_RATE</th>\n",
       "      <th>INSPECTION_RATE</th>\n",
       "      <th>NOPASS_NUM</th>\n",
       "      <th>ORG_NAME</th>\n",
       "    </tr>\n",
       "  </thead>\n",
       "  <tbody>\n",
       "    <tr>\n",
       "      <th>0</th>\n",
       "      <td>9131000008793522XH</td>\n",
       "      <td>2021-05-01</td>\n",
       "      <td>5.277566e+07</td>\n",
       "      <td>[{\"CARGO_SUB_CATEGORY_CODE\": \"3901\", \"CARGO_SU...</td>\n",
       "      <td>53</td>\n",
       "      <td>0.0</td>\n",
       "      <td>0.094</td>\n",
       "      <td>0</td>\n",
       "      <td>上海怡亚通供应链管理有限公司</td>\n",
       "    </tr>\n",
       "  </tbody>\n",
       "</table>\n",
       "</div>"
      ],
      "text/plain": [
       "             ORG_CODE   BIZ_DATE   ENTRY_VALUE  \\\n",
       "0  9131000008793522XH 2021-05-01  5.277566e+07   \n",
       "\n",
       "                                     NEW_HSCODE_LIST  ENTRY_NUM  RETURN_RATE  \\\n",
       "0  [{\"CARGO_SUB_CATEGORY_CODE\": \"3901\", \"CARGO_SU...         53          0.0   \n",
       "\n",
       "   INSPECTION_RATE  NOPASS_NUM        ORG_NAME  \n",
       "0            0.094           0  上海怡亚通供应链管理有限公司  "
      ]
     },
     "execution_count": 15,
     "metadata": {},
     "output_type": "execute_result"
    }
   ],
   "source": [
    "final"
   ]
  },
  {
   "cell_type": "code",
   "execution_count": 16,
   "metadata": {},
   "outputs": [],
   "source": [
    "risk_a = final['NEW_HSCODE_LIST'].apply(lambda x: '发现{}起陌生交易货类异常'.format(len(json.loads(x))) if len(json.loads(x))> 0 else '')\n",
    "risk_b = final['RETURN_RATE'].apply(lambda x: '退单率异常' if x >=0.1 else '')\n",
    "risk_c = final['INSPECTION_RATE'].apply(lambda x: '查验率异常' if x >=0.1 else '')\n",
    "risk_d = final['NOPASS_NUM'].apply(lambda x : '发现{}起海关查获事件'.format(x) if x > 0 else '')\n",
    "final['RISK_LABEL'] = ';'.join(i for i in [risk_a[0],risk_b[0],risk_c[0],risk_d[0]] if i != '')"
   ]
  },
  {
   "cell_type": "code",
   "execution_count": 17,
   "metadata": {},
   "outputs": [],
   "source": [
    "score_a = final['NEW_HSCODE_LIST'].apply(lambda x: -0.2 * len(json.loads(x)) if len(json.loads(x))> 0 else 0)\n",
    "score_b = final['RETURN_RATE'].apply(lambda x: -0.1 * ((x-0.1)/0.1)if x >=0.1 else 0)\n",
    "score_c = final['INSPECTION_RATE'].apply(lambda x: -0.1 * ((x-0.1)/0.1)if x >=0.1 else 0)\n",
    "score_d = final['NOPASS_NUM'].apply(lambda x : -1 * x if x > 0 else 0)\n",
    "final['SCORE'] = score_a + score_b + score_c +score_d"
   ]
  },
  {
   "cell_type": "code",
   "execution_count": 18,
   "metadata": {},
   "outputs": [],
   "source": [
    "final['CHECK_TIME'] = datetime.datetime.strftime(datetime.datetime.now(), format='%Y-%m-%d %H:%M:%S')\n",
    "final['CHECK_TIME'] = pd.to_datetime(final['CHECK_TIME'], format='%Y-%m-%d %H:%M:%S')"
   ]
  },
  {
   "cell_type": "code",
   "execution_count": 19,
   "metadata": {},
   "outputs": [],
   "source": [
    "final = final.reset_index().rename(columns={'index': 'ID'})"
   ]
  },
  {
   "cell_type": "code",
   "execution_count": 26,
   "metadata": {},
   "outputs": [
    {
     "name": "stderr",
     "output_type": "stream",
     "text": [
      "2021-06-16 17:50:24.433 | INFO     | risk_models.config.read_config.read_func:read_oracle:82 - Read Table successfully! , Total read time spent 0.082s\n",
      "2021-06-16 17:50:24.543 | INFO     | risk_models.config.write_config.write_func:write_oracle:181 - Processing... Writing 1 rows into database\n",
      "2021-06-16 17:50:24.582 | INFO     | risk_models.config.write_config.write_func:write_oracle:188 - Insert data into BD_RISK_RESULT_TRADE_TD2 successfully! Total write time spent 0.237s\n"
     ]
    }
   ],
   "source": [
    "Write_Oracle().write_oracle('BD_RISK_RESULT_TRADE_TD2', final, org_code=org_code, alarm=None, iscurrent=False)"
   ]
  },
  {
   "cell_type": "code",
   "execution_count": 27,
   "metadata": {},
   "outputs": [
    {
     "ename": "NameError",
     "evalue": "name 'self' is not defined",
     "output_type": "error",
     "traceback": [
      "\u001b[1;31m---------------------------------------------------------------------------\u001b[0m",
      "\u001b[1;31mNameError\u001b[0m                                 Traceback (most recent call last)",
      "\u001b[1;32m<ipython-input-27-cd6efda9e12b>\u001b[0m in \u001b[0;36m<module>\u001b[1;34m\u001b[0m\n\u001b[0;32m     17\u001b[0m     \u001b[0mprint\u001b[0m\u001b[1;33m(\u001b[0m\u001b[1;34m'没有异常情况'\u001b[0m\u001b[1;33m)\u001b[0m\u001b[1;33m\u001b[0m\u001b[1;33m\u001b[0m\u001b[0m\n\u001b[0;32m     18\u001b[0m \u001b[1;32melse\u001b[0m\u001b[1;33m:\u001b[0m\u001b[1;33m\u001b[0m\u001b[1;33m\u001b[0m\u001b[0m\n\u001b[1;32m---> 19\u001b[1;33m     Write_Oracle().write_oracle('BD_RISK_ALARM_ITEM', df_alarm, org_code=self.org_code,\n\u001b[0m\u001b[0;32m     20\u001b[0m                                 alarm=[self.model_code, self.child_model_code])\n",
      "\u001b[1;31mNameError\u001b[0m: name 'self' is not defined"
     ]
    }
   ],
   "source": [
    "alarm_reason = []\n",
    "alarm_reason = [i for i in [risk_a[0],risk_b[0],risk_c[0],risk_d[0]] if i != '']\n",
    "df_alarm = []\n",
    "for i in alarm_reason:\n",
    "    temp = {}\n",
    "    temp['CHECK_TIME'] = datetime.datetime.now().strftime(\"%Y-%m-%d %H:%M:%S\")\n",
    "    temp['ORG_CODE'] = org_code\n",
    "    temp['MODEL_CODE'] = 'TRADE'\n",
    "    temp['CHILD_MODEL_CODE'] = 'TR2'\n",
    "    temp['ALARM_REASON'] = i\n",
    "    temp['ALARM_NUMBER'] = int(re.findall('发现(.*?)起.*?', i)[0]) +len(re.findall('退单率',i)) +len(re.findall('查验率',i)) \n",
    "    df_alarm.append(temp)\n",
    "df_alarm = pd.DataFrame(df_alarm)\n",
    "df_alarm = df_alarm.reset_index().rename(columns={'index': 'ID'})\n",
    "df_alarm['CHECK_TIME'] = pd.to_datetime(df_alarm['CHECK_TIME'], format='%Y-%m-%d %H:%M:%S')\n",
    "if df_alarm.empty:\n",
    "    print('没有异常情况')\n",
    "else:\n",
    "    Write_Oracle().write_oracle('BD_RISK_ALARM_ITEM', df_alarm, org_code=self.org_code,\n",
    "                                alarm=[self.model_code, self.child_model_code])"
   ]
  },
  {
   "cell_type": "code",
   "execution_count": 22,
   "metadata": {},
   "outputs": [
    {
     "data": {
      "text/html": [
       "<div>\n",
       "<style scoped>\n",
       "    .dataframe tbody tr th:only-of-type {\n",
       "        vertical-align: middle;\n",
       "    }\n",
       "\n",
       "    .dataframe tbody tr th {\n",
       "        vertical-align: top;\n",
       "    }\n",
       "\n",
       "    .dataframe thead th {\n",
       "        text-align: right;\n",
       "    }\n",
       "</style>\n",
       "<table border=\"1\" class=\"dataframe\">\n",
       "  <thead>\n",
       "    <tr style=\"text-align: right;\">\n",
       "      <th></th>\n",
       "      <th>ID</th>\n",
       "      <th>CHECK_TIME</th>\n",
       "      <th>ORG_CODE</th>\n",
       "      <th>MODEL_CODE</th>\n",
       "      <th>CHILD_MODEL_CODE</th>\n",
       "      <th>ALARM_REASON</th>\n",
       "      <th>ALARM_NUMBER</th>\n",
       "    </tr>\n",
       "  </thead>\n",
       "  <tbody>\n",
       "    <tr>\n",
       "      <th>0</th>\n",
       "      <td>0</td>\n",
       "      <td>2021-06-16 17:49:30</td>\n",
       "      <td>9131000008793522XH</td>\n",
       "      <td>model_code</td>\n",
       "      <td>child_model_code</td>\n",
       "      <td>发现3起陌生交易货类异常</td>\n",
       "      <td>3</td>\n",
       "    </tr>\n",
       "  </tbody>\n",
       "</table>\n",
       "</div>"
      ],
      "text/plain": [
       "   ID          CHECK_TIME            ORG_CODE  MODEL_CODE  CHILD_MODEL_CODE  \\\n",
       "0   0 2021-06-16 17:49:30  9131000008793522XH  model_code  child_model_code   \n",
       "\n",
       "   ALARM_REASON  ALARM_NUMBER  \n",
       "0  发现3起陌生交易货类异常             3  "
      ]
     },
     "execution_count": 22,
     "metadata": {},
     "output_type": "execute_result"
    }
   ],
   "source": [
    "df_alarm"
   ]
  }
 ],
 "metadata": {
  "kernelspec": {
   "display_name": "Python 3",
   "language": "python",
   "name": "python3"
  },
  "language_info": {
   "codemirror_mode": {
    "name": "ipython",
    "version": 3
   },
   "file_extension": ".py",
   "mimetype": "text/x-python",
   "name": "python",
   "nbconvert_exporter": "python",
   "pygments_lexer": "ipython3",
   "version": "3.8.5"
  }
 },
 "nbformat": 4,
 "nbformat_minor": 4
}
