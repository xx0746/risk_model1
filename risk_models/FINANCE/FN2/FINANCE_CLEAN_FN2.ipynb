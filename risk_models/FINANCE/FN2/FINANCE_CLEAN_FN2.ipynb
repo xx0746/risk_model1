{
 "cells": [
  {
   "cell_type": "code",
   "execution_count": 2,
   "metadata": {},
   "outputs": [
    {
     "name": "stderr",
     "output_type": "stream",
     "text": [
      "2021-07-13 11:17:58.401 | INFO     | risk_models.config.read_config.read_func:read_oracle:83 - Read Table successfully! , Total read time spent 0.129s\n",
      "2021-07-13 11:18:01.020 | INFO     | risk_models.config.read_config.read_func:read_oracle:83 - Read Table successfully! , Total read time spent 2.617s\n",
      "2021-07-13 11:18:01.167 | INFO     | risk_models.config.read_config.read_func:read_oracle:83 - Read Table successfully! , Total read time spent 0.103s\n",
      "2021-07-13 11:18:01.325 | INFO     | risk_models.config.write_config.write_func:write_oracle:184 - Processing... Writing 142 rows into database\n",
      "2021-07-13 11:18:01.364 | INFO     | risk_models.config.write_config.write_func:write_oracle:191 - Insert data into BD_RISK_DETAIL_FINANCE_FN2 successfully! Total write time spent 0.303s\n",
      "2021-07-13 11:18:01.381 | INFO     | risk_models.config.log_config.log_func:gen_log_json:37 - updating child_task_id:0001_0007 log msg into BD_RISK_MODEL_LOG successfully!\n",
      "2021-07-13 11:18:01.567 | INFO     | risk_models.config.write_config.write_log:write_oracle:53 - Updated child_task_id: 0001_0007 log msg into BD_RISK_MODEL_LOG successfully!\n"
     ]
    }
   ],
   "source": [
    "import sys\n",
    "import os\n",
    "from os import path\n",
    "# 部署的路径\n",
    "sys.path.append('/root/bdrisk/risk_project')\n",
    "# 堡垒机的路径\n",
    "sys.path.append(path.dirname(path.dirname(path.dirname(os.getcwd()))))\n",
    "# 这是log文件的存放路径\n",
    "root_path = path.dirname(path.dirname(path.dirname(os.getcwd())))\n",
    "from risk_models import *\n",
    "from risk_models import _name_EMS_FINANCE_INFO, _name_EMS_MANUFACTURE_TOTAL\n",
    "\n",
    "\n",
    "class FinanceCleanFn2(object):\n",
    "    def __init__(self, org_code, child_task_id, params):\n",
    "        self.child_task_id = child_task_id\n",
    "        Risk_logger(child_task_id = self.child_task_id, exec_status=None)\n",
    "\n",
    "        # 参数读取\n",
    "        self.org_code = org_code\n",
    "        self.salary_name = json.loads(params)['salary']\n",
    "        \n",
    "    def clean_fn2(self):\n",
    "        # 分别读取财务明细表和加工整机耗料明细表\n",
    "        EMS_FINANCE_INFO = Read_Oracle().read_oracle(sql= \"\"\" select * from {} where CAPXACTION != 'D' and ORG_CODE = '{}' and KSTAR = '{}' \"\"\".format(_name_EMS_FINANCE_INFO, self.org_code, self.salary_name), database = 'dbods')\n",
    "        EMS_MANUFACTURE_TOTAL = Read_Oracle().read_oracle(sql= \"\"\" select distinct batch_no, batch_type from {} where CAPXACTION != 'D' and ORG_CODE = '{}' and batch_no in (select obj_code from {} where KSTAR = '{}' and org_code = '{}')\"\"\".format(_name_EMS_MANUFACTURE_TOTAL, self.org_code, _name_EMS_FINANCE_INFO, self.salary_name, self.org_code), database = 'dbods')\n",
    "        # 根据会计科目和企业信用代码过滤财务明细表\n",
    "        #EMS_FINANCE_INFO = EMS_FINANCE_INFO[(EMS_FINANCE_INFO['KSTAR'] == self.salary_name) & (EMS_FINANCE_INFO['ORG_CODE'] == self.org_code)]\n",
    "        # 根据企业信用代码过滤加工整机耗料明细表\n",
    "        #EMS_MANUFACTURE_TOTAL = EMS_MANUFACTURE_TOTAL[EMS_MANUFACTURE_TOTAL['ORG_CODE'] == self.org_code]\n",
    "        \n",
    "        # 清洗财务明细表\n",
    "        EMS_FINANCE_INFO['TRADE_TOTAL'] = EMS_FINANCE_INFO['TRADE_TOTAL'].apply(lambda x: ''.join(x.split(',')))\n",
    "        EMS_FINANCE_INFO['TRADE_TOTAL'] = EMS_FINANCE_INFO['TRADE_TOTAL'].map(float)\n",
    "        EMS_FINANCE_INFO.dropna(axis=0, subset = ['OBJ_CODE'], inplace=True)\n",
    "        # 以OBJ_CODE/ORG_CODE为粒度进行聚合，避免一个批次有多条财务记录的情况\n",
    "        EMS_FINANCE_INFO = EMS_FINANCE_INFO.groupby(['ORG_CODE','OBJ_CODE'])['TRADE_TOTAL'].sum().reset_index()\n",
    "        \n",
    "        # 清洗加工整机耗料明细表\n",
    "        #EMS_MANUFACTURE_TOTAL.dropna(axis=0, subset = ['BATCH_NO','BATCH_TYPE'], inplace=True)\n",
    "        \n",
    "        # 汇总两张表格\n",
    "        EMS_FINANCE_LABOR_COST = EMS_FINANCE_INFO.merge(EMS_MANUFACTURE_TOTAL[['BATCH_NO','BATCH_TYPE']].drop_duplicates(), left_on = 'OBJ_CODE', right_on = 'BATCH_NO', how='left')\n",
    "        EMS_FINANCE_LABOR_COST = EMS_FINANCE_LABOR_COST[['ORG_CODE','BATCH_TYPE','BATCH_NO','TRADE_TOTAL']]\n",
    "        \n",
    "        # 加入ID; 模型运行时间\n",
    "        EMS_FINANCE_LABOR_COST['ID'] = range(len(EMS_FINANCE_LABOR_COST))\n",
    "        now = datetime.datetime.now().strftime(\"%Y-%m-%d %H:%M:%S\")\n",
    "        EMS_FINANCE_LABOR_COST['CHECK_TIME'] = datetime.datetime.strptime(now, \"%Y-%m-%d %H:%M:%S\")\n",
    "        \n",
    "        # 重新排序ORG\n",
    "        FINANCE_LABOR_COST_DETAIL = EMS_FINANCE_LABOR_COST[['ID','ORG_CODE','BATCH_TYPE','BATCH_NO','TRADE_TOTAL','CHECK_TIME']]\n",
    "        \n",
    "        Write_Oracle().write_oracle('BD_RISK_DETAIL_FINANCE_FN2', FINANCE_LABOR_COST_DETAIL, org_code = self.org_code, alarm=None)\n",
    "\n",
    "    def run_clean_fn2(self):\n",
    "        try:\n",
    "            self.clean_fn2()\n",
    "            exec_status = 1\n",
    "        except:\n",
    "            logger.exception('model execution error')\n",
    "            exec_status = 0\n",
    "        finally:\n",
    "            Risk_logger(child_task_id = self.child_task_id, exec_status=exec_status).write_log()\n",
    "\n",
    "\n",
    "if __name__ == '__main__':\n",
    "    # 读取传入的 child_task_id，仅适用于py调用,先备注掉\n",
    "    # child_task_id = sys.argv[1]\n",
    "    child_task_id = '0001_0007'\n",
    "    org_code, param_json, base_time = read_log_table(child_task_id)\n",
    "    FinanceCleanFn2(org_code, child_task_id, params=param_json).run_clean_fn2()\n"
   ]
  }
 ],
 "metadata": {
  "kernelspec": {
   "display_name": "Python 3",
   "language": "python",
   "name": "python3"
  },
  "language_info": {
   "codemirror_mode": {
    "name": "ipython",
    "version": 3
   },
   "file_extension": ".py",
   "mimetype": "text/x-python",
   "name": "python",
   "nbconvert_exporter": "python",
   "pygments_lexer": "ipython3",
   "version": "3.8.5"
  }
 },
 "nbformat": 4,
 "nbformat_minor": 4
}
